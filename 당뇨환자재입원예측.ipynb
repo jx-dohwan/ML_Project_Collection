{
  "nbformat": 4,
  "nbformat_minor": 0,
  "metadata": {
    "colab": {
      "provenance": [],
      "machine_shape": "hm"
    },
    "kernelspec": {
      "name": "python3",
      "display_name": "Python 3"
    },
    "language_info": {
      "name": "python"
    }
  },
  "cells": [
    {
      "cell_type": "markdown",
      "source": [
        "# **[Chapter 02]**  \n",
        "**┗ 당뇨 환자 병원 재방문 예측**\n",
        "---\n",
        "> **목차(Context)**\n",
        "\n",
        "* 문제상황 및 데이터 살펴보기\n",
        "* 문제해결 프로세스 정의\n",
        "* 🥉Session 1 - 「Data 전처리 및 EDA」\n",
        "* 🥈Session 2 - 「Error analysis」\n",
        "* 🥇Session 3 - 「주제그룹 분석」"
      ],
      "metadata": {
        "id": "f8Id8v-dWg__"
      }
    },
    {
      "cell_type": "code",
      "source": [
        "# ▶ Warnings 제거\n",
        "import warnings\n",
        "warnings.filterwarnings('ignore')\n",
        "\n",
        "# ▶ Google drive mount or 폴더 클릭 후 구글드라이브 연결\n",
        "# from google.colab import drive\n",
        "# drive.mount('/content/drive')\n",
        "\n",
        "# ▶ 경로 설정 (※ Colab을 활성화시켰다면 보통 Colab Notebooks 폴더가 자동 생성)\n",
        "import os\n",
        "os.chdir(\"/content/drive/MyDrive/인공지능/ML_Project_Collection/당뇨환재재입원예측\")\n",
        "os.getcwd()\n",
        "\n"
      ],
      "metadata": {
        "colab": {
          "base_uri": "https://localhost:8080/",
          "height": 35
        },
        "id": "Xsho6OTtW8sm",
        "outputId": "cc034a5b-c08f-4383-bbed-1a52b2b841c5"
      },
      "execution_count": 23,
      "outputs": [
        {
          "output_type": "execute_result",
          "data": {
            "text/plain": [
              "'/content/drive/MyDrive/인공지능/ML_Project_Collection/당뇨환재재입원예측'"
            ],
            "application/vnd.google.colaboratory.intrinsic+json": {
              "type": "string"
            }
          },
          "metadata": {},
          "execution_count": 23
        }
      ]
    },
    {
      "cell_type": "markdown",
      "source": [
        "## **문제상황 및 데이터 살펴보기**\n",
        "---\n",
        "> **시나리오** 🏭\n",
        "\n",
        "```\n",
        "당뇨병은 세계 성인 인구의 9% 이상에 영향을 미치고 있으며, 점점 더 증가하고 있다.\n",
        "당뇨 환자는 지속적인 관찰과 치료가 필요하며, 중증 환자는 더 세심한 관리가 필요하다.\n",
        "일단, 우리의 목적은 30일 이내에 재입원해야 하는 환자를 예측하는 모델을 생성하는 것이다.\n",
        "병원에서 중증 환자의 모니터링, 조기 예약, 간호사 호출과 같은 예방 조치를 더 많이 취할 수 있다고 생각해보자.\n",
        "이는, 많은 생명을 구할 수 있는 일이 될지도 모른다.\n",
        "우리는 당뇨 환자의 재입원을 예측하는 모델을 만들어보고, 모델의 성능 향상을 위해 에러의 분포를 분석하여 성능을 향상시켜보자.\n",
        "```\n",
        "\n"
      ],
      "metadata": {
        "id": "6kfhtLT7XED8"
      }
    },
    {
      "cell_type": "code",
      "source": [
        "# openml API를 사용하여 당뇨 환자 데이터 읽어오기\n",
        "from sklearn.datasets import fetch_openml\n",
        "X_orig, y = fetch_openml(data_id=43874, as_frame=True, return_X_y=True)"
      ],
      "metadata": {
        "id": "9aA_X2duXCEK"
      },
      "execution_count": 24,
      "outputs": []
    },
    {
      "cell_type": "code",
      "source": [
        "X_orig.info()"
      ],
      "metadata": {
        "colab": {
          "base_uri": "https://localhost:8080/"
        },
        "id": "JIc4I9slXT6Q",
        "outputId": "7acc8852-cff8-4920-aeaa-fc9fb16d080c"
      },
      "execution_count": 25,
      "outputs": [
        {
          "output_type": "stream",
          "name": "stdout",
          "text": [
            "<class 'pandas.core.frame.DataFrame'>\n",
            "RangeIndex: 101766 entries, 0 to 101765\n",
            "Data columns (total 24 columns):\n",
            " #   Column                    Non-Null Count   Dtype   \n",
            "---  ------                    --------------   -----   \n",
            " 0   race                      101766 non-null  object  \n",
            " 1   gender                    101766 non-null  object  \n",
            " 2   age                       101766 non-null  object  \n",
            " 3   discharge_disposition_id  101766 non-null  object  \n",
            " 4   admission_source_id       101766 non-null  object  \n",
            " 5   time_in_hospital          101766 non-null  int64   \n",
            " 6   medical_specialty         101766 non-null  object  \n",
            " 7   num_lab_procedures        101766 non-null  int64   \n",
            " 8   num_procedures            101766 non-null  int64   \n",
            " 9   num_medications           101766 non-null  int64   \n",
            " 10  primary_diagnosis         101766 non-null  object  \n",
            " 11  number_diagnoses          101766 non-null  int64   \n",
            " 12  max_glu_serum             101766 non-null  object  \n",
            " 13  A1Cresult                 101766 non-null  object  \n",
            " 14  insulin                   101766 non-null  object  \n",
            " 15  change                    101766 non-null  object  \n",
            " 16  diabetesMed               101766 non-null  object  \n",
            " 17  medicare                  101766 non-null  category\n",
            " 18  medicaid                  101766 non-null  category\n",
            " 19  had_emergency             101766 non-null  category\n",
            " 20  had_inpatient_days        101766 non-null  category\n",
            " 21  had_outpatient_days       101766 non-null  category\n",
            " 22  readmitted                101766 non-null  object  \n",
            " 23  readmit_binary            101766 non-null  int64   \n",
            "dtypes: category(5), int64(6), object(13)\n",
            "memory usage: 15.2+ MB\n"
          ]
        }
      ]
    },
    {
      "cell_type": "markdown",
      "source": [
        "> **데이터 살펴보기**\n",
        "\n",
        "* 환자 입원 당시 측정 데이터\n",
        "* 데이터 명세 ⬇\n",
        "\n",
        "|Column|Description|\n",
        "|:---|:---|\n",
        "|Features|환자 입원 기간 내 관련 정보|\n",
        "|Class|readmit_30_days|"
      ],
      "metadata": {
        "id": "J6i227ScXZKr"
      }
    },
    {
      "cell_type": "code",
      "source": [
        "# 각 컬럼별로 값을 실제로 확인해본다.\n",
        "X_orig.sample(n=5)"
      ],
      "metadata": {
        "colab": {
          "base_uri": "https://localhost:8080/",
          "height": 400
        },
        "id": "38W3jQnzXVXf",
        "outputId": "9f4c5dab-674f-4893-9530-b8efb27b7dfc"
      },
      "execution_count": 26,
      "outputs": [
        {
          "output_type": "execute_result",
          "data": {
            "text/plain": [
              "            race  gender            age discharge_disposition_id  \\\n",
              "66230  Caucasian  Female  Over 60 years                    Other   \n",
              "27779  Caucasian  Female  Over 60 years       Discharged to Home   \n",
              "99219      Other    Male  Over 60 years       Discharged to Home   \n",
              "65334  Caucasian  Female    30-60 years                    Other   \n",
              "46032  Caucasian  Female  Over 60 years                    Other   \n",
              "\n",
              "      admission_source_id  time_in_hospital medical_specialty  \\\n",
              "66230            Referral                 3           Missing   \n",
              "27779           Emergency                 8  InternalMedicine   \n",
              "99219           Emergency                 5           Missing   \n",
              "65334            Referral                 8           Missing   \n",
              "46032            Referral                 7             Other   \n",
              "\n",
              "       num_lab_procedures  num_procedures  num_medications primary_diagnosis  \\\n",
              "66230                  59               5               22             Other   \n",
              "27779                  61               0               19             Other   \n",
              "99219                  64               3               18             Other   \n",
              "65334                   6               0                5             Other   \n",
              "46032                  30               3               14             Other   \n",
              "\n",
              "       number_diagnoses max_glu_serum A1Cresult insulin change diabetesMed  \\\n",
              "66230                 9          None      None      No     No         Yes   \n",
              "27779                 9          None        >8  Steady     No         Yes   \n",
              "99219                 8          None      Norm      Up     Ch         Yes   \n",
              "65334                 6          None      None  Steady     No         Yes   \n",
              "46032                 9          None      None      No     Ch         Yes   \n",
              "\n",
              "      medicare medicaid had_emergency had_inpatient_days had_outpatient_days  \\\n",
              "66230    False    False         False              False               False   \n",
              "27779     True    False         False               True               False   \n",
              "99219    False    False         False              False               False   \n",
              "65334     True    False          True               True               False   \n",
              "46032    False    False         False              False                True   \n",
              "\n",
              "      readmitted  readmit_binary  \n",
              "66230        >30               1  \n",
              "27779         NO               0  \n",
              "99219        <30               1  \n",
              "65334        >30               1  \n",
              "46032         NO               0  "
            ],
            "text/html": [
              "\n",
              "  <div id=\"df-4610d91b-4ddd-4c50-8a78-82be98554b68\" class=\"colab-df-container\">\n",
              "    <div>\n",
              "<style scoped>\n",
              "    .dataframe tbody tr th:only-of-type {\n",
              "        vertical-align: middle;\n",
              "    }\n",
              "\n",
              "    .dataframe tbody tr th {\n",
              "        vertical-align: top;\n",
              "    }\n",
              "\n",
              "    .dataframe thead th {\n",
              "        text-align: right;\n",
              "    }\n",
              "</style>\n",
              "<table border=\"1\" class=\"dataframe\">\n",
              "  <thead>\n",
              "    <tr style=\"text-align: right;\">\n",
              "      <th></th>\n",
              "      <th>race</th>\n",
              "      <th>gender</th>\n",
              "      <th>age</th>\n",
              "      <th>discharge_disposition_id</th>\n",
              "      <th>admission_source_id</th>\n",
              "      <th>time_in_hospital</th>\n",
              "      <th>medical_specialty</th>\n",
              "      <th>num_lab_procedures</th>\n",
              "      <th>num_procedures</th>\n",
              "      <th>num_medications</th>\n",
              "      <th>primary_diagnosis</th>\n",
              "      <th>number_diagnoses</th>\n",
              "      <th>max_glu_serum</th>\n",
              "      <th>A1Cresult</th>\n",
              "      <th>insulin</th>\n",
              "      <th>change</th>\n",
              "      <th>diabetesMed</th>\n",
              "      <th>medicare</th>\n",
              "      <th>medicaid</th>\n",
              "      <th>had_emergency</th>\n",
              "      <th>had_inpatient_days</th>\n",
              "      <th>had_outpatient_days</th>\n",
              "      <th>readmitted</th>\n",
              "      <th>readmit_binary</th>\n",
              "    </tr>\n",
              "  </thead>\n",
              "  <tbody>\n",
              "    <tr>\n",
              "      <th>66230</th>\n",
              "      <td>Caucasian</td>\n",
              "      <td>Female</td>\n",
              "      <td>Over 60 years</td>\n",
              "      <td>Other</td>\n",
              "      <td>Referral</td>\n",
              "      <td>3</td>\n",
              "      <td>Missing</td>\n",
              "      <td>59</td>\n",
              "      <td>5</td>\n",
              "      <td>22</td>\n",
              "      <td>Other</td>\n",
              "      <td>9</td>\n",
              "      <td>None</td>\n",
              "      <td>None</td>\n",
              "      <td>No</td>\n",
              "      <td>No</td>\n",
              "      <td>Yes</td>\n",
              "      <td>False</td>\n",
              "      <td>False</td>\n",
              "      <td>False</td>\n",
              "      <td>False</td>\n",
              "      <td>False</td>\n",
              "      <td>&gt;30</td>\n",
              "      <td>1</td>\n",
              "    </tr>\n",
              "    <tr>\n",
              "      <th>27779</th>\n",
              "      <td>Caucasian</td>\n",
              "      <td>Female</td>\n",
              "      <td>Over 60 years</td>\n",
              "      <td>Discharged to Home</td>\n",
              "      <td>Emergency</td>\n",
              "      <td>8</td>\n",
              "      <td>InternalMedicine</td>\n",
              "      <td>61</td>\n",
              "      <td>0</td>\n",
              "      <td>19</td>\n",
              "      <td>Other</td>\n",
              "      <td>9</td>\n",
              "      <td>None</td>\n",
              "      <td>&gt;8</td>\n",
              "      <td>Steady</td>\n",
              "      <td>No</td>\n",
              "      <td>Yes</td>\n",
              "      <td>True</td>\n",
              "      <td>False</td>\n",
              "      <td>False</td>\n",
              "      <td>True</td>\n",
              "      <td>False</td>\n",
              "      <td>NO</td>\n",
              "      <td>0</td>\n",
              "    </tr>\n",
              "    <tr>\n",
              "      <th>99219</th>\n",
              "      <td>Other</td>\n",
              "      <td>Male</td>\n",
              "      <td>Over 60 years</td>\n",
              "      <td>Discharged to Home</td>\n",
              "      <td>Emergency</td>\n",
              "      <td>5</td>\n",
              "      <td>Missing</td>\n",
              "      <td>64</td>\n",
              "      <td>3</td>\n",
              "      <td>18</td>\n",
              "      <td>Other</td>\n",
              "      <td>8</td>\n",
              "      <td>None</td>\n",
              "      <td>Norm</td>\n",
              "      <td>Up</td>\n",
              "      <td>Ch</td>\n",
              "      <td>Yes</td>\n",
              "      <td>False</td>\n",
              "      <td>False</td>\n",
              "      <td>False</td>\n",
              "      <td>False</td>\n",
              "      <td>False</td>\n",
              "      <td>&lt;30</td>\n",
              "      <td>1</td>\n",
              "    </tr>\n",
              "    <tr>\n",
              "      <th>65334</th>\n",
              "      <td>Caucasian</td>\n",
              "      <td>Female</td>\n",
              "      <td>30-60 years</td>\n",
              "      <td>Other</td>\n",
              "      <td>Referral</td>\n",
              "      <td>8</td>\n",
              "      <td>Missing</td>\n",
              "      <td>6</td>\n",
              "      <td>0</td>\n",
              "      <td>5</td>\n",
              "      <td>Other</td>\n",
              "      <td>6</td>\n",
              "      <td>None</td>\n",
              "      <td>None</td>\n",
              "      <td>Steady</td>\n",
              "      <td>No</td>\n",
              "      <td>Yes</td>\n",
              "      <td>True</td>\n",
              "      <td>False</td>\n",
              "      <td>True</td>\n",
              "      <td>True</td>\n",
              "      <td>False</td>\n",
              "      <td>&gt;30</td>\n",
              "      <td>1</td>\n",
              "    </tr>\n",
              "    <tr>\n",
              "      <th>46032</th>\n",
              "      <td>Caucasian</td>\n",
              "      <td>Female</td>\n",
              "      <td>Over 60 years</td>\n",
              "      <td>Other</td>\n",
              "      <td>Referral</td>\n",
              "      <td>7</td>\n",
              "      <td>Other</td>\n",
              "      <td>30</td>\n",
              "      <td>3</td>\n",
              "      <td>14</td>\n",
              "      <td>Other</td>\n",
              "      <td>9</td>\n",
              "      <td>None</td>\n",
              "      <td>None</td>\n",
              "      <td>No</td>\n",
              "      <td>Ch</td>\n",
              "      <td>Yes</td>\n",
              "      <td>False</td>\n",
              "      <td>False</td>\n",
              "      <td>False</td>\n",
              "      <td>False</td>\n",
              "      <td>True</td>\n",
              "      <td>NO</td>\n",
              "      <td>0</td>\n",
              "    </tr>\n",
              "  </tbody>\n",
              "</table>\n",
              "</div>\n",
              "    <div class=\"colab-df-buttons\">\n",
              "\n",
              "  <div class=\"colab-df-container\">\n",
              "    <button class=\"colab-df-convert\" onclick=\"convertToInteractive('df-4610d91b-4ddd-4c50-8a78-82be98554b68')\"\n",
              "            title=\"Convert this dataframe to an interactive table.\"\n",
              "            style=\"display:none;\">\n",
              "\n",
              "  <svg xmlns=\"http://www.w3.org/2000/svg\" height=\"24px\" viewBox=\"0 -960 960 960\">\n",
              "    <path d=\"M120-120v-720h720v720H120Zm60-500h600v-160H180v160Zm220 220h160v-160H400v160Zm0 220h160v-160H400v160ZM180-400h160v-160H180v160Zm440 0h160v-160H620v160ZM180-180h160v-160H180v160Zm440 0h160v-160H620v160Z\"/>\n",
              "  </svg>\n",
              "    </button>\n",
              "\n",
              "  <style>\n",
              "    .colab-df-container {\n",
              "      display:flex;\n",
              "      gap: 12px;\n",
              "    }\n",
              "\n",
              "    .colab-df-convert {\n",
              "      background-color: #E8F0FE;\n",
              "      border: none;\n",
              "      border-radius: 50%;\n",
              "      cursor: pointer;\n",
              "      display: none;\n",
              "      fill: #1967D2;\n",
              "      height: 32px;\n",
              "      padding: 0 0 0 0;\n",
              "      width: 32px;\n",
              "    }\n",
              "\n",
              "    .colab-df-convert:hover {\n",
              "      background-color: #E2EBFA;\n",
              "      box-shadow: 0px 1px 2px rgba(60, 64, 67, 0.3), 0px 1px 3px 1px rgba(60, 64, 67, 0.15);\n",
              "      fill: #174EA6;\n",
              "    }\n",
              "\n",
              "    .colab-df-buttons div {\n",
              "      margin-bottom: 4px;\n",
              "    }\n",
              "\n",
              "    [theme=dark] .colab-df-convert {\n",
              "      background-color: #3B4455;\n",
              "      fill: #D2E3FC;\n",
              "    }\n",
              "\n",
              "    [theme=dark] .colab-df-convert:hover {\n",
              "      background-color: #434B5C;\n",
              "      box-shadow: 0px 1px 3px 1px rgba(0, 0, 0, 0.15);\n",
              "      filter: drop-shadow(0px 1px 2px rgba(0, 0, 0, 0.3));\n",
              "      fill: #FFFFFF;\n",
              "    }\n",
              "  </style>\n",
              "\n",
              "    <script>\n",
              "      const buttonEl =\n",
              "        document.querySelector('#df-4610d91b-4ddd-4c50-8a78-82be98554b68 button.colab-df-convert');\n",
              "      buttonEl.style.display =\n",
              "        google.colab.kernel.accessAllowed ? 'block' : 'none';\n",
              "\n",
              "      async function convertToInteractive(key) {\n",
              "        const element = document.querySelector('#df-4610d91b-4ddd-4c50-8a78-82be98554b68');\n",
              "        const dataTable =\n",
              "          await google.colab.kernel.invokeFunction('convertToInteractive',\n",
              "                                                    [key], {});\n",
              "        if (!dataTable) return;\n",
              "\n",
              "        const docLinkHtml = 'Like what you see? Visit the ' +\n",
              "          '<a target=\"_blank\" href=https://colab.research.google.com/notebooks/data_table.ipynb>data table notebook</a>'\n",
              "          + ' to learn more about interactive tables.';\n",
              "        element.innerHTML = '';\n",
              "        dataTable['output_type'] = 'display_data';\n",
              "        await google.colab.output.renderOutput(dataTable, element);\n",
              "        const docLink = document.createElement('div');\n",
              "        docLink.innerHTML = docLinkHtml;\n",
              "        element.appendChild(docLink);\n",
              "      }\n",
              "    </script>\n",
              "  </div>\n",
              "\n",
              "\n",
              "<div id=\"df-f565e3b0-8b53-4f1b-8a26-c7320d7afc77\">\n",
              "  <button class=\"colab-df-quickchart\" onclick=\"quickchart('df-f565e3b0-8b53-4f1b-8a26-c7320d7afc77')\"\n",
              "            title=\"Suggest charts.\"\n",
              "            style=\"display:none;\">\n",
              "\n",
              "<svg xmlns=\"http://www.w3.org/2000/svg\" height=\"24px\"viewBox=\"0 0 24 24\"\n",
              "     width=\"24px\">\n",
              "    <g>\n",
              "        <path d=\"M19 3H5c-1.1 0-2 .9-2 2v14c0 1.1.9 2 2 2h14c1.1 0 2-.9 2-2V5c0-1.1-.9-2-2-2zM9 17H7v-7h2v7zm4 0h-2V7h2v10zm4 0h-2v-4h2v4z\"/>\n",
              "    </g>\n",
              "</svg>\n",
              "  </button>\n",
              "\n",
              "<style>\n",
              "  .colab-df-quickchart {\n",
              "      --bg-color: #E8F0FE;\n",
              "      --fill-color: #1967D2;\n",
              "      --hover-bg-color: #E2EBFA;\n",
              "      --hover-fill-color: #174EA6;\n",
              "      --disabled-fill-color: #AAA;\n",
              "      --disabled-bg-color: #DDD;\n",
              "  }\n",
              "\n",
              "  [theme=dark] .colab-df-quickchart {\n",
              "      --bg-color: #3B4455;\n",
              "      --fill-color: #D2E3FC;\n",
              "      --hover-bg-color: #434B5C;\n",
              "      --hover-fill-color: #FFFFFF;\n",
              "      --disabled-bg-color: #3B4455;\n",
              "      --disabled-fill-color: #666;\n",
              "  }\n",
              "\n",
              "  .colab-df-quickchart {\n",
              "    background-color: var(--bg-color);\n",
              "    border: none;\n",
              "    border-radius: 50%;\n",
              "    cursor: pointer;\n",
              "    display: none;\n",
              "    fill: var(--fill-color);\n",
              "    height: 32px;\n",
              "    padding: 0;\n",
              "    width: 32px;\n",
              "  }\n",
              "\n",
              "  .colab-df-quickchart:hover {\n",
              "    background-color: var(--hover-bg-color);\n",
              "    box-shadow: 0 1px 2px rgba(60, 64, 67, 0.3), 0 1px 3px 1px rgba(60, 64, 67, 0.15);\n",
              "    fill: var(--button-hover-fill-color);\n",
              "  }\n",
              "\n",
              "  .colab-df-quickchart-complete:disabled,\n",
              "  .colab-df-quickchart-complete:disabled:hover {\n",
              "    background-color: var(--disabled-bg-color);\n",
              "    fill: var(--disabled-fill-color);\n",
              "    box-shadow: none;\n",
              "  }\n",
              "\n",
              "  .colab-df-spinner {\n",
              "    border: 2px solid var(--fill-color);\n",
              "    border-color: transparent;\n",
              "    border-bottom-color: var(--fill-color);\n",
              "    animation:\n",
              "      spin 1s steps(1) infinite;\n",
              "  }\n",
              "\n",
              "  @keyframes spin {\n",
              "    0% {\n",
              "      border-color: transparent;\n",
              "      border-bottom-color: var(--fill-color);\n",
              "      border-left-color: var(--fill-color);\n",
              "    }\n",
              "    20% {\n",
              "      border-color: transparent;\n",
              "      border-left-color: var(--fill-color);\n",
              "      border-top-color: var(--fill-color);\n",
              "    }\n",
              "    30% {\n",
              "      border-color: transparent;\n",
              "      border-left-color: var(--fill-color);\n",
              "      border-top-color: var(--fill-color);\n",
              "      border-right-color: var(--fill-color);\n",
              "    }\n",
              "    40% {\n",
              "      border-color: transparent;\n",
              "      border-right-color: var(--fill-color);\n",
              "      border-top-color: var(--fill-color);\n",
              "    }\n",
              "    60% {\n",
              "      border-color: transparent;\n",
              "      border-right-color: var(--fill-color);\n",
              "    }\n",
              "    80% {\n",
              "      border-color: transparent;\n",
              "      border-right-color: var(--fill-color);\n",
              "      border-bottom-color: var(--fill-color);\n",
              "    }\n",
              "    90% {\n",
              "      border-color: transparent;\n",
              "      border-bottom-color: var(--fill-color);\n",
              "    }\n",
              "  }\n",
              "</style>\n",
              "\n",
              "  <script>\n",
              "    async function quickchart(key) {\n",
              "      const quickchartButtonEl =\n",
              "        document.querySelector('#' + key + ' button');\n",
              "      quickchartButtonEl.disabled = true;  // To prevent multiple clicks.\n",
              "      quickchartButtonEl.classList.add('colab-df-spinner');\n",
              "      try {\n",
              "        const charts = await google.colab.kernel.invokeFunction(\n",
              "            'suggestCharts', [key], {});\n",
              "      } catch (error) {\n",
              "        console.error('Error during call to suggestCharts:', error);\n",
              "      }\n",
              "      quickchartButtonEl.classList.remove('colab-df-spinner');\n",
              "      quickchartButtonEl.classList.add('colab-df-quickchart-complete');\n",
              "    }\n",
              "    (() => {\n",
              "      let quickchartButtonEl =\n",
              "        document.querySelector('#df-f565e3b0-8b53-4f1b-8a26-c7320d7afc77 button');\n",
              "      quickchartButtonEl.style.display =\n",
              "        google.colab.kernel.accessAllowed ? 'block' : 'none';\n",
              "    })();\n",
              "  </script>\n",
              "</div>\n",
              "    </div>\n",
              "  </div>\n"
            ]
          },
          "metadata": {},
          "execution_count": 26
        }
      ]
    },
    {
      "cell_type": "markdown",
      "source": [
        "\n",
        "## **문제해결 프로세스 정의**\n",
        "---\n",
        "> **문제정의**\n",
        "\n",
        "```\n",
        "▶ 퇴원한 환자들 중에 다시 입원하는 환자들이 늘어남\n",
        "```  \n",
        "\n",
        "> **기대효과**\n",
        "\n",
        "```\n",
        "▶ 재입원 환자 예측을 통해 중증 환자 사전 조치 및 모니터링\n",
        "▶ 중증 환자 생존율 증가\n",
        "```\n",
        "\n",
        "> **해결방안**\n",
        "\n",
        "```\n",
        "▶ Binary classification을 통해 30일 이내 재입원할 환자를 분류\n",
        "▶ Session 1 🥉\n",
        " - 인코딩을 통한 데이터 준비\n",
        " - 베이스 모델 생성하기\n",
        "▶ Session 2 🥈\n",
        " - Class weight가 오류에 미치는 영향 분석\n",
        " - 하이퍼파라미터 튜닝\n",
        "▶ Session 3 🥇\n",
        " - 에러를 서로 다른 주제 그룹으로 나눠보기\n",
        " - Feature importance 알아보기\n",
        "\n",
        "기타: 에러를 줄일 수 있는 몇가지 방법에 대한 이야기\n",
        "```\n",
        "\n",
        "> **성과측정**  \n",
        "\n",
        "```\n",
        "▶ 에러 분석을 통한 점진적 성능 향상\n",
        "```\n",
        "\n",
        "> **현업적용**  \n",
        "\n",
        "```\n",
        "▶ 모델 성능 하락시 분석 포인트 탐색\n",
        "```\n",
        "\n",
        "> **주요 핵심 미리 살펴보기**  \n",
        "\n",
        "```\n",
        "▶ Session 1 → OneHotEncoder를 활용한 Feature 생성\n",
        "▶ Session 2 → LightGBMClassifier를 활용한 베이스 모델 생성, optuna를 활용한 Hyperparameter 튜닝\n",
        "▶ Session 3 → 일반적인 에러 분석, Cohort 에러 분석\n",
        "```"
      ],
      "metadata": {
        "id": "ZkCKZaI-XrKO"
      }
    },
    {
      "cell_type": "markdown",
      "source": [
        "## **Data Spec Check**\n",
        "---\n",
        "> **Data 가공 명세서**\n",
        "\n",
        "<img src = \"https://drive.google.com/uc?id=10ghjKrqQWBHS4dYzol3IIU1CzJ_vv4Ih\">"
      ],
      "metadata": {
        "id": "6-tGBfdWXtXh"
      }
    },
    {
      "cell_type": "markdown",
      "source": [
        "## **🥉Session 1**  \n",
        "**┗ Data 전처리 및 EDA**  \n",
        "---"
      ],
      "metadata": {
        "id": "sgOdWreOYV3q"
      }
    },
    {
      "cell_type": "markdown",
      "source": [
        "### 1-0. 몇 가지 필요한 Library 설치"
      ],
      "metadata": {
        "id": "CZTIEk7vYXVa"
      }
    },
    {
      "cell_type": "code",
      "source": [
        "!pip install raiwidgets lightgbm optuna shap --quiet"
      ],
      "metadata": {
        "id": "7ovccTfvXfjI"
      },
      "execution_count": 27,
      "outputs": []
    },
    {
      "cell_type": "markdown",
      "source": [
        "### 1-1. 필요한 패키지 Import"
      ],
      "metadata": {
        "id": "bcJxwh4VYc0w"
      }
    },
    {
      "cell_type": "code",
      "source": [
        "import raiwidgets\n",
        "print(dir(raiwidgets))\n"
      ],
      "metadata": {
        "colab": {
          "base_uri": "https://localhost:8080/"
        },
        "id": "BXjHKSePZ0xh",
        "outputId": "be4c9d03-3634-4c62-eaa4-e87b8b18e971"
      },
      "execution_count": 28,
      "outputs": [
        {
          "output_type": "stream",
          "name": "stdout",
          "text": [
            "['ErrorAnalysisDashboard', 'ExplanationDashboard', 'FairnessDashboard', 'ModelAnalysisDashboard', 'ModelPerformanceDashboard', 'ResponsibleAIDashboard', '__all__', '__builtins__', '__cached__', '__doc__', '__file__', '__loader__', '__name__', '__package__', '__path__', '__spec__', '__version__', 'constants', 'dashboard', 'error_analysis_constants', 'error_analysis_dashboard', 'error_analysis_dashboard_input', 'error_handling', 'explanation_constants', 'explanation_dashboard', 'explanation_dashboard_input', 'fairness_dashboard', 'fairness_metric_calculation', 'interfaces', 'model_analysis_dashboard', 'model_performance_dashboard', 'responsibleai_dashboard', 'responsibleai_dashboard_input', 'version']\n"
          ]
        }
      ]
    },
    {
      "cell_type": "code",
      "source": [
        "import math\n",
        "import os\n",
        "import numpy as np\n",
        "import pandas as pd\n",
        "\n",
        "pd.set_option('display.max_columns',50)\n",
        "pd.set_option('display.max_rows',50)\n",
        "\n",
        "\n",
        "from sklearn.preprocessing import OneHotEncoder\n",
        "from sklearn.model_selection import train_test_split\n",
        "from sklearn import metrics\n",
        "\n",
        "import lightgbm as lgb\n",
        "import optuna\n",
        "\n",
        "from responsibleai import RAIInsights\n",
        "from raiwidgets import ResponsibleAIDashboard\n",
        "# from raiwidgets.cohort import Cohort, CohortFilter, CohortFilterMethods\n",
        "import shap\n",
        "\n",
        "from IPython.display import Markdown, display\n",
        "import matplotlib.pyplot as plt\n",
        "import seaborn as sns"
      ],
      "metadata": {
        "id": "u3fF3wE-YZLo"
      },
      "execution_count": 29,
      "outputs": []
    },
    {
      "cell_type": "markdown",
      "source": [
        "### 1-2. Target 유의 변수 제거"
      ],
      "metadata": {
        "id": "qIcgNXKtMZIu"
      }
    },
    {
      "cell_type": "markdown",
      "source": [
        "_Target 변수와 상관관계가 높은 feature 2개를 제거한다_"
      ],
      "metadata": {
        "id": "pOgQdsZNMacJ"
      }
    },
    {
      "cell_type": "code",
      "source": [
        "X_orig['readmitted'].value_counts()"
      ],
      "metadata": {
        "id": "dDkrijUbYjt3",
        "colab": {
          "base_uri": "https://localhost:8080/"
        },
        "outputId": "5f3c747b-ca6f-46b8-c8b9-d235096f3f58"
      },
      "execution_count": 37,
      "outputs": [
        {
          "output_type": "execute_result",
          "data": {
            "text/plain": [
              "NO     54864\n",
              ">30    35545\n",
              "<30    11357\n",
              "Name: readmitted, dtype: int64"
            ]
          },
          "metadata": {},
          "execution_count": 37
        }
      ]
    },
    {
      "cell_type": "code",
      "source": [
        "X_orig['readmit_binary'].value_counts()"
      ],
      "metadata": {
        "colab": {
          "base_uri": "https://localhost:8080/"
        },
        "id": "d17FmjKJMe3E",
        "outputId": "0b8b6023-1b3b-4195-cc68-e60a258bf3f2"
      },
      "execution_count": 38,
      "outputs": [
        {
          "output_type": "execute_result",
          "data": {
            "text/plain": [
              "0    54864\n",
              "1    46902\n",
              "Name: readmit_binary, dtype: int64"
            ]
          },
          "metadata": {},
          "execution_count": 38
        }
      ]
    },
    {
      "cell_type": "markdown",
      "source": [
        "_Actual Target_"
      ],
      "metadata": {
        "id": "nHqNcVKdMmfW"
      }
    },
    {
      "cell_type": "code",
      "source": [
        "y.value_counts()"
      ],
      "metadata": {
        "colab": {
          "base_uri": "https://localhost:8080/"
        },
        "id": "RfO67TjcMls8",
        "outputId": "6375addb-7cad-44b4-d378-88ecfeda9fbd"
      },
      "execution_count": 39,
      "outputs": [
        {
          "output_type": "execute_result",
          "data": {
            "text/plain": [
              "0    90409\n",
              "1    11357\n",
              "Name: readmit_30_days, dtype: int64"
            ]
          },
          "metadata": {},
          "execution_count": 39
        }
      ]
    },
    {
      "cell_type": "markdown",
      "source": [
        "```\n",
        "위에서 보면 알 수 있듯이 2개의 변수는 y와 직접적으로 상관관계가 보이므로 학습 Feature에 사용할 수 없다.\n",
        "y와 직접적으로 상관관계가 있는 변수를 feature로 사용할 경우, 모든 경우에 100%에 가까운 정확도를 보이게 되며\n",
        "이는 정답을 보여주는 것과 같기 때문에 정상적인모델이라고 할 수 없다.\n",
        "```"
      ],
      "metadata": {
        "id": "n49cdCbGMrce"
      }
    },
    {
      "cell_type": "markdown",
      "source": [
        "### 1-3. 인코딩을 통한 데이터 준비"
      ],
      "metadata": {
        "id": "INt-NlTuM1ba"
      }
    },
    {
      "cell_type": "code",
      "source": [
        "#인코딩을 위한 함수 정의\n",
        "def transform_data(X_):\n",
        "    #Remove alternative target columns\n",
        "    X = X_.drop(['readmitted', 'readmit_binary'], axis=1)\n",
        "\n",
        "    #Binary encode boolean columns\n",
        "    bool_cols_l = X.select_dtypes(include=[\"category\"]).columns.tolist()\n",
        "    X[bool_cols_l] = X[bool_cols_l].astype(str).replace({\"True\":1, \"False\":0})\n",
        "    print(bool_cols_l)\n",
        "\n",
        "    #One hot encode categorical columns\n",
        "    cat_cols_l = X.select_dtypes(include=[\"object\"]).columns.tolist()\n",
        "    print(cat_cols_l)\n",
        "    ohe = OneHotEncoder(handle_unknown='ignore', sparse=False)\n",
        "    ohe_np = ohe.fit_transform(X[cat_cols_l].astype(\"category\"))\n",
        "    X[ohe.get_feature_names_out(cat_cols_l)] = ohe_np.astype(int)\n",
        "\n",
        "    #Drop original categorical columns\n",
        "    X.drop(cat_cols_l, axis=1, inplace=True)\n",
        "\n",
        "    return X"
      ],
      "metadata": {
        "id": "B1-bdnBMMpOU"
      },
      "execution_count": 42,
      "outputs": []
    },
    {
      "cell_type": "markdown",
      "source": [
        ".\n",
        "\n",
        "이 함수는 데이터를 변환하기 위한 것으로 보입니다. 구체적으로 다음과 같은 작업을 수행합니다:\n",
        "\n",
        "1. **대상 변수 제거**: `readmitted`와 `readmit_binary`라는 두 개의 열을 제거합니다. 이 두 열은 대상 변수로 추정됩니다.\n",
        "2. **이진 인코딩**: 카테고리형 데이터를 갖는 모든 열을 선택하고, 이들을 문자열로 변환한 후 \"True\"는 1로, \"False\"는 0으로 변환합니다.\n",
        "3. **원-핫 인코딩**: 문자열 데이터를 갖는 모든 열을 선택하고, 이들을 원-핫 인코딩합니다. 이렇게 생성된 새로운 열들은 원본 데이터프레임에 추가됩니다.\n",
        "4. **원본 범주형 열 제거**: 원-핫 인코딩 후 원본의 범주형 열들은 더 이상 필요하지 않으므로 제거합니다.\n",
        "\n",
        "몇 가지 주의점 및 제안사항:\n",
        "- `X_`는 원본 데이터이며, 함수 내에서 이를 복사하여 `X`에 저장하여 작업을 진행합니다. 이렇게 하면 원본 데이터에 영향을 주지 않고 작업을 수행할 수 있습니다.\n",
        "- `bool_cols_l`와 `cat_cols_l` 두 리스트를 출력하는 코드가 있습니다. 이는 디버깅 또는 확인을 위한 것으로 보이며, 필요하지 않을 경우 제거할 수 있습니다.\n",
        "- 원-핫 인코딩을 할 때 `handle_unknown='ignore'` 옵션을 사용하였습니다. 이는 모델 훈련 시에는 나타나지 않았지만 실제 사용 시에 나타날 수 있는 새로운 범주값을 무시하겠다는 의미입니다.\n",
        "\n",
        "전반적으로 코드는 깔끔하게 작성되었으며, 주어진 작업을 잘 수행할 것으로 보입니다. 특별히 수정할 부분은 보이지 않습니다."
      ],
      "metadata": {
        "id": "0yfJ28TzPuHM"
      }
    },
    {
      "cell_type": "code",
      "source": [
        "X = transform_data(X_orig)"
      ],
      "metadata": {
        "colab": {
          "base_uri": "https://localhost:8080/"
        },
        "id": "O19LX_7SN2_z",
        "outputId": "74e2acfd-f969-4210-c4b9-db62692daac1"
      },
      "execution_count": 43,
      "outputs": [
        {
          "output_type": "stream",
          "name": "stdout",
          "text": [
            "['medicare', 'medicaid', 'had_emergency', 'had_inpatient_days', 'had_outpatient_days']\n",
            "['race', 'gender', 'age', 'discharge_disposition_id', 'admission_source_id', 'medical_specialty', 'primary_diagnosis', 'max_glu_serum', 'A1Cresult', 'insulin', 'change', 'diabetesMed']\n"
          ]
        }
      ]
    },
    {
      "cell_type": "code",
      "source": [
        "print(f'Number of Features : {len(X_orig.columns)}')\n",
        "print(X_orig.columns)"
      ],
      "metadata": {
        "colab": {
          "base_uri": "https://localhost:8080/"
        },
        "id": "-xLrWai3OKVi",
        "outputId": "9220e2a3-a5f1-4772-a226-555d37788822"
      },
      "execution_count": 44,
      "outputs": [
        {
          "output_type": "stream",
          "name": "stdout",
          "text": [
            "Number of Features : 24\n",
            "Index(['race', 'gender', 'age', 'discharge_disposition_id',\n",
            "       'admission_source_id', 'time_in_hospital', 'medical_specialty',\n",
            "       'num_lab_procedures', 'num_procedures', 'num_medications',\n",
            "       'primary_diagnosis', 'number_diagnoses', 'max_glu_serum', 'A1Cresult',\n",
            "       'insulin', 'change', 'diabetesMed', 'medicare', 'medicaid',\n",
            "       'had_emergency', 'had_inpatient_days', 'had_outpatient_days',\n",
            "       'readmitted', 'readmit_binary'],\n",
            "      dtype='object')\n"
          ]
        }
      ]
    },
    {
      "cell_type": "code",
      "source": [
        "print(f'Number of Features(After processing) :  {len(X.columns)}')\n",
        "print(X.columns)"
      ],
      "metadata": {
        "colab": {
          "base_uri": "https://localhost:8080/"
        },
        "id": "2h1x7HJgOtxZ",
        "outputId": "db3bbdef-6342-4f6c-9ef8-86ee56fb659b"
      },
      "execution_count": 45,
      "outputs": [
        {
          "output_type": "stream",
          "name": "stdout",
          "text": [
            "Number of Features(After processing) :  54\n",
            "Index(['time_in_hospital', 'num_lab_procedures', 'num_procedures',\n",
            "       'num_medications', 'number_diagnoses', 'medicare', 'medicaid',\n",
            "       'had_emergency', 'had_inpatient_days', 'had_outpatient_days',\n",
            "       'race_AfricanAmerican', 'race_Asian', 'race_Caucasian', 'race_Hispanic',\n",
            "       'race_Other', 'race_Unknown', 'gender_Female', 'gender_Male',\n",
            "       'gender_Unknown/Invalid', 'age_30 years or younger', 'age_30-60 years',\n",
            "       'age_Over 60 years', 'discharge_disposition_id_Discharged to Home',\n",
            "       'discharge_disposition_id_Other', 'admission_source_id_Emergency',\n",
            "       'admission_source_id_Other', 'admission_source_id_Referral',\n",
            "       'medical_specialty_Cardiology', 'medical_specialty_Emergency/Trauma',\n",
            "       'medical_specialty_Family/GeneralPractice',\n",
            "       'medical_specialty_InternalMedicine', 'medical_specialty_Missing',\n",
            "       'medical_specialty_Other', 'primary_diagnosis_Diabetes',\n",
            "       'primary_diagnosis_Genitourinary Issues',\n",
            "       'primary_diagnosis_Musculoskeletal Issues', 'primary_diagnosis_Other',\n",
            "       'primary_diagnosis_Respiratory Issues', 'max_glu_serum_>200',\n",
            "       'max_glu_serum_>300', 'max_glu_serum_None', 'max_glu_serum_Norm',\n",
            "       'A1Cresult_>7', 'A1Cresult_>8', 'A1Cresult_None', 'A1Cresult_Norm',\n",
            "       'insulin_Down', 'insulin_No', 'insulin_Steady', 'insulin_Up',\n",
            "       'change_Ch', 'change_No', 'diabetesMed_No', 'diabetesMed_Yes'],\n",
            "      dtype='object')\n"
          ]
        }
      ]
    },
    {
      "cell_type": "markdown",
      "source": [
        "### 1-4. 데이터셋 분할"
      ],
      "metadata": {
        "id": "JkF5etxuPFjm"
      }
    },
    {
      "cell_type": "code",
      "source": [
        "rand = 42\n",
        "os.environ['PYTHONHASHSEED']=str(rand)\n",
        "np.random.seed(rand)"
      ],
      "metadata": {
        "id": "3k_mvM0xO8iB"
      },
      "execution_count": 47,
      "outputs": []
    },
    {
      "cell_type": "code",
      "source": [
        "classes_l = ['NO or > 30 days', '< 30 days']\n",
        "\n",
        "X_train, X_test, y_train, y_test = train_test_split(X, y, train_size=0.7, random_state=rand)\n",
        "X_orig_test = X_orig.loc[X_test.index]"
      ],
      "metadata": {
        "id": "-W2WYVQ-PMsZ"
      },
      "execution_count": 48,
      "outputs": []
    },
    {
      "cell_type": "code",
      "source": [
        "X_train"
      ],
      "metadata": {
        "colab": {
          "base_uri": "https://localhost:8080/",
          "height": 496
        },
        "id": "bvxTECeyPT_a",
        "outputId": "dfe062d3-7568-4bb6-c772-74306dcdfb41"
      },
      "execution_count": 49,
      "outputs": [
        {
          "output_type": "execute_result",
          "data": {
            "text/plain": [
              "       time_in_hospital  num_lab_procedures  num_procedures  num_medications  \\\n",
              "15992                10                  45               0               14   \n",
              "10606                 4                  39               0               11   \n",
              "64779                 1                  37               2                7   \n",
              "83257                 8                  45               0               24   \n",
              "4204                 12                  51               0               12   \n",
              "...                 ...                 ...             ...              ...   \n",
              "6265                  2                  35               0               12   \n",
              "54886                 5                  63               2               23   \n",
              "76820                 3                  55               1               33   \n",
              "860                  12                  77               2               21   \n",
              "15795                 1                   2               5               17   \n",
              "\n",
              "       number_diagnoses  medicare  medicaid  had_emergency  \\\n",
              "15992                 9         0         0              0   \n",
              "10606                 5         0         0              0   \n",
              "64779                 5         1         0              0   \n",
              "83257                 9         1         0              1   \n",
              "4204                  7         0         0              0   \n",
              "...                 ...       ...       ...            ...   \n",
              "6265                  9         0         0              0   \n",
              "54886                 9         0         0              0   \n",
              "76820                 9         1         0              0   \n",
              "860                   9         0         0              0   \n",
              "15795                 7         0         0              0   \n",
              "\n",
              "       had_inpatient_days  had_outpatient_days  race_AfricanAmerican  \\\n",
              "15992                   0                    0                     0   \n",
              "10606                   0                    0                     0   \n",
              "64779                   0                    0                     0   \n",
              "83257                   1                    0                     0   \n",
              "4204                    0                    0                     0   \n",
              "...                   ...                  ...                   ...   \n",
              "6265                    0                    0                     0   \n",
              "54886                   0                    0                     0   \n",
              "76820                   0                    0                     0   \n",
              "860                     0                    0                     0   \n",
              "15795                   0                    0                     0   \n",
              "\n",
              "       race_Asian  race_Caucasian  race_Hispanic  race_Other  race_Unknown  \\\n",
              "15992           0               1              0           0             0   \n",
              "10606           0               1              0           0             0   \n",
              "64779           0               1              0           0             0   \n",
              "83257           0               1              0           0             0   \n",
              "4204            0               1              0           0             0   \n",
              "...           ...             ...            ...         ...           ...   \n",
              "6265            0               1              0           0             0   \n",
              "54886           0               1              0           0             0   \n",
              "76820           0               1              0           0             0   \n",
              "860             0               1              0           0             0   \n",
              "15795           0               1              0           0             0   \n",
              "\n",
              "       gender_Female  gender_Male  gender_Unknown/Invalid  \\\n",
              "15992              1            0                       0   \n",
              "10606              1            0                       0   \n",
              "64779              1            0                       0   \n",
              "83257              1            0                       0   \n",
              "4204               1            0                       0   \n",
              "...              ...          ...                     ...   \n",
              "6265               0            1                       0   \n",
              "54886              0            1                       0   \n",
              "76820              0            1                       0   \n",
              "860                1            0                       0   \n",
              "15795              1            0                       0   \n",
              "\n",
              "       age_30 years or younger  age_30-60 years  age_Over 60 years  \\\n",
              "15992                        0                0                  1   \n",
              "10606                        0                0                  1   \n",
              "64779                        0                0                  1   \n",
              "83257                        0                0                  1   \n",
              "4204                         0                0                  1   \n",
              "...                        ...              ...                ...   \n",
              "6265                         0                0                  1   \n",
              "54886                        0                0                  1   \n",
              "76820                        0                0                  1   \n",
              "860                          0                0                  1   \n",
              "15795                        0                1                  0   \n",
              "\n",
              "       discharge_disposition_id_Discharged to Home  \\\n",
              "15992                                            1   \n",
              "10606                                            1   \n",
              "64779                                            1   \n",
              "83257                                            0   \n",
              "4204                                             0   \n",
              "...                                            ...   \n",
              "6265                                             1   \n",
              "54886                                            1   \n",
              "76820                                            0   \n",
              "860                                              0   \n",
              "15795                                            1   \n",
              "\n",
              "       discharge_disposition_id_Other  admission_source_id_Emergency  ...  \\\n",
              "15992                               0                              1  ...   \n",
              "10606                               0                              1  ...   \n",
              "64779                               0                              0  ...   \n",
              "83257                               1                              1  ...   \n",
              "4204                                1                              1  ...   \n",
              "...                               ...                            ...  ...   \n",
              "6265                                0                              1  ...   \n",
              "54886                               0                              0  ...   \n",
              "76820                               1                              0  ...   \n",
              "860                                 1                              1  ...   \n",
              "15795                               0                              0  ...   \n",
              "\n",
              "       medical_specialty_Family/GeneralPractice  \\\n",
              "15992                                         1   \n",
              "10606                                         0   \n",
              "64779                                         0   \n",
              "83257                                         0   \n",
              "4204                                          0   \n",
              "...                                         ...   \n",
              "6265                                          0   \n",
              "54886                                         0   \n",
              "76820                                         0   \n",
              "860                                           1   \n",
              "15795                                         0   \n",
              "\n",
              "       medical_specialty_InternalMedicine  medical_specialty_Missing  \\\n",
              "15992                                   0                          0   \n",
              "10606                                   0                          0   \n",
              "64779                                   1                          0   \n",
              "83257                                   0                          1   \n",
              "4204                                    0                          1   \n",
              "...                                   ...                        ...   \n",
              "6265                                    0                          0   \n",
              "54886                                   0                          1   \n",
              "76820                                   0                          0   \n",
              "860                                     0                          0   \n",
              "15795                                   0                          0   \n",
              "\n",
              "       medical_specialty_Other  primary_diagnosis_Diabetes  \\\n",
              "15992                        0                           0   \n",
              "10606                        1                           0   \n",
              "64779                        0                           0   \n",
              "83257                        0                           0   \n",
              "4204                         0                           0   \n",
              "...                        ...                         ...   \n",
              "6265                         0                           0   \n",
              "54886                        0                           0   \n",
              "76820                        1                           0   \n",
              "860                          0                           0   \n",
              "15795                        0                           0   \n",
              "\n",
              "       primary_diagnosis_Genitourinary Issues  \\\n",
              "15992                                       0   \n",
              "10606                                       0   \n",
              "64779                                       0   \n",
              "83257                                       0   \n",
              "4204                                        0   \n",
              "...                                       ...   \n",
              "6265                                        0   \n",
              "54886                                       0   \n",
              "76820                                       0   \n",
              "860                                         0   \n",
              "15795                                       0   \n",
              "\n",
              "       primary_diagnosis_Musculoskeletal Issues  primary_diagnosis_Other  \\\n",
              "15992                                         0                        1   \n",
              "10606                                         0                        1   \n",
              "64779                                         0                        1   \n",
              "83257                                         0                        1   \n",
              "4204                                          0                        1   \n",
              "...                                         ...                      ...   \n",
              "6265                                          0                        0   \n",
              "54886                                         0                        1   \n",
              "76820                                         1                        0   \n",
              "860                                           0                        0   \n",
              "15795                                         0                        1   \n",
              "\n",
              "       primary_diagnosis_Respiratory Issues  max_glu_serum_>200  \\\n",
              "15992                                     0                   0   \n",
              "10606                                     0                   0   \n",
              "64779                                     0                   0   \n",
              "83257                                     0                   0   \n",
              "4204                                      0                   0   \n",
              "...                                     ...                 ...   \n",
              "6265                                      1                   0   \n",
              "54886                                     0                   0   \n",
              "76820                                     0                   0   \n",
              "860                                       1                   0   \n",
              "15795                                     0                   0   \n",
              "\n",
              "       max_glu_serum_>300  max_glu_serum_None  max_glu_serum_Norm  \\\n",
              "15992                   0                   1                   0   \n",
              "10606                   0                   1                   0   \n",
              "64779                   0                   1                   0   \n",
              "83257                   0                   1                   0   \n",
              "4204                    0                   1                   0   \n",
              "...                   ...                 ...                 ...   \n",
              "6265                    0                   1                   0   \n",
              "54886                   0                   1                   0   \n",
              "76820                   0                   1                   0   \n",
              "860                     0                   1                   0   \n",
              "15795                   0                   1                   0   \n",
              "\n",
              "       A1Cresult_>7  A1Cresult_>8  A1Cresult_None  A1Cresult_Norm  \\\n",
              "15992             0             0               1               0   \n",
              "10606             0             0               1               0   \n",
              "64779             0             0               1               0   \n",
              "83257             0             0               1               0   \n",
              "4204              0             0               1               0   \n",
              "...             ...           ...             ...             ...   \n",
              "6265              0             0               1               0   \n",
              "54886             0             0               1               0   \n",
              "76820             0             0               1               0   \n",
              "860               0             0               1               0   \n",
              "15795             0             0               1               0   \n",
              "\n",
              "       insulin_Down  insulin_No  insulin_Steady  insulin_Up  change_Ch  \\\n",
              "15992             0           1               0           0          1   \n",
              "10606             0           1               0           0          0   \n",
              "64779             0           1               0           0          0   \n",
              "83257             1           0               0           0          1   \n",
              "4204              0           1               0           0          0   \n",
              "...             ...         ...             ...         ...        ...   \n",
              "6265              0           1               0           0          0   \n",
              "54886             0           0               0           1          1   \n",
              "76820             1           0               0           0          1   \n",
              "860               1           0               0           0          1   \n",
              "15795             0           0               1           0          1   \n",
              "\n",
              "       change_No  diabetesMed_No  diabetesMed_Yes  \n",
              "15992          0               0                1  \n",
              "10606          1               1                0  \n",
              "64779          1               1                0  \n",
              "83257          0               0                1  \n",
              "4204           1               0                1  \n",
              "...          ...             ...              ...  \n",
              "6265           1               1                0  \n",
              "54886          0               0                1  \n",
              "76820          0               0                1  \n",
              "860            0               0                1  \n",
              "15795          0               0                1  \n",
              "\n",
              "[71236 rows x 54 columns]"
            ],
            "text/html": [
              "\n",
              "  <div id=\"df-5b26d894-a741-4091-8d4f-872da5599fa9\" class=\"colab-df-container\">\n",
              "    <div>\n",
              "<style scoped>\n",
              "    .dataframe tbody tr th:only-of-type {\n",
              "        vertical-align: middle;\n",
              "    }\n",
              "\n",
              "    .dataframe tbody tr th {\n",
              "        vertical-align: top;\n",
              "    }\n",
              "\n",
              "    .dataframe thead th {\n",
              "        text-align: right;\n",
              "    }\n",
              "</style>\n",
              "<table border=\"1\" class=\"dataframe\">\n",
              "  <thead>\n",
              "    <tr style=\"text-align: right;\">\n",
              "      <th></th>\n",
              "      <th>time_in_hospital</th>\n",
              "      <th>num_lab_procedures</th>\n",
              "      <th>num_procedures</th>\n",
              "      <th>num_medications</th>\n",
              "      <th>number_diagnoses</th>\n",
              "      <th>medicare</th>\n",
              "      <th>medicaid</th>\n",
              "      <th>had_emergency</th>\n",
              "      <th>had_inpatient_days</th>\n",
              "      <th>had_outpatient_days</th>\n",
              "      <th>race_AfricanAmerican</th>\n",
              "      <th>race_Asian</th>\n",
              "      <th>race_Caucasian</th>\n",
              "      <th>race_Hispanic</th>\n",
              "      <th>race_Other</th>\n",
              "      <th>race_Unknown</th>\n",
              "      <th>gender_Female</th>\n",
              "      <th>gender_Male</th>\n",
              "      <th>gender_Unknown/Invalid</th>\n",
              "      <th>age_30 years or younger</th>\n",
              "      <th>age_30-60 years</th>\n",
              "      <th>age_Over 60 years</th>\n",
              "      <th>discharge_disposition_id_Discharged to Home</th>\n",
              "      <th>discharge_disposition_id_Other</th>\n",
              "      <th>admission_source_id_Emergency</th>\n",
              "      <th>...</th>\n",
              "      <th>medical_specialty_Family/GeneralPractice</th>\n",
              "      <th>medical_specialty_InternalMedicine</th>\n",
              "      <th>medical_specialty_Missing</th>\n",
              "      <th>medical_specialty_Other</th>\n",
              "      <th>primary_diagnosis_Diabetes</th>\n",
              "      <th>primary_diagnosis_Genitourinary Issues</th>\n",
              "      <th>primary_diagnosis_Musculoskeletal Issues</th>\n",
              "      <th>primary_diagnosis_Other</th>\n",
              "      <th>primary_diagnosis_Respiratory Issues</th>\n",
              "      <th>max_glu_serum_&gt;200</th>\n",
              "      <th>max_glu_serum_&gt;300</th>\n",
              "      <th>max_glu_serum_None</th>\n",
              "      <th>max_glu_serum_Norm</th>\n",
              "      <th>A1Cresult_&gt;7</th>\n",
              "      <th>A1Cresult_&gt;8</th>\n",
              "      <th>A1Cresult_None</th>\n",
              "      <th>A1Cresult_Norm</th>\n",
              "      <th>insulin_Down</th>\n",
              "      <th>insulin_No</th>\n",
              "      <th>insulin_Steady</th>\n",
              "      <th>insulin_Up</th>\n",
              "      <th>change_Ch</th>\n",
              "      <th>change_No</th>\n",
              "      <th>diabetesMed_No</th>\n",
              "      <th>diabetesMed_Yes</th>\n",
              "    </tr>\n",
              "  </thead>\n",
              "  <tbody>\n",
              "    <tr>\n",
              "      <th>15992</th>\n",
              "      <td>10</td>\n",
              "      <td>45</td>\n",
              "      <td>0</td>\n",
              "      <td>14</td>\n",
              "      <td>9</td>\n",
              "      <td>0</td>\n",
              "      <td>0</td>\n",
              "      <td>0</td>\n",
              "      <td>0</td>\n",
              "      <td>0</td>\n",
              "      <td>0</td>\n",
              "      <td>0</td>\n",
              "      <td>1</td>\n",
              "      <td>0</td>\n",
              "      <td>0</td>\n",
              "      <td>0</td>\n",
              "      <td>1</td>\n",
              "      <td>0</td>\n",
              "      <td>0</td>\n",
              "      <td>0</td>\n",
              "      <td>0</td>\n",
              "      <td>1</td>\n",
              "      <td>1</td>\n",
              "      <td>0</td>\n",
              "      <td>1</td>\n",
              "      <td>...</td>\n",
              "      <td>1</td>\n",
              "      <td>0</td>\n",
              "      <td>0</td>\n",
              "      <td>0</td>\n",
              "      <td>0</td>\n",
              "      <td>0</td>\n",
              "      <td>0</td>\n",
              "      <td>1</td>\n",
              "      <td>0</td>\n",
              "      <td>0</td>\n",
              "      <td>0</td>\n",
              "      <td>1</td>\n",
              "      <td>0</td>\n",
              "      <td>0</td>\n",
              "      <td>0</td>\n",
              "      <td>1</td>\n",
              "      <td>0</td>\n",
              "      <td>0</td>\n",
              "      <td>1</td>\n",
              "      <td>0</td>\n",
              "      <td>0</td>\n",
              "      <td>1</td>\n",
              "      <td>0</td>\n",
              "      <td>0</td>\n",
              "      <td>1</td>\n",
              "    </tr>\n",
              "    <tr>\n",
              "      <th>10606</th>\n",
              "      <td>4</td>\n",
              "      <td>39</td>\n",
              "      <td>0</td>\n",
              "      <td>11</td>\n",
              "      <td>5</td>\n",
              "      <td>0</td>\n",
              "      <td>0</td>\n",
              "      <td>0</td>\n",
              "      <td>0</td>\n",
              "      <td>0</td>\n",
              "      <td>0</td>\n",
              "      <td>0</td>\n",
              "      <td>1</td>\n",
              "      <td>0</td>\n",
              "      <td>0</td>\n",
              "      <td>0</td>\n",
              "      <td>1</td>\n",
              "      <td>0</td>\n",
              "      <td>0</td>\n",
              "      <td>0</td>\n",
              "      <td>0</td>\n",
              "      <td>1</td>\n",
              "      <td>1</td>\n",
              "      <td>0</td>\n",
              "      <td>1</td>\n",
              "      <td>...</td>\n",
              "      <td>0</td>\n",
              "      <td>0</td>\n",
              "      <td>0</td>\n",
              "      <td>1</td>\n",
              "      <td>0</td>\n",
              "      <td>0</td>\n",
              "      <td>0</td>\n",
              "      <td>1</td>\n",
              "      <td>0</td>\n",
              "      <td>0</td>\n",
              "      <td>0</td>\n",
              "      <td>1</td>\n",
              "      <td>0</td>\n",
              "      <td>0</td>\n",
              "      <td>0</td>\n",
              "      <td>1</td>\n",
              "      <td>0</td>\n",
              "      <td>0</td>\n",
              "      <td>1</td>\n",
              "      <td>0</td>\n",
              "      <td>0</td>\n",
              "      <td>0</td>\n",
              "      <td>1</td>\n",
              "      <td>1</td>\n",
              "      <td>0</td>\n",
              "    </tr>\n",
              "    <tr>\n",
              "      <th>64779</th>\n",
              "      <td>1</td>\n",
              "      <td>37</td>\n",
              "      <td>2</td>\n",
              "      <td>7</td>\n",
              "      <td>5</td>\n",
              "      <td>1</td>\n",
              "      <td>0</td>\n",
              "      <td>0</td>\n",
              "      <td>0</td>\n",
              "      <td>0</td>\n",
              "      <td>0</td>\n",
              "      <td>0</td>\n",
              "      <td>1</td>\n",
              "      <td>0</td>\n",
              "      <td>0</td>\n",
              "      <td>0</td>\n",
              "      <td>1</td>\n",
              "      <td>0</td>\n",
              "      <td>0</td>\n",
              "      <td>0</td>\n",
              "      <td>0</td>\n",
              "      <td>1</td>\n",
              "      <td>1</td>\n",
              "      <td>0</td>\n",
              "      <td>0</td>\n",
              "      <td>...</td>\n",
              "      <td>0</td>\n",
              "      <td>1</td>\n",
              "      <td>0</td>\n",
              "      <td>0</td>\n",
              "      <td>0</td>\n",
              "      <td>0</td>\n",
              "      <td>0</td>\n",
              "      <td>1</td>\n",
              "      <td>0</td>\n",
              "      <td>0</td>\n",
              "      <td>0</td>\n",
              "      <td>1</td>\n",
              "      <td>0</td>\n",
              "      <td>0</td>\n",
              "      <td>0</td>\n",
              "      <td>1</td>\n",
              "      <td>0</td>\n",
              "      <td>0</td>\n",
              "      <td>1</td>\n",
              "      <td>0</td>\n",
              "      <td>0</td>\n",
              "      <td>0</td>\n",
              "      <td>1</td>\n",
              "      <td>1</td>\n",
              "      <td>0</td>\n",
              "    </tr>\n",
              "    <tr>\n",
              "      <th>83257</th>\n",
              "      <td>8</td>\n",
              "      <td>45</td>\n",
              "      <td>0</td>\n",
              "      <td>24</td>\n",
              "      <td>9</td>\n",
              "      <td>1</td>\n",
              "      <td>0</td>\n",
              "      <td>1</td>\n",
              "      <td>1</td>\n",
              "      <td>0</td>\n",
              "      <td>0</td>\n",
              "      <td>0</td>\n",
              "      <td>1</td>\n",
              "      <td>0</td>\n",
              "      <td>0</td>\n",
              "      <td>0</td>\n",
              "      <td>1</td>\n",
              "      <td>0</td>\n",
              "      <td>0</td>\n",
              "      <td>0</td>\n",
              "      <td>0</td>\n",
              "      <td>1</td>\n",
              "      <td>0</td>\n",
              "      <td>1</td>\n",
              "      <td>1</td>\n",
              "      <td>...</td>\n",
              "      <td>0</td>\n",
              "      <td>0</td>\n",
              "      <td>1</td>\n",
              "      <td>0</td>\n",
              "      <td>0</td>\n",
              "      <td>0</td>\n",
              "      <td>0</td>\n",
              "      <td>1</td>\n",
              "      <td>0</td>\n",
              "      <td>0</td>\n",
              "      <td>0</td>\n",
              "      <td>1</td>\n",
              "      <td>0</td>\n",
              "      <td>0</td>\n",
              "      <td>0</td>\n",
              "      <td>1</td>\n",
              "      <td>0</td>\n",
              "      <td>1</td>\n",
              "      <td>0</td>\n",
              "      <td>0</td>\n",
              "      <td>0</td>\n",
              "      <td>1</td>\n",
              "      <td>0</td>\n",
              "      <td>0</td>\n",
              "      <td>1</td>\n",
              "    </tr>\n",
              "    <tr>\n",
              "      <th>4204</th>\n",
              "      <td>12</td>\n",
              "      <td>51</td>\n",
              "      <td>0</td>\n",
              "      <td>12</td>\n",
              "      <td>7</td>\n",
              "      <td>0</td>\n",
              "      <td>0</td>\n",
              "      <td>0</td>\n",
              "      <td>0</td>\n",
              "      <td>0</td>\n",
              "      <td>0</td>\n",
              "      <td>0</td>\n",
              "      <td>1</td>\n",
              "      <td>0</td>\n",
              "      <td>0</td>\n",
              "      <td>0</td>\n",
              "      <td>1</td>\n",
              "      <td>0</td>\n",
              "      <td>0</td>\n",
              "      <td>0</td>\n",
              "      <td>0</td>\n",
              "      <td>1</td>\n",
              "      <td>0</td>\n",
              "      <td>1</td>\n",
              "      <td>1</td>\n",
              "      <td>...</td>\n",
              "      <td>0</td>\n",
              "      <td>0</td>\n",
              "      <td>1</td>\n",
              "      <td>0</td>\n",
              "      <td>0</td>\n",
              "      <td>0</td>\n",
              "      <td>0</td>\n",
              "      <td>1</td>\n",
              "      <td>0</td>\n",
              "      <td>0</td>\n",
              "      <td>0</td>\n",
              "      <td>1</td>\n",
              "      <td>0</td>\n",
              "      <td>0</td>\n",
              "      <td>0</td>\n",
              "      <td>1</td>\n",
              "      <td>0</td>\n",
              "      <td>0</td>\n",
              "      <td>1</td>\n",
              "      <td>0</td>\n",
              "      <td>0</td>\n",
              "      <td>0</td>\n",
              "      <td>1</td>\n",
              "      <td>0</td>\n",
              "      <td>1</td>\n",
              "    </tr>\n",
              "    <tr>\n",
              "      <th>...</th>\n",
              "      <td>...</td>\n",
              "      <td>...</td>\n",
              "      <td>...</td>\n",
              "      <td>...</td>\n",
              "      <td>...</td>\n",
              "      <td>...</td>\n",
              "      <td>...</td>\n",
              "      <td>...</td>\n",
              "      <td>...</td>\n",
              "      <td>...</td>\n",
              "      <td>...</td>\n",
              "      <td>...</td>\n",
              "      <td>...</td>\n",
              "      <td>...</td>\n",
              "      <td>...</td>\n",
              "      <td>...</td>\n",
              "      <td>...</td>\n",
              "      <td>...</td>\n",
              "      <td>...</td>\n",
              "      <td>...</td>\n",
              "      <td>...</td>\n",
              "      <td>...</td>\n",
              "      <td>...</td>\n",
              "      <td>...</td>\n",
              "      <td>...</td>\n",
              "      <td>...</td>\n",
              "      <td>...</td>\n",
              "      <td>...</td>\n",
              "      <td>...</td>\n",
              "      <td>...</td>\n",
              "      <td>...</td>\n",
              "      <td>...</td>\n",
              "      <td>...</td>\n",
              "      <td>...</td>\n",
              "      <td>...</td>\n",
              "      <td>...</td>\n",
              "      <td>...</td>\n",
              "      <td>...</td>\n",
              "      <td>...</td>\n",
              "      <td>...</td>\n",
              "      <td>...</td>\n",
              "      <td>...</td>\n",
              "      <td>...</td>\n",
              "      <td>...</td>\n",
              "      <td>...</td>\n",
              "      <td>...</td>\n",
              "      <td>...</td>\n",
              "      <td>...</td>\n",
              "      <td>...</td>\n",
              "      <td>...</td>\n",
              "      <td>...</td>\n",
              "    </tr>\n",
              "    <tr>\n",
              "      <th>6265</th>\n",
              "      <td>2</td>\n",
              "      <td>35</td>\n",
              "      <td>0</td>\n",
              "      <td>12</td>\n",
              "      <td>9</td>\n",
              "      <td>0</td>\n",
              "      <td>0</td>\n",
              "      <td>0</td>\n",
              "      <td>0</td>\n",
              "      <td>0</td>\n",
              "      <td>0</td>\n",
              "      <td>0</td>\n",
              "      <td>1</td>\n",
              "      <td>0</td>\n",
              "      <td>0</td>\n",
              "      <td>0</td>\n",
              "      <td>0</td>\n",
              "      <td>1</td>\n",
              "      <td>0</td>\n",
              "      <td>0</td>\n",
              "      <td>0</td>\n",
              "      <td>1</td>\n",
              "      <td>1</td>\n",
              "      <td>0</td>\n",
              "      <td>1</td>\n",
              "      <td>...</td>\n",
              "      <td>0</td>\n",
              "      <td>0</td>\n",
              "      <td>0</td>\n",
              "      <td>0</td>\n",
              "      <td>0</td>\n",
              "      <td>0</td>\n",
              "      <td>0</td>\n",
              "      <td>0</td>\n",
              "      <td>1</td>\n",
              "      <td>0</td>\n",
              "      <td>0</td>\n",
              "      <td>1</td>\n",
              "      <td>0</td>\n",
              "      <td>0</td>\n",
              "      <td>0</td>\n",
              "      <td>1</td>\n",
              "      <td>0</td>\n",
              "      <td>0</td>\n",
              "      <td>1</td>\n",
              "      <td>0</td>\n",
              "      <td>0</td>\n",
              "      <td>0</td>\n",
              "      <td>1</td>\n",
              "      <td>1</td>\n",
              "      <td>0</td>\n",
              "    </tr>\n",
              "    <tr>\n",
              "      <th>54886</th>\n",
              "      <td>5</td>\n",
              "      <td>63</td>\n",
              "      <td>2</td>\n",
              "      <td>23</td>\n",
              "      <td>9</td>\n",
              "      <td>0</td>\n",
              "      <td>0</td>\n",
              "      <td>0</td>\n",
              "      <td>0</td>\n",
              "      <td>0</td>\n",
              "      <td>0</td>\n",
              "      <td>0</td>\n",
              "      <td>1</td>\n",
              "      <td>0</td>\n",
              "      <td>0</td>\n",
              "      <td>0</td>\n",
              "      <td>0</td>\n",
              "      <td>1</td>\n",
              "      <td>0</td>\n",
              "      <td>0</td>\n",
              "      <td>0</td>\n",
              "      <td>1</td>\n",
              "      <td>1</td>\n",
              "      <td>0</td>\n",
              "      <td>0</td>\n",
              "      <td>...</td>\n",
              "      <td>0</td>\n",
              "      <td>0</td>\n",
              "      <td>1</td>\n",
              "      <td>0</td>\n",
              "      <td>0</td>\n",
              "      <td>0</td>\n",
              "      <td>0</td>\n",
              "      <td>1</td>\n",
              "      <td>0</td>\n",
              "      <td>0</td>\n",
              "      <td>0</td>\n",
              "      <td>1</td>\n",
              "      <td>0</td>\n",
              "      <td>0</td>\n",
              "      <td>0</td>\n",
              "      <td>1</td>\n",
              "      <td>0</td>\n",
              "      <td>0</td>\n",
              "      <td>0</td>\n",
              "      <td>0</td>\n",
              "      <td>1</td>\n",
              "      <td>1</td>\n",
              "      <td>0</td>\n",
              "      <td>0</td>\n",
              "      <td>1</td>\n",
              "    </tr>\n",
              "    <tr>\n",
              "      <th>76820</th>\n",
              "      <td>3</td>\n",
              "      <td>55</td>\n",
              "      <td>1</td>\n",
              "      <td>33</td>\n",
              "      <td>9</td>\n",
              "      <td>1</td>\n",
              "      <td>0</td>\n",
              "      <td>0</td>\n",
              "      <td>0</td>\n",
              "      <td>0</td>\n",
              "      <td>0</td>\n",
              "      <td>0</td>\n",
              "      <td>1</td>\n",
              "      <td>0</td>\n",
              "      <td>0</td>\n",
              "      <td>0</td>\n",
              "      <td>0</td>\n",
              "      <td>1</td>\n",
              "      <td>0</td>\n",
              "      <td>0</td>\n",
              "      <td>0</td>\n",
              "      <td>1</td>\n",
              "      <td>0</td>\n",
              "      <td>1</td>\n",
              "      <td>0</td>\n",
              "      <td>...</td>\n",
              "      <td>0</td>\n",
              "      <td>0</td>\n",
              "      <td>0</td>\n",
              "      <td>1</td>\n",
              "      <td>0</td>\n",
              "      <td>0</td>\n",
              "      <td>1</td>\n",
              "      <td>0</td>\n",
              "      <td>0</td>\n",
              "      <td>0</td>\n",
              "      <td>0</td>\n",
              "      <td>1</td>\n",
              "      <td>0</td>\n",
              "      <td>0</td>\n",
              "      <td>0</td>\n",
              "      <td>1</td>\n",
              "      <td>0</td>\n",
              "      <td>1</td>\n",
              "      <td>0</td>\n",
              "      <td>0</td>\n",
              "      <td>0</td>\n",
              "      <td>1</td>\n",
              "      <td>0</td>\n",
              "      <td>0</td>\n",
              "      <td>1</td>\n",
              "    </tr>\n",
              "    <tr>\n",
              "      <th>860</th>\n",
              "      <td>12</td>\n",
              "      <td>77</td>\n",
              "      <td>2</td>\n",
              "      <td>21</td>\n",
              "      <td>9</td>\n",
              "      <td>0</td>\n",
              "      <td>0</td>\n",
              "      <td>0</td>\n",
              "      <td>0</td>\n",
              "      <td>0</td>\n",
              "      <td>0</td>\n",
              "      <td>0</td>\n",
              "      <td>1</td>\n",
              "      <td>0</td>\n",
              "      <td>0</td>\n",
              "      <td>0</td>\n",
              "      <td>1</td>\n",
              "      <td>0</td>\n",
              "      <td>0</td>\n",
              "      <td>0</td>\n",
              "      <td>0</td>\n",
              "      <td>1</td>\n",
              "      <td>0</td>\n",
              "      <td>1</td>\n",
              "      <td>1</td>\n",
              "      <td>...</td>\n",
              "      <td>1</td>\n",
              "      <td>0</td>\n",
              "      <td>0</td>\n",
              "      <td>0</td>\n",
              "      <td>0</td>\n",
              "      <td>0</td>\n",
              "      <td>0</td>\n",
              "      <td>0</td>\n",
              "      <td>1</td>\n",
              "      <td>0</td>\n",
              "      <td>0</td>\n",
              "      <td>1</td>\n",
              "      <td>0</td>\n",
              "      <td>0</td>\n",
              "      <td>0</td>\n",
              "      <td>1</td>\n",
              "      <td>0</td>\n",
              "      <td>1</td>\n",
              "      <td>0</td>\n",
              "      <td>0</td>\n",
              "      <td>0</td>\n",
              "      <td>1</td>\n",
              "      <td>0</td>\n",
              "      <td>0</td>\n",
              "      <td>1</td>\n",
              "    </tr>\n",
              "    <tr>\n",
              "      <th>15795</th>\n",
              "      <td>1</td>\n",
              "      <td>2</td>\n",
              "      <td>5</td>\n",
              "      <td>17</td>\n",
              "      <td>7</td>\n",
              "      <td>0</td>\n",
              "      <td>0</td>\n",
              "      <td>0</td>\n",
              "      <td>0</td>\n",
              "      <td>0</td>\n",
              "      <td>0</td>\n",
              "      <td>0</td>\n",
              "      <td>1</td>\n",
              "      <td>0</td>\n",
              "      <td>0</td>\n",
              "      <td>0</td>\n",
              "      <td>1</td>\n",
              "      <td>0</td>\n",
              "      <td>0</td>\n",
              "      <td>0</td>\n",
              "      <td>1</td>\n",
              "      <td>0</td>\n",
              "      <td>1</td>\n",
              "      <td>0</td>\n",
              "      <td>0</td>\n",
              "      <td>...</td>\n",
              "      <td>0</td>\n",
              "      <td>0</td>\n",
              "      <td>0</td>\n",
              "      <td>0</td>\n",
              "      <td>0</td>\n",
              "      <td>0</td>\n",
              "      <td>0</td>\n",
              "      <td>1</td>\n",
              "      <td>0</td>\n",
              "      <td>0</td>\n",
              "      <td>0</td>\n",
              "      <td>1</td>\n",
              "      <td>0</td>\n",
              "      <td>0</td>\n",
              "      <td>0</td>\n",
              "      <td>1</td>\n",
              "      <td>0</td>\n",
              "      <td>0</td>\n",
              "      <td>0</td>\n",
              "      <td>1</td>\n",
              "      <td>0</td>\n",
              "      <td>1</td>\n",
              "      <td>0</td>\n",
              "      <td>0</td>\n",
              "      <td>1</td>\n",
              "    </tr>\n",
              "  </tbody>\n",
              "</table>\n",
              "<p>71236 rows × 54 columns</p>\n",
              "</div>\n",
              "    <div class=\"colab-df-buttons\">\n",
              "\n",
              "  <div class=\"colab-df-container\">\n",
              "    <button class=\"colab-df-convert\" onclick=\"convertToInteractive('df-5b26d894-a741-4091-8d4f-872da5599fa9')\"\n",
              "            title=\"Convert this dataframe to an interactive table.\"\n",
              "            style=\"display:none;\">\n",
              "\n",
              "  <svg xmlns=\"http://www.w3.org/2000/svg\" height=\"24px\" viewBox=\"0 -960 960 960\">\n",
              "    <path d=\"M120-120v-720h720v720H120Zm60-500h600v-160H180v160Zm220 220h160v-160H400v160Zm0 220h160v-160H400v160ZM180-400h160v-160H180v160Zm440 0h160v-160H620v160ZM180-180h160v-160H180v160Zm440 0h160v-160H620v160Z\"/>\n",
              "  </svg>\n",
              "    </button>\n",
              "\n",
              "  <style>\n",
              "    .colab-df-container {\n",
              "      display:flex;\n",
              "      gap: 12px;\n",
              "    }\n",
              "\n",
              "    .colab-df-convert {\n",
              "      background-color: #E8F0FE;\n",
              "      border: none;\n",
              "      border-radius: 50%;\n",
              "      cursor: pointer;\n",
              "      display: none;\n",
              "      fill: #1967D2;\n",
              "      height: 32px;\n",
              "      padding: 0 0 0 0;\n",
              "      width: 32px;\n",
              "    }\n",
              "\n",
              "    .colab-df-convert:hover {\n",
              "      background-color: #E2EBFA;\n",
              "      box-shadow: 0px 1px 2px rgba(60, 64, 67, 0.3), 0px 1px 3px 1px rgba(60, 64, 67, 0.15);\n",
              "      fill: #174EA6;\n",
              "    }\n",
              "\n",
              "    .colab-df-buttons div {\n",
              "      margin-bottom: 4px;\n",
              "    }\n",
              "\n",
              "    [theme=dark] .colab-df-convert {\n",
              "      background-color: #3B4455;\n",
              "      fill: #D2E3FC;\n",
              "    }\n",
              "\n",
              "    [theme=dark] .colab-df-convert:hover {\n",
              "      background-color: #434B5C;\n",
              "      box-shadow: 0px 1px 3px 1px rgba(0, 0, 0, 0.15);\n",
              "      filter: drop-shadow(0px 1px 2px rgba(0, 0, 0, 0.3));\n",
              "      fill: #FFFFFF;\n",
              "    }\n",
              "  </style>\n",
              "\n",
              "    <script>\n",
              "      const buttonEl =\n",
              "        document.querySelector('#df-5b26d894-a741-4091-8d4f-872da5599fa9 button.colab-df-convert');\n",
              "      buttonEl.style.display =\n",
              "        google.colab.kernel.accessAllowed ? 'block' : 'none';\n",
              "\n",
              "      async function convertToInteractive(key) {\n",
              "        const element = document.querySelector('#df-5b26d894-a741-4091-8d4f-872da5599fa9');\n",
              "        const dataTable =\n",
              "          await google.colab.kernel.invokeFunction('convertToInteractive',\n",
              "                                                    [key], {});\n",
              "        if (!dataTable) return;\n",
              "\n",
              "        const docLinkHtml = 'Like what you see? Visit the ' +\n",
              "          '<a target=\"_blank\" href=https://colab.research.google.com/notebooks/data_table.ipynb>data table notebook</a>'\n",
              "          + ' to learn more about interactive tables.';\n",
              "        element.innerHTML = '';\n",
              "        dataTable['output_type'] = 'display_data';\n",
              "        await google.colab.output.renderOutput(dataTable, element);\n",
              "        const docLink = document.createElement('div');\n",
              "        docLink.innerHTML = docLinkHtml;\n",
              "        element.appendChild(docLink);\n",
              "      }\n",
              "    </script>\n",
              "  </div>\n",
              "\n",
              "\n",
              "<div id=\"df-b25856f7-99c6-430a-8460-3c99b46746a5\">\n",
              "  <button class=\"colab-df-quickchart\" onclick=\"quickchart('df-b25856f7-99c6-430a-8460-3c99b46746a5')\"\n",
              "            title=\"Suggest charts.\"\n",
              "            style=\"display:none;\">\n",
              "\n",
              "<svg xmlns=\"http://www.w3.org/2000/svg\" height=\"24px\"viewBox=\"0 0 24 24\"\n",
              "     width=\"24px\">\n",
              "    <g>\n",
              "        <path d=\"M19 3H5c-1.1 0-2 .9-2 2v14c0 1.1.9 2 2 2h14c1.1 0 2-.9 2-2V5c0-1.1-.9-2-2-2zM9 17H7v-7h2v7zm4 0h-2V7h2v10zm4 0h-2v-4h2v4z\"/>\n",
              "    </g>\n",
              "</svg>\n",
              "  </button>\n",
              "\n",
              "<style>\n",
              "  .colab-df-quickchart {\n",
              "      --bg-color: #E8F0FE;\n",
              "      --fill-color: #1967D2;\n",
              "      --hover-bg-color: #E2EBFA;\n",
              "      --hover-fill-color: #174EA6;\n",
              "      --disabled-fill-color: #AAA;\n",
              "      --disabled-bg-color: #DDD;\n",
              "  }\n",
              "\n",
              "  [theme=dark] .colab-df-quickchart {\n",
              "      --bg-color: #3B4455;\n",
              "      --fill-color: #D2E3FC;\n",
              "      --hover-bg-color: #434B5C;\n",
              "      --hover-fill-color: #FFFFFF;\n",
              "      --disabled-bg-color: #3B4455;\n",
              "      --disabled-fill-color: #666;\n",
              "  }\n",
              "\n",
              "  .colab-df-quickchart {\n",
              "    background-color: var(--bg-color);\n",
              "    border: none;\n",
              "    border-radius: 50%;\n",
              "    cursor: pointer;\n",
              "    display: none;\n",
              "    fill: var(--fill-color);\n",
              "    height: 32px;\n",
              "    padding: 0;\n",
              "    width: 32px;\n",
              "  }\n",
              "\n",
              "  .colab-df-quickchart:hover {\n",
              "    background-color: var(--hover-bg-color);\n",
              "    box-shadow: 0 1px 2px rgba(60, 64, 67, 0.3), 0 1px 3px 1px rgba(60, 64, 67, 0.15);\n",
              "    fill: var(--button-hover-fill-color);\n",
              "  }\n",
              "\n",
              "  .colab-df-quickchart-complete:disabled,\n",
              "  .colab-df-quickchart-complete:disabled:hover {\n",
              "    background-color: var(--disabled-bg-color);\n",
              "    fill: var(--disabled-fill-color);\n",
              "    box-shadow: none;\n",
              "  }\n",
              "\n",
              "  .colab-df-spinner {\n",
              "    border: 2px solid var(--fill-color);\n",
              "    border-color: transparent;\n",
              "    border-bottom-color: var(--fill-color);\n",
              "    animation:\n",
              "      spin 1s steps(1) infinite;\n",
              "  }\n",
              "\n",
              "  @keyframes spin {\n",
              "    0% {\n",
              "      border-color: transparent;\n",
              "      border-bottom-color: var(--fill-color);\n",
              "      border-left-color: var(--fill-color);\n",
              "    }\n",
              "    20% {\n",
              "      border-color: transparent;\n",
              "      border-left-color: var(--fill-color);\n",
              "      border-top-color: var(--fill-color);\n",
              "    }\n",
              "    30% {\n",
              "      border-color: transparent;\n",
              "      border-left-color: var(--fill-color);\n",
              "      border-top-color: var(--fill-color);\n",
              "      border-right-color: var(--fill-color);\n",
              "    }\n",
              "    40% {\n",
              "      border-color: transparent;\n",
              "      border-right-color: var(--fill-color);\n",
              "      border-top-color: var(--fill-color);\n",
              "    }\n",
              "    60% {\n",
              "      border-color: transparent;\n",
              "      border-right-color: var(--fill-color);\n",
              "    }\n",
              "    80% {\n",
              "      border-color: transparent;\n",
              "      border-right-color: var(--fill-color);\n",
              "      border-bottom-color: var(--fill-color);\n",
              "    }\n",
              "    90% {\n",
              "      border-color: transparent;\n",
              "      border-bottom-color: var(--fill-color);\n",
              "    }\n",
              "  }\n",
              "</style>\n",
              "\n",
              "  <script>\n",
              "    async function quickchart(key) {\n",
              "      const quickchartButtonEl =\n",
              "        document.querySelector('#' + key + ' button');\n",
              "      quickchartButtonEl.disabled = true;  // To prevent multiple clicks.\n",
              "      quickchartButtonEl.classList.add('colab-df-spinner');\n",
              "      try {\n",
              "        const charts = await google.colab.kernel.invokeFunction(\n",
              "            'suggestCharts', [key], {});\n",
              "      } catch (error) {\n",
              "        console.error('Error during call to suggestCharts:', error);\n",
              "      }\n",
              "      quickchartButtonEl.classList.remove('colab-df-spinner');\n",
              "      quickchartButtonEl.classList.add('colab-df-quickchart-complete');\n",
              "    }\n",
              "    (() => {\n",
              "      let quickchartButtonEl =\n",
              "        document.querySelector('#df-b25856f7-99c6-430a-8460-3c99b46746a5 button');\n",
              "      quickchartButtonEl.style.display =\n",
              "        google.colab.kernel.accessAllowed ? 'block' : 'none';\n",
              "    })();\n",
              "  </script>\n",
              "</div>\n",
              "    </div>\n",
              "  </div>\n"
            ]
          },
          "metadata": {},
          "execution_count": 49
        }
      ]
    },
    {
      "cell_type": "code",
      "source": [
        "X_test"
      ],
      "metadata": {
        "colab": {
          "base_uri": "https://localhost:8080/",
          "height": 496
        },
        "id": "Vw31OVzgPd55",
        "outputId": "c5282202-f4ba-414c-911c-001c13674454"
      },
      "execution_count": 50,
      "outputs": [
        {
          "output_type": "execute_result",
          "data": {
            "text/plain": [
              "       time_in_hospital  num_lab_procedures  num_procedures  num_medications  \\\n",
              "35956                11                  68               0               20   \n",
              "60927                 1                  20               0                7   \n",
              "79920                 4                  21               3               23   \n",
              "50078                12                  28               0               19   \n",
              "44080                 1                  21               0                6   \n",
              "...                 ...                 ...             ...              ...   \n",
              "19901                 1                  45               1                5   \n",
              "9561                  4                  58               0               10   \n",
              "47211                 2                  68               6               16   \n",
              "25232                 6                  61               2                7   \n",
              "22212                12                  76               6               25   \n",
              "\n",
              "       number_diagnoses  medicare  medicaid  had_emergency  \\\n",
              "35956                 5         0         0              0   \n",
              "60927                 8         0         0              0   \n",
              "79920                 7         0         0              0   \n",
              "50078                 7         0         0              0   \n",
              "44080                 7         0         0              0   \n",
              "...                 ...       ...       ...            ...   \n",
              "19901                 4         0         0              0   \n",
              "9561                  9         0         0              0   \n",
              "47211                 9         1         0              0   \n",
              "25232                 5         1         0              0   \n",
              "22212                 9         0         0              0   \n",
              "\n",
              "       had_inpatient_days  had_outpatient_days  race_AfricanAmerican  \\\n",
              "35956                   0                    0                     0   \n",
              "60927                   0                    0                     0   \n",
              "79920                   1                    1                     0   \n",
              "50078                   1                    0                     0   \n",
              "44080                   0                    0                     1   \n",
              "...                   ...                  ...                   ...   \n",
              "19901                   0                    0                     0   \n",
              "9561                    1                    0                     0   \n",
              "47211                   0                    0                     0   \n",
              "25232                   0                    0                     0   \n",
              "22212                   1                    0                     1   \n",
              "\n",
              "       race_Asian  race_Caucasian  race_Hispanic  race_Other  race_Unknown  \\\n",
              "35956           0               1              0           0             0   \n",
              "60927           0               1              0           0             0   \n",
              "79920           0               1              0           0             0   \n",
              "50078           0               1              0           0             0   \n",
              "44080           0               0              0           0             0   \n",
              "...           ...             ...            ...         ...           ...   \n",
              "19901           0               0              1           0             0   \n",
              "9561            0               1              0           0             0   \n",
              "47211           0               1              0           0             0   \n",
              "25232           0               1              0           0             0   \n",
              "22212           0               0              0           0             0   \n",
              "\n",
              "       gender_Female  gender_Male  gender_Unknown/Invalid  \\\n",
              "35956              1            0                       0   \n",
              "60927              0            1                       0   \n",
              "79920              1            0                       0   \n",
              "50078              0            1                       0   \n",
              "44080              1            0                       0   \n",
              "...              ...          ...                     ...   \n",
              "19901              1            0                       0   \n",
              "9561               1            0                       0   \n",
              "47211              0            1                       0   \n",
              "25232              0            1                       0   \n",
              "22212              0            1                       0   \n",
              "\n",
              "       age_30 years or younger  age_30-60 years  age_Over 60 years  \\\n",
              "35956                        0                0                  1   \n",
              "60927                        0                1                  0   \n",
              "79920                        0                0                  1   \n",
              "50078                        0                1                  0   \n",
              "44080                        0                0                  1   \n",
              "...                        ...              ...                ...   \n",
              "19901                        0                1                  0   \n",
              "9561                         0                0                  1   \n",
              "47211                        0                1                  0   \n",
              "25232                        0                0                  1   \n",
              "22212                        0                0                  1   \n",
              "\n",
              "       discharge_disposition_id_Discharged to Home  \\\n",
              "35956                                            1   \n",
              "60927                                            1   \n",
              "79920                                            0   \n",
              "50078                                            1   \n",
              "44080                                            0   \n",
              "...                                            ...   \n",
              "19901                                            1   \n",
              "9561                                             1   \n",
              "47211                                            1   \n",
              "25232                                            1   \n",
              "22212                                            0   \n",
              "\n",
              "       discharge_disposition_id_Other  admission_source_id_Emergency  ...  \\\n",
              "35956                               0                              0  ...   \n",
              "60927                               0                              0  ...   \n",
              "79920                               1                              0  ...   \n",
              "50078                               0                              0  ...   \n",
              "44080                               1                              1  ...   \n",
              "...                               ...                            ...  ...   \n",
              "19901                               0                              1  ...   \n",
              "9561                                0                              1  ...   \n",
              "47211                               0                              1  ...   \n",
              "25232                               0                              0  ...   \n",
              "22212                               1                              1  ...   \n",
              "\n",
              "       medical_specialty_Family/GeneralPractice  \\\n",
              "35956                                         0   \n",
              "60927                                         0   \n",
              "79920                                         0   \n",
              "50078                                         0   \n",
              "44080                                         0   \n",
              "...                                         ...   \n",
              "19901                                         0   \n",
              "9561                                          0   \n",
              "47211                                         0   \n",
              "25232                                         1   \n",
              "22212                                         0   \n",
              "\n",
              "       medical_specialty_InternalMedicine  medical_specialty_Missing  \\\n",
              "35956                                   1                          0   \n",
              "60927                                   0                          1   \n",
              "79920                                   0                          1   \n",
              "50078                                   0                          0   \n",
              "44080                                   0                          1   \n",
              "...                                   ...                        ...   \n",
              "19901                                   0                          0   \n",
              "9561                                    0                          0   \n",
              "47211                                   0                          0   \n",
              "25232                                   0                          0   \n",
              "22212                                   0                          1   \n",
              "\n",
              "       medical_specialty_Other  primary_diagnosis_Diabetes  \\\n",
              "35956                        0                           1   \n",
              "60927                        0                           0   \n",
              "79920                        0                           0   \n",
              "50078                        1                           0   \n",
              "44080                        0                           0   \n",
              "...                        ...                         ...   \n",
              "19901                        1                           0   \n",
              "9561                         0                           0   \n",
              "47211                        0                           0   \n",
              "25232                        0                           0   \n",
              "22212                        0                           0   \n",
              "\n",
              "       primary_diagnosis_Genitourinary Issues  \\\n",
              "35956                                       0   \n",
              "60927                                       0   \n",
              "79920                                       0   \n",
              "50078                                       0   \n",
              "44080                                       0   \n",
              "...                                       ...   \n",
              "19901                                       0   \n",
              "9561                                        0   \n",
              "47211                                       0   \n",
              "25232                                       0   \n",
              "22212                                       0   \n",
              "\n",
              "       primary_diagnosis_Musculoskeletal Issues  primary_diagnosis_Other  \\\n",
              "35956                                         0                        0   \n",
              "60927                                         0                        1   \n",
              "79920                                         1                        0   \n",
              "50078                                         0                        0   \n",
              "44080                                         0                        1   \n",
              "...                                         ...                      ...   \n",
              "19901                                         0                        1   \n",
              "9561                                          0                        1   \n",
              "47211                                         0                        1   \n",
              "25232                                         0                        0   \n",
              "22212                                         0                        1   \n",
              "\n",
              "       primary_diagnosis_Respiratory Issues  max_glu_serum_>200  \\\n",
              "35956                                     0                   0   \n",
              "60927                                     0                   0   \n",
              "79920                                     0                   0   \n",
              "50078                                     1                   0   \n",
              "44080                                     0                   0   \n",
              "...                                     ...                 ...   \n",
              "19901                                     0                   0   \n",
              "9561                                      0                   0   \n",
              "47211                                     0                   0   \n",
              "25232                                     1                   0   \n",
              "22212                                     0                   0   \n",
              "\n",
              "       max_glu_serum_>300  max_glu_serum_None  max_glu_serum_Norm  \\\n",
              "35956                   0                   1                   0   \n",
              "60927                   0                   1                   0   \n",
              "79920                   0                   1                   0   \n",
              "50078                   0                   1                   0   \n",
              "44080                   0                   1                   0   \n",
              "...                   ...                 ...                 ...   \n",
              "19901                   0                   1                   0   \n",
              "9561                    0                   1                   0   \n",
              "47211                   0                   1                   0   \n",
              "25232                   0                   1                   0   \n",
              "22212                   0                   1                   0   \n",
              "\n",
              "       A1Cresult_>7  A1Cresult_>8  A1Cresult_None  A1Cresult_Norm  \\\n",
              "35956             0             0               1               0   \n",
              "60927             0             0               1               0   \n",
              "79920             0             0               1               0   \n",
              "50078             0             0               1               0   \n",
              "44080             0             0               1               0   \n",
              "...             ...           ...             ...             ...   \n",
              "19901             0             0               1               0   \n",
              "9561              0             0               1               0   \n",
              "47211             0             0               1               0   \n",
              "25232             0             0               1               0   \n",
              "22212             0             0               1               0   \n",
              "\n",
              "       insulin_Down  insulin_No  insulin_Steady  insulin_Up  change_Ch  \\\n",
              "35956             0           0               1           0          0   \n",
              "60927             0           1               0           0          0   \n",
              "79920             0           1               0           0          0   \n",
              "50078             0           1               0           0          0   \n",
              "44080             0           1               0           0          0   \n",
              "...             ...         ...             ...         ...        ...   \n",
              "19901             0           1               0           0          0   \n",
              "9561              0           0               1           0          0   \n",
              "47211             0           1               0           0          0   \n",
              "25232             0           1               0           0          0   \n",
              "22212             0           1               0           0          0   \n",
              "\n",
              "       change_No  diabetesMed_No  diabetesMed_Yes  \n",
              "35956          1               0                1  \n",
              "60927          1               0                1  \n",
              "79920          1               0                1  \n",
              "50078          1               0                1  \n",
              "44080          1               0                1  \n",
              "...          ...             ...              ...  \n",
              "19901          1               1                0  \n",
              "9561           1               0                1  \n",
              "47211          1               1                0  \n",
              "25232          1               1                0  \n",
              "22212          1               1                0  \n",
              "\n",
              "[30530 rows x 54 columns]"
            ],
            "text/html": [
              "\n",
              "  <div id=\"df-13509771-3d33-4529-8451-090019dc2405\" class=\"colab-df-container\">\n",
              "    <div>\n",
              "<style scoped>\n",
              "    .dataframe tbody tr th:only-of-type {\n",
              "        vertical-align: middle;\n",
              "    }\n",
              "\n",
              "    .dataframe tbody tr th {\n",
              "        vertical-align: top;\n",
              "    }\n",
              "\n",
              "    .dataframe thead th {\n",
              "        text-align: right;\n",
              "    }\n",
              "</style>\n",
              "<table border=\"1\" class=\"dataframe\">\n",
              "  <thead>\n",
              "    <tr style=\"text-align: right;\">\n",
              "      <th></th>\n",
              "      <th>time_in_hospital</th>\n",
              "      <th>num_lab_procedures</th>\n",
              "      <th>num_procedures</th>\n",
              "      <th>num_medications</th>\n",
              "      <th>number_diagnoses</th>\n",
              "      <th>medicare</th>\n",
              "      <th>medicaid</th>\n",
              "      <th>had_emergency</th>\n",
              "      <th>had_inpatient_days</th>\n",
              "      <th>had_outpatient_days</th>\n",
              "      <th>race_AfricanAmerican</th>\n",
              "      <th>race_Asian</th>\n",
              "      <th>race_Caucasian</th>\n",
              "      <th>race_Hispanic</th>\n",
              "      <th>race_Other</th>\n",
              "      <th>race_Unknown</th>\n",
              "      <th>gender_Female</th>\n",
              "      <th>gender_Male</th>\n",
              "      <th>gender_Unknown/Invalid</th>\n",
              "      <th>age_30 years or younger</th>\n",
              "      <th>age_30-60 years</th>\n",
              "      <th>age_Over 60 years</th>\n",
              "      <th>discharge_disposition_id_Discharged to Home</th>\n",
              "      <th>discharge_disposition_id_Other</th>\n",
              "      <th>admission_source_id_Emergency</th>\n",
              "      <th>...</th>\n",
              "      <th>medical_specialty_Family/GeneralPractice</th>\n",
              "      <th>medical_specialty_InternalMedicine</th>\n",
              "      <th>medical_specialty_Missing</th>\n",
              "      <th>medical_specialty_Other</th>\n",
              "      <th>primary_diagnosis_Diabetes</th>\n",
              "      <th>primary_diagnosis_Genitourinary Issues</th>\n",
              "      <th>primary_diagnosis_Musculoskeletal Issues</th>\n",
              "      <th>primary_diagnosis_Other</th>\n",
              "      <th>primary_diagnosis_Respiratory Issues</th>\n",
              "      <th>max_glu_serum_&gt;200</th>\n",
              "      <th>max_glu_serum_&gt;300</th>\n",
              "      <th>max_glu_serum_None</th>\n",
              "      <th>max_glu_serum_Norm</th>\n",
              "      <th>A1Cresult_&gt;7</th>\n",
              "      <th>A1Cresult_&gt;8</th>\n",
              "      <th>A1Cresult_None</th>\n",
              "      <th>A1Cresult_Norm</th>\n",
              "      <th>insulin_Down</th>\n",
              "      <th>insulin_No</th>\n",
              "      <th>insulin_Steady</th>\n",
              "      <th>insulin_Up</th>\n",
              "      <th>change_Ch</th>\n",
              "      <th>change_No</th>\n",
              "      <th>diabetesMed_No</th>\n",
              "      <th>diabetesMed_Yes</th>\n",
              "    </tr>\n",
              "  </thead>\n",
              "  <tbody>\n",
              "    <tr>\n",
              "      <th>35956</th>\n",
              "      <td>11</td>\n",
              "      <td>68</td>\n",
              "      <td>0</td>\n",
              "      <td>20</td>\n",
              "      <td>5</td>\n",
              "      <td>0</td>\n",
              "      <td>0</td>\n",
              "      <td>0</td>\n",
              "      <td>0</td>\n",
              "      <td>0</td>\n",
              "      <td>0</td>\n",
              "      <td>0</td>\n",
              "      <td>1</td>\n",
              "      <td>0</td>\n",
              "      <td>0</td>\n",
              "      <td>0</td>\n",
              "      <td>1</td>\n",
              "      <td>0</td>\n",
              "      <td>0</td>\n",
              "      <td>0</td>\n",
              "      <td>0</td>\n",
              "      <td>1</td>\n",
              "      <td>1</td>\n",
              "      <td>0</td>\n",
              "      <td>0</td>\n",
              "      <td>...</td>\n",
              "      <td>0</td>\n",
              "      <td>1</td>\n",
              "      <td>0</td>\n",
              "      <td>0</td>\n",
              "      <td>1</td>\n",
              "      <td>0</td>\n",
              "      <td>0</td>\n",
              "      <td>0</td>\n",
              "      <td>0</td>\n",
              "      <td>0</td>\n",
              "      <td>0</td>\n",
              "      <td>1</td>\n",
              "      <td>0</td>\n",
              "      <td>0</td>\n",
              "      <td>0</td>\n",
              "      <td>1</td>\n",
              "      <td>0</td>\n",
              "      <td>0</td>\n",
              "      <td>0</td>\n",
              "      <td>1</td>\n",
              "      <td>0</td>\n",
              "      <td>0</td>\n",
              "      <td>1</td>\n",
              "      <td>0</td>\n",
              "      <td>1</td>\n",
              "    </tr>\n",
              "    <tr>\n",
              "      <th>60927</th>\n",
              "      <td>1</td>\n",
              "      <td>20</td>\n",
              "      <td>0</td>\n",
              "      <td>7</td>\n",
              "      <td>8</td>\n",
              "      <td>0</td>\n",
              "      <td>0</td>\n",
              "      <td>0</td>\n",
              "      <td>0</td>\n",
              "      <td>0</td>\n",
              "      <td>0</td>\n",
              "      <td>0</td>\n",
              "      <td>1</td>\n",
              "      <td>0</td>\n",
              "      <td>0</td>\n",
              "      <td>0</td>\n",
              "      <td>0</td>\n",
              "      <td>1</td>\n",
              "      <td>0</td>\n",
              "      <td>0</td>\n",
              "      <td>1</td>\n",
              "      <td>0</td>\n",
              "      <td>1</td>\n",
              "      <td>0</td>\n",
              "      <td>0</td>\n",
              "      <td>...</td>\n",
              "      <td>0</td>\n",
              "      <td>0</td>\n",
              "      <td>1</td>\n",
              "      <td>0</td>\n",
              "      <td>0</td>\n",
              "      <td>0</td>\n",
              "      <td>0</td>\n",
              "      <td>1</td>\n",
              "      <td>0</td>\n",
              "      <td>0</td>\n",
              "      <td>0</td>\n",
              "      <td>1</td>\n",
              "      <td>0</td>\n",
              "      <td>0</td>\n",
              "      <td>0</td>\n",
              "      <td>1</td>\n",
              "      <td>0</td>\n",
              "      <td>0</td>\n",
              "      <td>1</td>\n",
              "      <td>0</td>\n",
              "      <td>0</td>\n",
              "      <td>0</td>\n",
              "      <td>1</td>\n",
              "      <td>0</td>\n",
              "      <td>1</td>\n",
              "    </tr>\n",
              "    <tr>\n",
              "      <th>79920</th>\n",
              "      <td>4</td>\n",
              "      <td>21</td>\n",
              "      <td>3</td>\n",
              "      <td>23</td>\n",
              "      <td>7</td>\n",
              "      <td>0</td>\n",
              "      <td>0</td>\n",
              "      <td>0</td>\n",
              "      <td>1</td>\n",
              "      <td>1</td>\n",
              "      <td>0</td>\n",
              "      <td>0</td>\n",
              "      <td>1</td>\n",
              "      <td>0</td>\n",
              "      <td>0</td>\n",
              "      <td>0</td>\n",
              "      <td>1</td>\n",
              "      <td>0</td>\n",
              "      <td>0</td>\n",
              "      <td>0</td>\n",
              "      <td>0</td>\n",
              "      <td>1</td>\n",
              "      <td>0</td>\n",
              "      <td>1</td>\n",
              "      <td>0</td>\n",
              "      <td>...</td>\n",
              "      <td>0</td>\n",
              "      <td>0</td>\n",
              "      <td>1</td>\n",
              "      <td>0</td>\n",
              "      <td>0</td>\n",
              "      <td>0</td>\n",
              "      <td>1</td>\n",
              "      <td>0</td>\n",
              "      <td>0</td>\n",
              "      <td>0</td>\n",
              "      <td>0</td>\n",
              "      <td>1</td>\n",
              "      <td>0</td>\n",
              "      <td>0</td>\n",
              "      <td>0</td>\n",
              "      <td>1</td>\n",
              "      <td>0</td>\n",
              "      <td>0</td>\n",
              "      <td>1</td>\n",
              "      <td>0</td>\n",
              "      <td>0</td>\n",
              "      <td>0</td>\n",
              "      <td>1</td>\n",
              "      <td>0</td>\n",
              "      <td>1</td>\n",
              "    </tr>\n",
              "    <tr>\n",
              "      <th>50078</th>\n",
              "      <td>12</td>\n",
              "      <td>28</td>\n",
              "      <td>0</td>\n",
              "      <td>19</td>\n",
              "      <td>7</td>\n",
              "      <td>0</td>\n",
              "      <td>0</td>\n",
              "      <td>0</td>\n",
              "      <td>1</td>\n",
              "      <td>0</td>\n",
              "      <td>0</td>\n",
              "      <td>0</td>\n",
              "      <td>1</td>\n",
              "      <td>0</td>\n",
              "      <td>0</td>\n",
              "      <td>0</td>\n",
              "      <td>0</td>\n",
              "      <td>1</td>\n",
              "      <td>0</td>\n",
              "      <td>0</td>\n",
              "      <td>1</td>\n",
              "      <td>0</td>\n",
              "      <td>1</td>\n",
              "      <td>0</td>\n",
              "      <td>0</td>\n",
              "      <td>...</td>\n",
              "      <td>0</td>\n",
              "      <td>0</td>\n",
              "      <td>0</td>\n",
              "      <td>1</td>\n",
              "      <td>0</td>\n",
              "      <td>0</td>\n",
              "      <td>0</td>\n",
              "      <td>0</td>\n",
              "      <td>1</td>\n",
              "      <td>0</td>\n",
              "      <td>0</td>\n",
              "      <td>1</td>\n",
              "      <td>0</td>\n",
              "      <td>0</td>\n",
              "      <td>0</td>\n",
              "      <td>1</td>\n",
              "      <td>0</td>\n",
              "      <td>0</td>\n",
              "      <td>1</td>\n",
              "      <td>0</td>\n",
              "      <td>0</td>\n",
              "      <td>0</td>\n",
              "      <td>1</td>\n",
              "      <td>0</td>\n",
              "      <td>1</td>\n",
              "    </tr>\n",
              "    <tr>\n",
              "      <th>44080</th>\n",
              "      <td>1</td>\n",
              "      <td>21</td>\n",
              "      <td>0</td>\n",
              "      <td>6</td>\n",
              "      <td>7</td>\n",
              "      <td>0</td>\n",
              "      <td>0</td>\n",
              "      <td>0</td>\n",
              "      <td>0</td>\n",
              "      <td>0</td>\n",
              "      <td>1</td>\n",
              "      <td>0</td>\n",
              "      <td>0</td>\n",
              "      <td>0</td>\n",
              "      <td>0</td>\n",
              "      <td>0</td>\n",
              "      <td>1</td>\n",
              "      <td>0</td>\n",
              "      <td>0</td>\n",
              "      <td>0</td>\n",
              "      <td>0</td>\n",
              "      <td>1</td>\n",
              "      <td>0</td>\n",
              "      <td>1</td>\n",
              "      <td>1</td>\n",
              "      <td>...</td>\n",
              "      <td>0</td>\n",
              "      <td>0</td>\n",
              "      <td>1</td>\n",
              "      <td>0</td>\n",
              "      <td>0</td>\n",
              "      <td>0</td>\n",
              "      <td>0</td>\n",
              "      <td>1</td>\n",
              "      <td>0</td>\n",
              "      <td>0</td>\n",
              "      <td>0</td>\n",
              "      <td>1</td>\n",
              "      <td>0</td>\n",
              "      <td>0</td>\n",
              "      <td>0</td>\n",
              "      <td>1</td>\n",
              "      <td>0</td>\n",
              "      <td>0</td>\n",
              "      <td>1</td>\n",
              "      <td>0</td>\n",
              "      <td>0</td>\n",
              "      <td>0</td>\n",
              "      <td>1</td>\n",
              "      <td>0</td>\n",
              "      <td>1</td>\n",
              "    </tr>\n",
              "    <tr>\n",
              "      <th>...</th>\n",
              "      <td>...</td>\n",
              "      <td>...</td>\n",
              "      <td>...</td>\n",
              "      <td>...</td>\n",
              "      <td>...</td>\n",
              "      <td>...</td>\n",
              "      <td>...</td>\n",
              "      <td>...</td>\n",
              "      <td>...</td>\n",
              "      <td>...</td>\n",
              "      <td>...</td>\n",
              "      <td>...</td>\n",
              "      <td>...</td>\n",
              "      <td>...</td>\n",
              "      <td>...</td>\n",
              "      <td>...</td>\n",
              "      <td>...</td>\n",
              "      <td>...</td>\n",
              "      <td>...</td>\n",
              "      <td>...</td>\n",
              "      <td>...</td>\n",
              "      <td>...</td>\n",
              "      <td>...</td>\n",
              "      <td>...</td>\n",
              "      <td>...</td>\n",
              "      <td>...</td>\n",
              "      <td>...</td>\n",
              "      <td>...</td>\n",
              "      <td>...</td>\n",
              "      <td>...</td>\n",
              "      <td>...</td>\n",
              "      <td>...</td>\n",
              "      <td>...</td>\n",
              "      <td>...</td>\n",
              "      <td>...</td>\n",
              "      <td>...</td>\n",
              "      <td>...</td>\n",
              "      <td>...</td>\n",
              "      <td>...</td>\n",
              "      <td>...</td>\n",
              "      <td>...</td>\n",
              "      <td>...</td>\n",
              "      <td>...</td>\n",
              "      <td>...</td>\n",
              "      <td>...</td>\n",
              "      <td>...</td>\n",
              "      <td>...</td>\n",
              "      <td>...</td>\n",
              "      <td>...</td>\n",
              "      <td>...</td>\n",
              "      <td>...</td>\n",
              "    </tr>\n",
              "    <tr>\n",
              "      <th>19901</th>\n",
              "      <td>1</td>\n",
              "      <td>45</td>\n",
              "      <td>1</td>\n",
              "      <td>5</td>\n",
              "      <td>4</td>\n",
              "      <td>0</td>\n",
              "      <td>0</td>\n",
              "      <td>0</td>\n",
              "      <td>0</td>\n",
              "      <td>0</td>\n",
              "      <td>0</td>\n",
              "      <td>0</td>\n",
              "      <td>0</td>\n",
              "      <td>1</td>\n",
              "      <td>0</td>\n",
              "      <td>0</td>\n",
              "      <td>1</td>\n",
              "      <td>0</td>\n",
              "      <td>0</td>\n",
              "      <td>0</td>\n",
              "      <td>1</td>\n",
              "      <td>0</td>\n",
              "      <td>1</td>\n",
              "      <td>0</td>\n",
              "      <td>1</td>\n",
              "      <td>...</td>\n",
              "      <td>0</td>\n",
              "      <td>0</td>\n",
              "      <td>0</td>\n",
              "      <td>1</td>\n",
              "      <td>0</td>\n",
              "      <td>0</td>\n",
              "      <td>0</td>\n",
              "      <td>1</td>\n",
              "      <td>0</td>\n",
              "      <td>0</td>\n",
              "      <td>0</td>\n",
              "      <td>1</td>\n",
              "      <td>0</td>\n",
              "      <td>0</td>\n",
              "      <td>0</td>\n",
              "      <td>1</td>\n",
              "      <td>0</td>\n",
              "      <td>0</td>\n",
              "      <td>1</td>\n",
              "      <td>0</td>\n",
              "      <td>0</td>\n",
              "      <td>0</td>\n",
              "      <td>1</td>\n",
              "      <td>1</td>\n",
              "      <td>0</td>\n",
              "    </tr>\n",
              "    <tr>\n",
              "      <th>9561</th>\n",
              "      <td>4</td>\n",
              "      <td>58</td>\n",
              "      <td>0</td>\n",
              "      <td>10</td>\n",
              "      <td>9</td>\n",
              "      <td>0</td>\n",
              "      <td>0</td>\n",
              "      <td>0</td>\n",
              "      <td>1</td>\n",
              "      <td>0</td>\n",
              "      <td>0</td>\n",
              "      <td>0</td>\n",
              "      <td>1</td>\n",
              "      <td>0</td>\n",
              "      <td>0</td>\n",
              "      <td>0</td>\n",
              "      <td>1</td>\n",
              "      <td>0</td>\n",
              "      <td>0</td>\n",
              "      <td>0</td>\n",
              "      <td>0</td>\n",
              "      <td>1</td>\n",
              "      <td>1</td>\n",
              "      <td>0</td>\n",
              "      <td>1</td>\n",
              "      <td>...</td>\n",
              "      <td>0</td>\n",
              "      <td>0</td>\n",
              "      <td>0</td>\n",
              "      <td>0</td>\n",
              "      <td>0</td>\n",
              "      <td>0</td>\n",
              "      <td>0</td>\n",
              "      <td>1</td>\n",
              "      <td>0</td>\n",
              "      <td>0</td>\n",
              "      <td>0</td>\n",
              "      <td>1</td>\n",
              "      <td>0</td>\n",
              "      <td>0</td>\n",
              "      <td>0</td>\n",
              "      <td>1</td>\n",
              "      <td>0</td>\n",
              "      <td>0</td>\n",
              "      <td>0</td>\n",
              "      <td>1</td>\n",
              "      <td>0</td>\n",
              "      <td>0</td>\n",
              "      <td>1</td>\n",
              "      <td>0</td>\n",
              "      <td>1</td>\n",
              "    </tr>\n",
              "    <tr>\n",
              "      <th>47211</th>\n",
              "      <td>2</td>\n",
              "      <td>68</td>\n",
              "      <td>6</td>\n",
              "      <td>16</td>\n",
              "      <td>9</td>\n",
              "      <td>1</td>\n",
              "      <td>0</td>\n",
              "      <td>0</td>\n",
              "      <td>0</td>\n",
              "      <td>0</td>\n",
              "      <td>0</td>\n",
              "      <td>0</td>\n",
              "      <td>1</td>\n",
              "      <td>0</td>\n",
              "      <td>0</td>\n",
              "      <td>0</td>\n",
              "      <td>0</td>\n",
              "      <td>1</td>\n",
              "      <td>0</td>\n",
              "      <td>0</td>\n",
              "      <td>1</td>\n",
              "      <td>0</td>\n",
              "      <td>1</td>\n",
              "      <td>0</td>\n",
              "      <td>1</td>\n",
              "      <td>...</td>\n",
              "      <td>0</td>\n",
              "      <td>0</td>\n",
              "      <td>0</td>\n",
              "      <td>0</td>\n",
              "      <td>0</td>\n",
              "      <td>0</td>\n",
              "      <td>0</td>\n",
              "      <td>1</td>\n",
              "      <td>0</td>\n",
              "      <td>0</td>\n",
              "      <td>0</td>\n",
              "      <td>1</td>\n",
              "      <td>0</td>\n",
              "      <td>0</td>\n",
              "      <td>0</td>\n",
              "      <td>1</td>\n",
              "      <td>0</td>\n",
              "      <td>0</td>\n",
              "      <td>1</td>\n",
              "      <td>0</td>\n",
              "      <td>0</td>\n",
              "      <td>0</td>\n",
              "      <td>1</td>\n",
              "      <td>1</td>\n",
              "      <td>0</td>\n",
              "    </tr>\n",
              "    <tr>\n",
              "      <th>25232</th>\n",
              "      <td>6</td>\n",
              "      <td>61</td>\n",
              "      <td>2</td>\n",
              "      <td>7</td>\n",
              "      <td>5</td>\n",
              "      <td>1</td>\n",
              "      <td>0</td>\n",
              "      <td>0</td>\n",
              "      <td>0</td>\n",
              "      <td>0</td>\n",
              "      <td>0</td>\n",
              "      <td>0</td>\n",
              "      <td>1</td>\n",
              "      <td>0</td>\n",
              "      <td>0</td>\n",
              "      <td>0</td>\n",
              "      <td>0</td>\n",
              "      <td>1</td>\n",
              "      <td>0</td>\n",
              "      <td>0</td>\n",
              "      <td>0</td>\n",
              "      <td>1</td>\n",
              "      <td>1</td>\n",
              "      <td>0</td>\n",
              "      <td>0</td>\n",
              "      <td>...</td>\n",
              "      <td>1</td>\n",
              "      <td>0</td>\n",
              "      <td>0</td>\n",
              "      <td>0</td>\n",
              "      <td>0</td>\n",
              "      <td>0</td>\n",
              "      <td>0</td>\n",
              "      <td>0</td>\n",
              "      <td>1</td>\n",
              "      <td>0</td>\n",
              "      <td>0</td>\n",
              "      <td>1</td>\n",
              "      <td>0</td>\n",
              "      <td>0</td>\n",
              "      <td>0</td>\n",
              "      <td>1</td>\n",
              "      <td>0</td>\n",
              "      <td>0</td>\n",
              "      <td>1</td>\n",
              "      <td>0</td>\n",
              "      <td>0</td>\n",
              "      <td>0</td>\n",
              "      <td>1</td>\n",
              "      <td>1</td>\n",
              "      <td>0</td>\n",
              "    </tr>\n",
              "    <tr>\n",
              "      <th>22212</th>\n",
              "      <td>12</td>\n",
              "      <td>76</td>\n",
              "      <td>6</td>\n",
              "      <td>25</td>\n",
              "      <td>9</td>\n",
              "      <td>0</td>\n",
              "      <td>0</td>\n",
              "      <td>0</td>\n",
              "      <td>1</td>\n",
              "      <td>0</td>\n",
              "      <td>1</td>\n",
              "      <td>0</td>\n",
              "      <td>0</td>\n",
              "      <td>0</td>\n",
              "      <td>0</td>\n",
              "      <td>0</td>\n",
              "      <td>0</td>\n",
              "      <td>1</td>\n",
              "      <td>0</td>\n",
              "      <td>0</td>\n",
              "      <td>0</td>\n",
              "      <td>1</td>\n",
              "      <td>0</td>\n",
              "      <td>1</td>\n",
              "      <td>1</td>\n",
              "      <td>...</td>\n",
              "      <td>0</td>\n",
              "      <td>0</td>\n",
              "      <td>1</td>\n",
              "      <td>0</td>\n",
              "      <td>0</td>\n",
              "      <td>0</td>\n",
              "      <td>0</td>\n",
              "      <td>1</td>\n",
              "      <td>0</td>\n",
              "      <td>0</td>\n",
              "      <td>0</td>\n",
              "      <td>1</td>\n",
              "      <td>0</td>\n",
              "      <td>0</td>\n",
              "      <td>0</td>\n",
              "      <td>1</td>\n",
              "      <td>0</td>\n",
              "      <td>0</td>\n",
              "      <td>1</td>\n",
              "      <td>0</td>\n",
              "      <td>0</td>\n",
              "      <td>0</td>\n",
              "      <td>1</td>\n",
              "      <td>1</td>\n",
              "      <td>0</td>\n",
              "    </tr>\n",
              "  </tbody>\n",
              "</table>\n",
              "<p>30530 rows × 54 columns</p>\n",
              "</div>\n",
              "    <div class=\"colab-df-buttons\">\n",
              "\n",
              "  <div class=\"colab-df-container\">\n",
              "    <button class=\"colab-df-convert\" onclick=\"convertToInteractive('df-13509771-3d33-4529-8451-090019dc2405')\"\n",
              "            title=\"Convert this dataframe to an interactive table.\"\n",
              "            style=\"display:none;\">\n",
              "\n",
              "  <svg xmlns=\"http://www.w3.org/2000/svg\" height=\"24px\" viewBox=\"0 -960 960 960\">\n",
              "    <path d=\"M120-120v-720h720v720H120Zm60-500h600v-160H180v160Zm220 220h160v-160H400v160Zm0 220h160v-160H400v160ZM180-400h160v-160H180v160Zm440 0h160v-160H620v160ZM180-180h160v-160H180v160Zm440 0h160v-160H620v160Z\"/>\n",
              "  </svg>\n",
              "    </button>\n",
              "\n",
              "  <style>\n",
              "    .colab-df-container {\n",
              "      display:flex;\n",
              "      gap: 12px;\n",
              "    }\n",
              "\n",
              "    .colab-df-convert {\n",
              "      background-color: #E8F0FE;\n",
              "      border: none;\n",
              "      border-radius: 50%;\n",
              "      cursor: pointer;\n",
              "      display: none;\n",
              "      fill: #1967D2;\n",
              "      height: 32px;\n",
              "      padding: 0 0 0 0;\n",
              "      width: 32px;\n",
              "    }\n",
              "\n",
              "    .colab-df-convert:hover {\n",
              "      background-color: #E2EBFA;\n",
              "      box-shadow: 0px 1px 2px rgba(60, 64, 67, 0.3), 0px 1px 3px 1px rgba(60, 64, 67, 0.15);\n",
              "      fill: #174EA6;\n",
              "    }\n",
              "\n",
              "    .colab-df-buttons div {\n",
              "      margin-bottom: 4px;\n",
              "    }\n",
              "\n",
              "    [theme=dark] .colab-df-convert {\n",
              "      background-color: #3B4455;\n",
              "      fill: #D2E3FC;\n",
              "    }\n",
              "\n",
              "    [theme=dark] .colab-df-convert:hover {\n",
              "      background-color: #434B5C;\n",
              "      box-shadow: 0px 1px 3px 1px rgba(0, 0, 0, 0.15);\n",
              "      filter: drop-shadow(0px 1px 2px rgba(0, 0, 0, 0.3));\n",
              "      fill: #FFFFFF;\n",
              "    }\n",
              "  </style>\n",
              "\n",
              "    <script>\n",
              "      const buttonEl =\n",
              "        document.querySelector('#df-13509771-3d33-4529-8451-090019dc2405 button.colab-df-convert');\n",
              "      buttonEl.style.display =\n",
              "        google.colab.kernel.accessAllowed ? 'block' : 'none';\n",
              "\n",
              "      async function convertToInteractive(key) {\n",
              "        const element = document.querySelector('#df-13509771-3d33-4529-8451-090019dc2405');\n",
              "        const dataTable =\n",
              "          await google.colab.kernel.invokeFunction('convertToInteractive',\n",
              "                                                    [key], {});\n",
              "        if (!dataTable) return;\n",
              "\n",
              "        const docLinkHtml = 'Like what you see? Visit the ' +\n",
              "          '<a target=\"_blank\" href=https://colab.research.google.com/notebooks/data_table.ipynb>data table notebook</a>'\n",
              "          + ' to learn more about interactive tables.';\n",
              "        element.innerHTML = '';\n",
              "        dataTable['output_type'] = 'display_data';\n",
              "        await google.colab.output.renderOutput(dataTable, element);\n",
              "        const docLink = document.createElement('div');\n",
              "        docLink.innerHTML = docLinkHtml;\n",
              "        element.appendChild(docLink);\n",
              "      }\n",
              "    </script>\n",
              "  </div>\n",
              "\n",
              "\n",
              "<div id=\"df-94858b48-1c14-471a-9b41-b6aebdfbfe45\">\n",
              "  <button class=\"colab-df-quickchart\" onclick=\"quickchart('df-94858b48-1c14-471a-9b41-b6aebdfbfe45')\"\n",
              "            title=\"Suggest charts.\"\n",
              "            style=\"display:none;\">\n",
              "\n",
              "<svg xmlns=\"http://www.w3.org/2000/svg\" height=\"24px\"viewBox=\"0 0 24 24\"\n",
              "     width=\"24px\">\n",
              "    <g>\n",
              "        <path d=\"M19 3H5c-1.1 0-2 .9-2 2v14c0 1.1.9 2 2 2h14c1.1 0 2-.9 2-2V5c0-1.1-.9-2-2-2zM9 17H7v-7h2v7zm4 0h-2V7h2v10zm4 0h-2v-4h2v4z\"/>\n",
              "    </g>\n",
              "</svg>\n",
              "  </button>\n",
              "\n",
              "<style>\n",
              "  .colab-df-quickchart {\n",
              "      --bg-color: #E8F0FE;\n",
              "      --fill-color: #1967D2;\n",
              "      --hover-bg-color: #E2EBFA;\n",
              "      --hover-fill-color: #174EA6;\n",
              "      --disabled-fill-color: #AAA;\n",
              "      --disabled-bg-color: #DDD;\n",
              "  }\n",
              "\n",
              "  [theme=dark] .colab-df-quickchart {\n",
              "      --bg-color: #3B4455;\n",
              "      --fill-color: #D2E3FC;\n",
              "      --hover-bg-color: #434B5C;\n",
              "      --hover-fill-color: #FFFFFF;\n",
              "      --disabled-bg-color: #3B4455;\n",
              "      --disabled-fill-color: #666;\n",
              "  }\n",
              "\n",
              "  .colab-df-quickchart {\n",
              "    background-color: var(--bg-color);\n",
              "    border: none;\n",
              "    border-radius: 50%;\n",
              "    cursor: pointer;\n",
              "    display: none;\n",
              "    fill: var(--fill-color);\n",
              "    height: 32px;\n",
              "    padding: 0;\n",
              "    width: 32px;\n",
              "  }\n",
              "\n",
              "  .colab-df-quickchart:hover {\n",
              "    background-color: var(--hover-bg-color);\n",
              "    box-shadow: 0 1px 2px rgba(60, 64, 67, 0.3), 0 1px 3px 1px rgba(60, 64, 67, 0.15);\n",
              "    fill: var(--button-hover-fill-color);\n",
              "  }\n",
              "\n",
              "  .colab-df-quickchart-complete:disabled,\n",
              "  .colab-df-quickchart-complete:disabled:hover {\n",
              "    background-color: var(--disabled-bg-color);\n",
              "    fill: var(--disabled-fill-color);\n",
              "    box-shadow: none;\n",
              "  }\n",
              "\n",
              "  .colab-df-spinner {\n",
              "    border: 2px solid var(--fill-color);\n",
              "    border-color: transparent;\n",
              "    border-bottom-color: var(--fill-color);\n",
              "    animation:\n",
              "      spin 1s steps(1) infinite;\n",
              "  }\n",
              "\n",
              "  @keyframes spin {\n",
              "    0% {\n",
              "      border-color: transparent;\n",
              "      border-bottom-color: var(--fill-color);\n",
              "      border-left-color: var(--fill-color);\n",
              "    }\n",
              "    20% {\n",
              "      border-color: transparent;\n",
              "      border-left-color: var(--fill-color);\n",
              "      border-top-color: var(--fill-color);\n",
              "    }\n",
              "    30% {\n",
              "      border-color: transparent;\n",
              "      border-left-color: var(--fill-color);\n",
              "      border-top-color: var(--fill-color);\n",
              "      border-right-color: var(--fill-color);\n",
              "    }\n",
              "    40% {\n",
              "      border-color: transparent;\n",
              "      border-right-color: var(--fill-color);\n",
              "      border-top-color: var(--fill-color);\n",
              "    }\n",
              "    60% {\n",
              "      border-color: transparent;\n",
              "      border-right-color: var(--fill-color);\n",
              "    }\n",
              "    80% {\n",
              "      border-color: transparent;\n",
              "      border-right-color: var(--fill-color);\n",
              "      border-bottom-color: var(--fill-color);\n",
              "    }\n",
              "    90% {\n",
              "      border-color: transparent;\n",
              "      border-bottom-color: var(--fill-color);\n",
              "    }\n",
              "  }\n",
              "</style>\n",
              "\n",
              "  <script>\n",
              "    async function quickchart(key) {\n",
              "      const quickchartButtonEl =\n",
              "        document.querySelector('#' + key + ' button');\n",
              "      quickchartButtonEl.disabled = true;  // To prevent multiple clicks.\n",
              "      quickchartButtonEl.classList.add('colab-df-spinner');\n",
              "      try {\n",
              "        const charts = await google.colab.kernel.invokeFunction(\n",
              "            'suggestCharts', [key], {});\n",
              "      } catch (error) {\n",
              "        console.error('Error during call to suggestCharts:', error);\n",
              "      }\n",
              "      quickchartButtonEl.classList.remove('colab-df-spinner');\n",
              "      quickchartButtonEl.classList.add('colab-df-quickchart-complete');\n",
              "    }\n",
              "    (() => {\n",
              "      let quickchartButtonEl =\n",
              "        document.querySelector('#df-94858b48-1c14-471a-9b41-b6aebdfbfe45 button');\n",
              "      quickchartButtonEl.style.display =\n",
              "        google.colab.kernel.accessAllowed ? 'block' : 'none';\n",
              "    })();\n",
              "  </script>\n",
              "</div>\n",
              "    </div>\n",
              "  </div>\n"
            ]
          },
          "metadata": {},
          "execution_count": 50
        }
      ]
    },
    {
      "cell_type": "markdown",
      "source": [
        "### 1-5. Modeling 및 Evaluation 함수 정의\n",
        "모델을 생성하면 성능에 대한 평가를 위해 evaluation 함수를 정의하고 시작하는 것이 좋다.\n",
        "여기에서는 일반적으로 평가척도에서 많이 사용되는 Accuracy, Precision, Recall, F1 score를 구하는 evaluation 함수를 작성하여 사용하도록 하자.\n",
        "이 함수는 Confusion Matrix를 Heatmap으로 그리는 것도 포함한다.\n"
      ],
      "metadata": {
        "id": "fjplZBoIPgs6"
      }
    },
    {
      "cell_type": "markdown",
      "source": [
        "### 1-6. Evaluation 함수 정의"
      ],
      "metadata": {
        "id": "wKAKebMFPrRM"
      }
    },
    {
      "cell_type": "code",
      "source": [
        "def evaluate_class_mdl(fitted_model, X_train, X_test, y_train, y_test, plot=True, pct=True, thresh=0.5):\n",
        "    y_train_pred = fitted_model.predict(X_train).squeeze()\n",
        "    if len(np.unique(y_train_pred)) > 2:\n",
        "        y_train_pred = np.where(y_train_pred > thresh, 1, 0)\n",
        "        y_test_prob = fitted_model.predict(X_test).squeeze()\n",
        "        y_test_pred = np.where(y_test_prob > thresh, 1, 0)\n",
        "    else:\n",
        "        y_test_prob = fitted_model.predict_proba(X_test)[:,1]\n",
        "        y_test_pred = np.where(y_test_prob > thresh, 1, 0)\n",
        "    roc_auc_te = metrics.roc_auc_score(y_test, y_test_prob)\n",
        "\n",
        "    cf_matrix = metrics.confusion_matrix(y_test, y_test_pred)\n",
        "    tn, fp, fn, tp = cf_matrix.ravel()\n",
        "    acc_tr = metrics.accuracy_score(y_train, y_train_pred)\n",
        "    acc_te = metrics.accuracy_score(y_test, y_test_pred)\n",
        "    pre_te = metrics.precision_score(y_test, y_test_pred)\n",
        "    rec_te = metrics.recall_score(y_test, y_test_pred)\n",
        "    f1_te = metrics.f1_score(y_test, y_test_pred)\n",
        "    mcc_te = metrics.matthews_corrcoef(y_test, y_test_pred)\n",
        "\n",
        "    if plot:\n",
        "        print(f\"Accuracy_train:  {acc_tr:.4f}\\t\\tAccuracy_test:   {acc_te:.4f}\")\n",
        "        print(f\"Precision_test:  {pre_te:.4f}\\t\\tRecall_test:     {rec_te:.4f}\")\n",
        "        print(f\"ROC-AUC_test:    {roc_auc_te:.4f}\\t\\tF1_test:         {f1_te:.4f}\\t\\tMCC_test: {mcc_te:.4f}\")\n",
        "        plt.figure(figsize=(6, 5))\n",
        "        if pct:\n",
        "            ax = sns.heatmap(cf_matrix/np.sum(cf_matrix), annot=True,\\\n",
        "                        fmt='.2%', cmap='Blues', annot_kws={'size':16})\n",
        "        else:\n",
        "            ax = sns.heatmap(cf_matrix, annot=True,\\\n",
        "                        fmt='d',cmap='Blues', annot_kws={'size':16})\n",
        "        ax.set_xlabel('Predicted', fontsize=12)\n",
        "        ax.set_ylabel('Observed', fontsize=12)\n",
        "        plt.show()\n",
        "\n",
        "        return y_train_pred, y_test_prob, y_test_pred\n",
        "    else:\n",
        "        t = cf_matrix.sum()\n",
        "        metrics_dict = {'accuracy_train':acc_tr , 'accuracy_test':acc_te, 'precision':pre_te, 'recall':rec_te,\\\n",
        "                      'roc_auc':roc_auc_te,  'f1':f1_te, 'mcc': mcc_te, 'tn%':tn/t, 'fp%':fp/t, 'fn%':fn/t, 'tp%':tp/t }\n",
        "        return metrics_dict"
      ],
      "metadata": {
        "id": "pHTfpkhEPjfs"
      },
      "execution_count": 51,
      "outputs": []
    },
    {
      "cell_type": "markdown",
      "source": [
        "물론입니다. `evaluate_class_mdl` 함수를 line-by-line으로 자세하게 분석하겠습니다.\n",
        "\n",
        "1. **함수 정의**:\n",
        "```python\n",
        "def evaluate_class_mdl(fitted_model, X_train, X_test, y_train, y_test, plot=True, pct=True, thresh=0.5):\n",
        "```\n",
        "- `evaluate_class_mdl`라는 이름의 함수를 정의합니다.\n",
        "- 입력 변수로 학습된 모델, 훈련 및 테스트 데이터, 그리고 세 가지 옵션(시각화 여부, 백분율 표시 여부, 임계값)을 받습니다.\n",
        "\n",
        "2. **훈련 데이터 예측**:\n",
        "```python\n",
        "y_train_pred = fitted_model.predict(X_train).squeeze()\n",
        "```\n",
        "- 학습된 모델을 사용하여 훈련 데이터에 대한 예측값을 구하고, 이 값을 `y_train_pred`에 저장합니다.\n",
        "\n",
        "3. **예측값 유형 확인 및 변환**:\n",
        "```python\n",
        "if len(np.unique(y_train_pred)) > 2:\n",
        "    y_train_pred = np.where(y_train_pred > thresh, 1, 0)\n",
        "    y_test_prob = fitted_model.predict(X_test).squeeze()\n",
        "    y_test_pred = np.where(y_test_prob > thresh, 1, 0)\n",
        "```\n",
        "- 만약 훈련 데이터의 예측값이 이진 값(0 또는 1)이 아니라면, 주어진 임계값(`thresh`)를 기준으로 이진 예측값으로 변환합니다.\n",
        "- 테스트 데이터에 대해서도 마찬가지로 확률 값을 구하고, 임계값을 기준으로 이진 예측값을 생성합니다.\n",
        "\n",
        "4. **이진 예측의 경우**:\n",
        "```python\n",
        "else:   \n",
        "    y_test_prob = fitted_model.predict_proba(X_test)[:,1]\n",
        "    y_test_pred = np.where(y_test_prob > thresh, 1, 0)\n",
        "```\n",
        "- 만약 훈련 데이터의 예측값이 이미 이진 값이라면, 테스트 데이터에 대해서 확률 값을 구하고, 임계값을 기준으로 이진 예측값을 생성합니다.\n",
        "\n",
        "5. **ROC-AUC 계산**:\n",
        "```python\n",
        "roc_auc_te = metrics.roc_auc_score(y_test, y_test_prob)\n",
        "```\n",
        "- 테스트 데이터의 실제값과 확률 예측값을 사용하여 ROC-AUC 값을 계산합니다.\n",
        "\n",
        "6. **혼동 행렬 생성**:\n",
        "```python\n",
        "cf_matrix = metrics.confusion_matrix(y_test, y_test_pred)\n",
        "```\n",
        "- 테스트 데이터의 실제값과 이진 예측값을 사용하여 혼동 행렬을 생성합니다.\n",
        "\n",
        "7. **혼동 행렬 값 추출**:\n",
        "```python\n",
        "tn, fp, fn, tp = cf_matrix.ravel()\n",
        "```\n",
        "- 혼동 행렬에서 True Negative, False Positive, False Negative, True Positive 값을 각각 추출합니다.\n",
        "\n",
        "8. **다양한 성능 지표 계산**:\n",
        "```python\n",
        "acc_tr = metrics.accuracy_score(y_train, y_train_pred)\n",
        "acc_te = metrics.accuracy_score(y_test, y_test_pred)\n",
        "pre_te = metrics.precision_score(y_test, y_test_pred)\n",
        "rec_te = metrics.recall_score(y_test, y_test_pred)\n",
        "f1_te = metrics.f1_score(y_test, y_test_pred)\n",
        "mcc_te = metrics.matthews_corrcoef(y_test, y_test_pred)\n",
        "```\n",
        "- 훈련 데이터와 테스트 데이터에 대한 정확도, 테스트 데이터에 대한 정밀도, 재현율, F1 스코어, 매튜 상관 계수와 같은 성능 지표를 계산합니다.\n",
        "\n",
        "9. **결과 출력 및 시각화**:\n",
        "```python\n",
        "if plot:\n",
        "    print(f\"Accuracy_train:  {acc_tr:.4f}\\t\\tAccuracy_test:   {acc_te:.4f}\")\n",
        "    ...\n",
        "    plt.show()\n",
        "    return y_train_pred, y_test_prob, y_test_pred\n",
        "```\n",
        "- `plot=True`인 경우, 성능 지표를 출력하고 혼동 행렬을 시각화하여 표시합니다.\n",
        "- 시각화 결과를 표시한 후, 훈련 데이터 예측값, 테스트 데이터 확률값, 테스트 데이터 예측값을 반환합니다.\n",
        "\n",
        "10. **성능 지표 반환**:\n",
        "```python\n",
        "else:\n",
        "    ...\n",
        "    return metrics_dict\n",
        "```\n",
        "- `plot=False`인 경우, 계산된 성능 지표들을 딕셔너리 형태로 반환합니다.\n",
        "\n",
        "이렇게 `evaluate_class_mdl` 함수는 주어진 학습된 모델과 데이터셋에 대한 성능을 평가하고, 결과를 출력하거나 반환하는 역할을 합니다."
      ],
      "metadata": {
        "id": "6whfutXBQiHU"
      }
    },
    {
      "cell_type": "markdown",
      "source": [
        "`.squeeze()`는 NumPy 배열의 메서드로, 차원 중 크기가 1인 차원을 제거하는 역할을 합니다.\n",
        "\n",
        "예를 들어, 만약 배열의 형태(shape)가 `(n, 1)`이라면, `.squeeze()`를 사용하면 배열의 형태는 `(n,)`이 됩니다.\n",
        "\n",
        "`fitted_model.predict(X_train)`의 결과는 때로는 2차원 배열로 반환될 수 있습니다. 예를 들어, `(n, 1)`와 같은 형태로 말이죠. `.squeeze()`를 사용함으로써 결과를 1차원 배열로 변환하여 연산을 간소화하거나, 다른 함수와의 호환성을 높이기 위해 사용될 수 있습니다.\n",
        "\n",
        "간단한 예제로 설명하겠습니다:\n",
        "\n",
        "```python\n",
        "import numpy as np\n",
        "\n",
        "# 2차원 배열 생성\n",
        "arr = np.array([[1], [2], [3], [4]])\n",
        "print(arr.shape)  # (4, 1)\n",
        "\n",
        "# .squeeze()를 사용하여 1차원 배열로 변환\n",
        "squeezed_arr = arr.squeeze()\n",
        "print(squeezed_arr.shape)  # (4,)\n",
        "```\n",
        "\n",
        "따라서, `y_train_pred = fitted_model.predict(X_train).squeeze()`에서 `.squeeze()`는 반환된 예측값 배열을 1차원 배열로 변환하기 위해 사용됩니다."
      ],
      "metadata": {
        "id": "0lUaFrpMUGgp"
      }
    },
    {
      "cell_type": "markdown",
      "source": [
        "### 1-7. Base 모델 학습"
      ],
      "metadata": {
        "id": "SD_qcCBUP7O-"
      }
    },
    {
      "cell_type": "code",
      "source": [
        "%matplotlib inline\n",
        "clf = lgb.LGBMClassifier(random_state=rand, n_jobs=-1)\n",
        "clf.fit(X_train, y_train)\n",
        "\n",
        "_ =  evaluate_class_mdl(clf, X_train, X_test, y_train, y_test)"
      ],
      "metadata": {
        "colab": {
          "base_uri": "https://localhost:8080/",
          "height": 690
        },
        "id": "TykimZ-8PjdQ",
        "outputId": "d2092c68-9ac4-43f7-93b8-a88028d70e30"
      },
      "execution_count": 52,
      "outputs": [
        {
          "output_type": "stream",
          "name": "stdout",
          "text": [
            "[LightGBM] [Warning] Found whitespace in feature_names, replace with underlines\n",
            "[LightGBM] [Info] Number of positive: 7932, number of negative: 63304\n",
            "[LightGBM] [Warning] Auto-choosing row-wise multi-threading, the overhead of testing was 0.707875 seconds.\n",
            "You can set `force_row_wise=true` to remove the overhead.\n",
            "And if memory is not enough, you can set `force_col_wise=true`.\n",
            "[LightGBM] [Info] Total Bins 319\n",
            "[LightGBM] [Info] Number of data points in the train set: 71236, number of used features: 53\n",
            "[LightGBM] [Info] [binary:BoostFromScore]: pavg=0.111348 -> initscore=-2.077043\n",
            "[LightGBM] [Info] Start training from score -2.077043\n",
            "Accuracy_train:  0.8888\t\tAccuracy_test:   0.8877\n",
            "Precision_test:  0.0000\t\tRecall_test:     0.0000\n",
            "ROC-AUC_test:    0.6469\t\tF1_test:         0.0000\t\tMCC_test: -0.0029\n"
          ]
        },
        {
          "output_type": "display_data",
          "data": {
            "text/plain": [
              "<Figure size 600x500 with 2 Axes>"
            ],
            "image/png": "[encoded data removed]"
          },
          "metadata": {}
        }
      ]
    },
    {
      "cell_type": "markdown",
      "source": [
        "숫자만 봤을 때는 정확도는 매우 높은 것으로 보이지만,\n",
        "Precision과 Recall은 매우 낮아 전반적인 성능은 나쁘다."
      ],
      "metadata": {
        "id": "w35FUmifQGcZ"
      }
    },
    {
      "cell_type": "markdown",
      "source": [
        "#### 1-7-1. Class Weights"
      ],
      "metadata": {
        "id": "GRd4IjTVQIWS"
      }
    },
    {
      "cell_type": "markdown",
      "source": [
        "\n",
        "모델은 기본적으로 Positive 클래스를 예측할 때 보수적 접근 방법으로 모델을 생성하기 떄문에 너무 많은 위험을 감수하지 않는다.\n",
        "해결책은 Positive 클래스에 더 많은 비중을 두도록 강제하는 Hyperparameter를 활용하는 것이다.\n",
        "클래스 가중치를 부여할 수 있는 방법은 여러 가지가 있지만, 그 중 하나인 `scale_pos_weight`를 활용해보자.\n",
        "\n",
        "보통 많이 사용하는 값은 아래 수식을 통해 계산한다.\n",
        "\n",
        "$\\large{\\frac{\\text{number of negative samples}}{\\text{number of positive samples}}}$"
      ],
      "metadata": {
        "id": "pZ0sK5FHQJzM"
      }
    },
    {
      "cell_type": "markdown",
      "source": [
        "\n",
        "\n",
        "모델이 클래스 불균형 문제를 처리할 때, 기본 설정으로는 Positive 클래스를 예측하는 데 보수적으로 동작하게 됩니다. 이는 Negative 클래스의 데이터가 많을 경우, 단순히 대부분의 예측을 Negative로 하면 정확도가 높게 나오기 때문입니다. 그러나 이런 접근 방식은 Positive 클래스를 잘못 분류하는 경우가 많아질 수 있으며, 특히 Positive 클래스의 예측이 중요한 상황에서는 이런 접근 방식이 문제가 될 수 있습니다.\n",
        "\n",
        "이러한 문제를 해결하기 위해 클래스의 불균형을 해소하는 다양한 방법이 제안되었습니다. 그 중 하나는 클래스에 가중치를 부여하는 것입니다. 여기서 언급된 `scale_pos_weight`는 그러한 하이퍼파라미터 중 하나로, 주로 XGBoost와 같은 알고리즘에서 사용됩니다.\n",
        "\n",
        "`scale_pos_weight`는 Positive 클래스의 가중치를 조절하는 데 사용되며, 값이 클수록 모델은 Positive 클래스에 더 큰 중요도를 부여합니다. 이 하이퍼파라미터의 값을 설정하는 일반적인 방법은 Negative 샘플 수를 Positive 샘플 수로 나눈 값으로 계산하는 것입니다. 이렇게 계산된 값은 Positive 클래스의 예측에 더 큰 중요도를 부여하도록 모델을 유도합니다.\n",
        "\n",
        "예를 들어, Negative 클래스 샘플이 1000개, Positive 클래스 샘플이 100개인 경우 `scale_pos_weight`는 \\( \\frac{1000}{100} = 10 \\)이 됩니다. 이는 모델에 Positive 클래스를 10배 더 중요하게 여기도록 알려주는 것입니다.\n",
        "\n",
        "이렇게 클래스의 가중치를 조절함으로써 모델이 더 균형 잡힌 예측을 하도록 도와줄 수 있습니다."
      ],
      "metadata": {
        "id": "6oXYNtY7Qvjo"
      }
    },
    {
      "cell_type": "code",
      "source": [
        "def_scale_pos_weight = len(y[y==0]) / len(y[y==1])\n",
        "print(f\"default scale pos weight: {def_scale_pos_weight:.2f}\")"
      ],
      "metadata": {
        "colab": {
          "base_uri": "https://localhost:8080/"
        },
        "id": "iG0SuyDaPjaj",
        "outputId": "9cd6d8ae-c69c-4fba-d286-828a747b6654"
      },
      "execution_count": 53,
      "outputs": [
        {
          "output_type": "stream",
          "name": "stdout",
          "text": [
            "default scale pos weight: 7.96\n"
          ]
        }
      ]
    },
    {
      "cell_type": "markdown",
      "source": [
        "이 값은 실제로 모델의 성능을 향상시키지만 여전히 상당한 수준의 오탐지가 존재한다."
      ],
      "metadata": {
        "id": "2N99T7jjQbx5"
      }
    },
    {
      "cell_type": "code",
      "source": [
        "clf = lgb.LGBMClassifier(random_state=rand, n_jobs=-1, scale_pos_weight=def_scale_pos_weight)\n",
        "clf.fit(X_train, y_train)\n",
        "_ =  evaluate_class_mdl(clf, X_train, X_test, y_train, y_test)"
      ],
      "metadata": {
        "colab": {
          "base_uri": "https://localhost:8080/",
          "height": 690
        },
        "id": "FcHe7XBBPjXk",
        "outputId": "bdd29a74-0ae9-45e0-ac28-dd412c657ea1"
      },
      "execution_count": 55,
      "outputs": [
        {
          "output_type": "stream",
          "name": "stdout",
          "text": [
            "[LightGBM] [Warning] Found whitespace in feature_names, replace with underlines\n",
            "[LightGBM] [Info] Number of positive: 7932, number of negative: 63304\n",
            "[LightGBM] [Warning] Auto-choosing row-wise multi-threading, the overhead of testing was 0.194974 seconds.\n",
            "You can set `force_row_wise=true` to remove the overhead.\n",
            "And if memory is not enough, you can set `force_col_wise=true`.\n",
            "[LightGBM] [Info] Total Bins 319\n",
            "[LightGBM] [Info] Number of data points in the train set: 71236, number of used features: 53\n",
            "[LightGBM] [Info] [binary:BoostFromScore]: pavg=0.111348 -> initscore=-2.077043\n",
            "[LightGBM] [Info] Start training from score -2.077043\n",
            "Accuracy_train:  0.6381\t\tAccuracy_test:   0.6086\n",
            "Precision_test:  0.1638\t\tRecall_test:     0.6064\n",
            "ROC-AUC_test:    0.6458\t\tF1_test:         0.2580\t\tMCC_test: 0.1379\n"
          ]
        },
        {
          "output_type": "display_data",
          "data": {
            "text/plain": [
              "<Figure size 600x500 with 2 Axes>"
            ],
            "image/png": "[encoded data removed]"
          },
          "metadata": {}
        }
      ]
    },
    {
      "cell_type": "markdown",
      "source": [
        "그리고 두 배로 만들면 오탐지가 두 배가 된다."
      ],
      "metadata": {
        "id": "CMf59AS4RuE5"
      }
    },
    {
      "cell_type": "code",
      "source": [
        "clf = lgb.LGBMClassifier(random_state=rand, n_jobs=-1, scale_pos_weight=def_scale_pos_weight*2)\n",
        "clf.fit(X_train, y_train)\n",
        "\n",
        "_ = evaluate_class_mdl(clf, X_train, X_test, y_train, y_test)"
      ],
      "metadata": {
        "colab": {
          "base_uri": "https://localhost:8080/",
          "height": 690
        },
        "id": "lPb3lbWBPjVd",
        "outputId": "86ccb55b-11cc-4559-8e9b-bbec8879acbf"
      },
      "execution_count": 56,
      "outputs": [
        {
          "output_type": "stream",
          "name": "stdout",
          "text": [
            "[LightGBM] [Warning] Found whitespace in feature_names, replace with underlines\n",
            "[LightGBM] [Info] Number of positive: 7932, number of negative: 63304\n",
            "[LightGBM] [Warning] Auto-choosing row-wise multi-threading, the overhead of testing was 0.230456 seconds.\n",
            "You can set `force_row_wise=true` to remove the overhead.\n",
            "And if memory is not enough, you can set `force_col_wise=true`.\n",
            "[LightGBM] [Info] Total Bins 319\n",
            "[LightGBM] [Info] Number of data points in the train set: 71236, number of used features: 53\n",
            "[LightGBM] [Info] [binary:BoostFromScore]: pavg=0.111348 -> initscore=-2.077043\n",
            "[LightGBM] [Info] Start training from score -2.077043\n",
            "Accuracy_train:  0.3354\t\tAccuracy_test:   0.3157\n",
            "Precision_test:  0.1293\t\tRecall_test:     0.8893\n",
            "ROC-AUC_test:    0.6438\t\tF1_test:         0.2258\t\tMCC_test: 0.0997\n"
          ]
        },
        {
          "output_type": "display_data",
          "data": {
            "text/plain": [
              "<Figure size 600x500 with 2 Axes>"
            ],
            "image/png": "[encoded data removed]"
          },
          "metadata": {}
        }
      ]
    },
    {
      "cell_type": "markdown",
      "source": [
        "그리고 절반으로 줄이면 반대로 모델이 더 보수적으로 바뀐다."
      ],
      "metadata": {
        "id": "I5EpQq2xR2y0"
      }
    },
    {
      "cell_type": "code",
      "source": [
        "clf = lgb.LGBMClassifier(random_state=rand, n_jobs=-1, scale_pos_weight=def_scale_pos_weight/2)\n",
        "clf.fit(X_train, y_train)\n",
        "\n",
        "_ = evaluate_class_mdl(clf, X_train, X_test, y_train, y_test)"
      ],
      "metadata": {
        "colab": {
          "base_uri": "https://localhost:8080/",
          "height": 690
        },
        "id": "4YqihI3oPjSx",
        "outputId": "0da1a76e-aef7-4546-efae-5309bbbf1c88"
      },
      "execution_count": 57,
      "outputs": [
        {
          "output_type": "stream",
          "name": "stdout",
          "text": [
            "[LightGBM] [Warning] Found whitespace in feature_names, replace with underlines\n",
            "[LightGBM] [Info] Number of positive: 7932, number of negative: 63304\n",
            "[LightGBM] [Warning] Auto-choosing row-wise multi-threading, the overhead of testing was 0.018121 seconds.\n",
            "You can set `force_row_wise=true` to remove the overhead.\n",
            "And if memory is not enough, you can set `force_col_wise=true`.\n",
            "[LightGBM] [Info] Total Bins 319\n",
            "[LightGBM] [Info] Number of data points in the train set: 71236, number of used features: 53\n",
            "[LightGBM] [Info] [binary:BoostFromScore]: pavg=0.111348 -> initscore=-2.077043\n",
            "[LightGBM] [Info] Start training from score -2.077043\n",
            "Accuracy_train:  0.8771\t\tAccuracy_test:   0.8617\n",
            "Precision_test:  0.2232\t\tRecall_test:     0.0937\n",
            "ROC-AUC_test:    0.6485\t\tF1_test:         0.1320\t\tMCC_test: 0.0782\n"
          ]
        },
        {
          "output_type": "display_data",
          "data": {
            "text/plain": [
              "<Figure size 600x500 with 2 Axes>"
            ],
            "image/png": "[encoded data removed]"
          },
          "metadata": {}
        }
      ]
    },
    {
      "cell_type": "markdown",
      "source": [
        "#### 1-7-2. Hyperparameter tuning"
      ],
      "metadata": {
        "id": "lY4P8DBaR662"
      }
    },
    {
      "cell_type": "markdown",
      "source": [
        "보수적 접근 방법은 다음과 같은 특징 때문에 실제 적용이 너무 어렵다.\n",
        "\n",
        "- True Positive(정탐)만 Maximize\n",
        "- False Positive(미탐) 최소화\n",
        "- 보통은 Recall이나 Precision을 더 선호\n",
        "- 미탐보다 오탐이 훨씬 더 많음"
      ],
      "metadata": {
        "id": "5RjhZvnqR77N"
      }
    },
    {
      "cell_type": "markdown",
      "source": [
        "현재 모델의 결과를 보면, 거의 모든 것이 Positive 클래스에 속할 것으로 예상되는 문제가 있다."
      ],
      "metadata": {
        "id": "Lh3VEe9tR9PK"
      }
    },
    {
      "cell_type": "markdown",
      "source": [
        "이를 해결하기 위해 몇 가지 제약 조건을 정의해야 한다.\n",
        "예를 들어, 재입원하지 않은 모든 데이터을 포함할 수 있도록 적어도 충분한 true negative(정음성)이 있어야한다."
      ],
      "metadata": {
        "id": "EslePTjiR-ck"
      }
    },
    {
      "cell_type": "code",
      "source": [
        "min_tn = X_orig[X_orig['readmitted']=='NO'].shape[0] / X_orig.shape[0]\n",
        "print(f\"Patients % that never readmitted (Minimum % of True Negatives): {min_tn:.2%}\")"
      ],
      "metadata": {
        "colab": {
          "base_uri": "https://localhost:8080/"
        },
        "id": "G6-WmyHXPjQE",
        "outputId": "7c06be7a-2878-44b8-b49a-86aade303efa"
      },
      "execution_count": 58,
      "outputs": [
        {
          "output_type": "stream",
          "name": "stdout",
          "text": [
            "Patients % that never readmitted (Minimum % of True Negatives): 53.91%\n"
          ]
        }
      ]
    },
    {
      "cell_type": "markdown",
      "source": [
        "또한 우리는 30일이 지나서 재입원한 환자도 False Positive에 포함되도록 비율을 조정해야 한다."
      ],
      "metadata": {
        "id": "0qhI2GPZSSHA"
      }
    },
    {
      "cell_type": "code",
      "source": [
        "max_fp = X_orig[X_orig['readmitted']=='>30'].shape[0] / X_orig.shape[0]\n",
        "print(f\"Patients % that were readmitted over 30 days later (Maximum % of False Positives): {max_fp:.2%}\")"
      ],
      "metadata": {
        "colab": {
          "base_uri": "https://localhost:8080/"
        },
        "id": "qdkvBEwNPjNN",
        "outputId": "cb5bdc8d-f96f-4d2f-e996-a706dd1a4157"
      },
      "execution_count": 59,
      "outputs": [
        {
          "output_type": "stream",
          "name": "stdout",
          "text": [
            "Patients % that were readmitted over 30 days later (Maximum % of False Positives): 34.93%\n"
          ]
        }
      ]
    },
    {
      "cell_type": "markdown",
      "source": [
        "**Define optimization fuction**"
      ],
      "metadata": {
        "id": "gxBsEvH-SfPW"
      }
    },
    {
      "cell_type": "markdown",
      "source": [
        "함수에서 `scale_pos_weight`를 사용한 클래스 가중치 외에도 `max_depth`(트리 깊이를 제한하기 위해) 및 `reg_lambda` 및 `reg_alpha`를 사용한 L1/L2 정규화에 대한 최상의 하이퍼파라미터를 찾습니다. 이렇게 하면 모델이 일반화되는 데 도움이 됩니다. 목적 함수는 두 제약 조건이 충족되지 않는 경우를 제외하고 `recall`을 출력합니다. 이 경우 0을 반환합니다."
      ],
      "metadata": {
        "id": "AcrAqZ8bSgaZ"
      }
    },
    {
      "cell_type": "code",
      "source": [
        "def optimize_lgb(trial):\n",
        "    params = {\n",
        "        'max_depth': trial.suggest_int('max_depth', 2, 11),\n",
        "        'scale_pos_weight': trial.suggest_float('scale_pos_weight', def_scale_pos_weight/2, def_scale_pos_weight*2),\n",
        "        'reg_lambda': trial.suggest_float('reg_lambda', 1e-8, 10.0, log=True),\n",
        "        'reg_alpha': trial.suggest_float('reg_alpha', 1e-8, 10.0, log=True)\n",
        "    }\n",
        "    if params['max_depth'] == 11:\n",
        "        params['max_depth'] = -1\n",
        "\n",
        "    clf = lgb.LGBMClassifier(random_state=rand, n_jobs=-1, **params)\n",
        "    clf.fit(X_train, y_train)\n",
        "\n",
        "    metrics_dict = evaluate_class_mdl(clf, X_train, X_test, y_train, y_test, plot=False)\n",
        "\n",
        "    if (metrics_dict['tn%'] < min_tn) or (metrics_dict['fp%'] > max_fp):\n",
        "        return 0\n",
        "\n",
        "    return metrics_dict['recall']"
      ],
      "metadata": {
        "id": "aeQDZkQ6PjLC"
      },
      "execution_count": 60,
      "outputs": []
    },
    {
      "cell_type": "markdown",
      "source": [
        "\n",
        "\n",
        "1. **함수 정의**:\n",
        "```python\n",
        "def optimize_lgb(trial):\n",
        "```\n",
        "- `optimize_lgb`라는 이름의 함수를 정의합니다.\n",
        "- `trial`이라는 인자를 받습니다. 이 인자는 Optuna 라이브러리에서 하이퍼파라미터 최적화를 위한 각 시도를 나타냅니다.\n",
        "\n",
        "2. **하이퍼파라미터 설정**:\n",
        "```python\n",
        "params = {\n",
        "    'max_depth': trial.suggest_int('max_depth', 2, 11),\n",
        "    'scale_pos_weight': trial.suggest_float('scale_pos_weight', def_scale_pos_weight/2, def_scale_pos_weight*2),\n",
        "    'reg_lambda': trial.suggest_float('reg_lambda', 1e-8, 10.0, log=True),\n",
        "    'reg_alpha': trial.suggest_float('reg_alpha', 1e-8, 10.0, log=True)\n",
        "}\n",
        "```\n",
        "- `params` 딕셔너리 안에 LightGBM 모델의 여러 하이퍼파라미터를 설정합니다.\n",
        "- `trial.suggest_...` 메서드를 사용하여 각 하이퍼파라미터의 범위와 타입을 지정합니다.\n",
        "\n",
        "3. **max_depth 값 수정**:\n",
        "```python\n",
        "if params['max_depth'] == 11:\n",
        "    params['max_depth'] = -1\n",
        "```\n",
        "- 만약 `max_depth` 값이 11이라면, 그 값을 -1로 변경합니다. LightGBM에서 `max_depth` 값이 -1인 경우, 제한 없이 깊게 트리를 성장시키라는 의미입니다.\n",
        "\n",
        "4. **모델 학습**:\n",
        "```python\n",
        "clf = lgb.LGBMClassifier(random_state=rand, n_jobs=-1, **params)\n",
        "clf.fit(X_train, y_train)\n",
        "```\n",
        "- 설정된 하이퍼파라미터를 사용하여 LightGBM 분류기를 초기화하고 훈련 데이터로 학습시킵니다.\n",
        "\n",
        "5. **모델 성능 평가**:\n",
        "```python\n",
        "metrics_dict = evaluate_class_mdl(clf, X_train, X_test, y_train, y_test, plot=False)\n",
        "```\n",
        "- 앞서 주어진 `evaluate_class_mdl` 함수를 사용하여 학습된 모델의 성능을 평가하고, 그 결과를 `metrics_dict`에 저장합니다.\n",
        "\n",
        "6. **조건 확인 및 반환**:\n",
        "```python\n",
        "if (metrics_dict['tn%'] < min_tn) or (metrics_dict['fp%'] > max_fp):\n",
        "    return 0\n",
        "```\n",
        "- 만약 True Negative의 비율이 `min_tn`보다 작거나, False Positive의 비율이 `max_fp`보다 크다면, 0을 반환합니다. 이는 해당 하이퍼파라미터 설정에서 원하는 성능을 얻지 못했음을 나타냅니다.\n",
        "\n",
        "7. **결과 반환**:\n",
        "```python\n",
        "return metrics_dict['recall']\n",
        "```\n",
        "- 최종적으로, `recall` 값을 반환합니다. 이 값은 Optuna 라이브러리가 하이퍼파라미터를 최적화하는 데 사용합니다.\n",
        "\n",
        "함수의 주요 목적은 주어진 하이퍼파라미터 설정에서의 모델 성능을 평가하고, 그 성능을 기반으로 최적의 하이퍼파라미터를 찾는 것입니다. Optuna와 같은 라이브러리는 이 함수를 여러 번 호출하며 다양한 하이퍼파라미터 조합을 시도하여 최적의 값을 찾습니다."
      ],
      "metadata": {
        "id": "rYgL3YFNTqrB"
      }
    },
    {
      "cell_type": "markdown",
      "source": [
        "**Run optimization trials**"
      ],
      "metadata": {
        "id": "JlV7dYqSTH0C"
      }
    },
    {
      "cell_type": "markdown",
      "source": [
        "`optuna`로 100번의 시도를 실행하는 데 몇 분 정도 걸린다."
      ],
      "metadata": {
        "id": "AeNFMZEZTKAz"
      }
    },
    {
      "cell_type": "code",
      "source": [
        "%%time\n",
        "opt_study = optuna.create_study(direction='maximize')\n",
        "opt_study.optimize(optimize_lgb, n_trials=100)"
      ],
      "metadata": {
        "colab": {
          "base_uri": "https://localhost:8080/"
        },
        "id": "iEXBFCzEPjIR",
        "outputId": "5dc193e9-6190-4a51-c7dd-bec692e14b4a"
      },
      "execution_count": 61,
      "outputs": [
        {
          "output_type": "stream",
          "name": "stderr",
          "text": [
            "[I 2023-10-03 11:30:05,379] A new study created in memory with name: no-name-65fc8817-6724-47c1-9d2a-c887397b7fae\n"
          ]
        },
        {
          "output_type": "stream",
          "name": "stdout",
          "text": [
            "[LightGBM] [Warning] Accuracy may be bad since you didn't explicitly set num_leaves OR 2^max_depth > num_leaves. (num_leaves=31).\n",
            "[LightGBM] [Warning] Found whitespace in feature_names, replace with underlines\n",
            "[LightGBM] [Warning] Accuracy may be bad since you didn't explicitly set num_leaves OR 2^max_depth > num_leaves. (num_leaves=31).\n",
            "[LightGBM] [Info] Number of positive: 7932, number of negative: 63304\n",
            "[LightGBM] [Warning] Auto-choosing row-wise multi-threading, the overhead of testing was 0.775424 seconds.\n",
            "You can set `force_row_wise=true` to remove the overhead.\n",
            "And if memory is not enough, you can set `force_col_wise=true`.\n",
            "[LightGBM] [Info] Total Bins 319\n",
            "[LightGBM] [Info] Number of data points in the train set: 71236, number of used features: 53\n",
            "[LightGBM] [Info] [binary:BoostFromScore]: pavg=0.111348 -> initscore=-2.077043\n",
            "[LightGBM] [Info] Start training from score -2.077043\n",
            "[LightGBM] [Warning] No further splits with positive gain, best gain: -inf\n",
            "[LightGBM] [Warning] No further splits with positive gain, best gain: -inf\n",
            "[LightGBM] [Warning] No further splits with positive gain, best gain: -inf\n",
            "[LightGBM] [Warning] Accuracy may be bad since you didn't explicitly set num_leaves OR 2^max_depth > num_leaves. (num_leaves=31).\n"
          ]
        },
        {
          "output_type": "stream",
          "name": "stderr",
          "text": [
            "[I 2023-10-03 11:30:08,195] Trial 0 finished with value: 0.0 and parameters: {'max_depth': 7, 'scale_pos_weight': 15.121805714925035, 'reg_lambda': 6.718374415691349e-08, 'reg_alpha': 3.584673017187385e-05}. Best is trial 0 with value: 0.0.\n"
          ]
        },
        {
          "output_type": "stream",
          "name": "stdout",
          "text": [
            "[LightGBM] [Warning] Accuracy may be bad since you didn't explicitly set num_leaves OR 2^max_depth > num_leaves. (num_leaves=31).\n",
            "[LightGBM] [Warning] Accuracy may be bad since you didn't explicitly set num_leaves OR 2^max_depth > num_leaves. (num_leaves=31).\n",
            "[LightGBM] [Warning] Found whitespace in feature_names, replace with underlines\n",
            "[LightGBM] [Warning] Accuracy may be bad since you didn't explicitly set num_leaves OR 2^max_depth > num_leaves. (num_leaves=31).\n",
            "[LightGBM] [Info] Number of positive: 7932, number of negative: 63304\n",
            "[LightGBM] [Warning] Auto-choosing row-wise multi-threading, the overhead of testing was 0.005327 seconds.\n",
            "You can set `force_row_wise=true` to remove the overhead.\n",
            "And if memory is not enough, you can set `force_col_wise=true`.\n",
            "[LightGBM] [Info] Total Bins 319\n",
            "[LightGBM] [Info] Number of data points in the train set: 71236, number of used features: 53\n",
            "[LightGBM] [Info] [binary:BoostFromScore]: pavg=0.111348 -> initscore=-2.077043\n",
            "[LightGBM] [Info] Start training from score -2.077043\n",
            "[LightGBM] [Warning] No further splits with positive gain, best gain: -inf\n",
            "[LightGBM] [Warning] No further splits with positive gain, best gain: -inf\n",
            "[LightGBM] [Warning] No further splits with positive gain, best gain: -inf\n",
            "[LightGBM] [Warning] Accuracy may be bad since you didn't explicitly set num_leaves OR 2^max_depth > num_leaves. (num_leaves=31).\n",
            "[LightGBM] [Warning] Accuracy may be bad since you didn't explicitly set num_leaves OR 2^max_depth > num_leaves. (num_leaves=31).\n"
          ]
        },
        {
          "output_type": "stream",
          "name": "stderr",
          "text": [
            "[I 2023-10-03 11:30:08,839] Trial 1 finished with value: 0.5527007299270073 and parameters: {'max_depth': 8, 'scale_pos_weight': 7.285324078943653, 'reg_lambda': 0.2537414656103463, 'reg_alpha': 3.894389036781523e-08}. Best is trial 1 with value: 0.5527007299270073.\n"
          ]
        },
        {
          "output_type": "stream",
          "name": "stdout",
          "text": [
            "[LightGBM] [Warning] Accuracy may be bad since you didn't explicitly set num_leaves OR 2^max_depth > num_leaves. (num_leaves=31).\n",
            "[LightGBM] [Warning] Found whitespace in feature_names, replace with underlines\n",
            "[LightGBM] [Warning] Accuracy may be bad since you didn't explicitly set num_leaves OR 2^max_depth > num_leaves. (num_leaves=31).\n",
            "[LightGBM] [Info] Number of positive: 7932, number of negative: 63304\n",
            "[LightGBM] [Warning] Auto-choosing row-wise multi-threading, the overhead of testing was 0.005579 seconds.\n",
            "You can set `force_row_wise=true` to remove the overhead.\n",
            "And if memory is not enough, you can set `force_col_wise=true`.\n",
            "[LightGBM] [Info] Total Bins 319\n",
            "[LightGBM] [Info] Number of data points in the train set: 71236, number of used features: 53\n",
            "[LightGBM] [Info] [binary:BoostFromScore]: pavg=0.111348 -> initscore=-2.077043\n",
            "[LightGBM] [Info] Start training from score -2.077043\n",
            "[LightGBM] [Warning] No further splits with positive gain, best gain: -inf\n",
            "[LightGBM] [Warning] Accuracy may be bad since you didn't explicitly set num_leaves OR 2^max_depth > num_leaves. (num_leaves=31).\n",
            "[LightGBM] [Warning] Accuracy may be bad since you didn't explicitly set num_leaves OR 2^max_depth > num_leaves. (num_leaves=31).\n"
          ]
        },
        {
          "output_type": "stream",
          "name": "stderr",
          "text": [
            "[I 2023-10-03 11:30:09,449] Trial 2 finished with value: 0.0 and parameters: {'max_depth': 9, 'scale_pos_weight': 13.068285593462033, 'reg_lambda': 0.0009014336482409883, 'reg_alpha': 1.7633980509296692}. Best is trial 1 with value: 0.5527007299270073.\n"
          ]
        },
        {
          "output_type": "stream",
          "name": "stdout",
          "text": [
            "[LightGBM] [Warning] Accuracy may be bad since you didn't explicitly set num_leaves OR 2^max_depth > num_leaves. (num_leaves=31).\n",
            "[LightGBM] [Warning] Found whitespace in feature_names, replace with underlines\n",
            "[LightGBM] [Warning] Accuracy may be bad since you didn't explicitly set num_leaves OR 2^max_depth > num_leaves. (num_leaves=31).\n",
            "[LightGBM] [Info] Number of positive: 7932, number of negative: 63304\n",
            "[LightGBM] [Warning] Auto-choosing row-wise multi-threading, the overhead of testing was 0.005803 seconds.\n",
            "You can set `force_row_wise=true` to remove the overhead.\n",
            "And if memory is not enough, you can set `force_col_wise=true`.\n",
            "[LightGBM] [Info] Total Bins 319\n",
            "[LightGBM] [Info] Number of data points in the train set: 71236, number of used features: 53\n",
            "[LightGBM] [Info] [binary:BoostFromScore]: pavg=0.111348 -> initscore=-2.077043\n",
            "[LightGBM] [Info] Start training from score -2.077043\n",
            "[LightGBM] [Warning] No further splits with positive gain, best gain: -inf\n",
            "[LightGBM] [Warning] No further splits with positive gain, best gain: -inf\n",
            "[LightGBM] [Warning] No further splits with positive gain, best gain: -inf\n",
            "[LightGBM] [Warning] Accuracy may be bad since you didn't explicitly set num_leaves OR 2^max_depth > num_leaves. (num_leaves=31).\n"
          ]
        },
        {
          "output_type": "stream",
          "name": "stderr",
          "text": [
            "[I 2023-10-03 11:30:10,057] Trial 3 finished with value: 0.0 and parameters: {'max_depth': 8, 'scale_pos_weight': 13.33316888664271, 'reg_lambda': 6.350742461788189e-05, 'reg_alpha': 0.0008573226392481219}. Best is trial 1 with value: 0.5527007299270073.\n"
          ]
        },
        {
          "output_type": "stream",
          "name": "stdout",
          "text": [
            "[LightGBM] [Warning] Accuracy may be bad since you didn't explicitly set num_leaves OR 2^max_depth > num_leaves. (num_leaves=31).\n",
            "[LightGBM] [Warning] Accuracy may be bad since you didn't explicitly set num_leaves OR 2^max_depth > num_leaves. (num_leaves=31).\n",
            "[LightGBM] [Warning] Found whitespace in feature_names, replace with underlines\n",
            "[LightGBM] [Warning] Accuracy may be bad since you didn't explicitly set num_leaves OR 2^max_depth > num_leaves. (num_leaves=31).\n",
            "[LightGBM] [Info] Number of positive: 7932, number of negative: 63304\n",
            "[LightGBM] [Warning] Auto-choosing row-wise multi-threading, the overhead of testing was 0.005325 seconds.\n",
            "You can set `force_row_wise=true` to remove the overhead.\n",
            "And if memory is not enough, you can set `force_col_wise=true`.\n",
            "[LightGBM] [Info] Total Bins 319\n",
            "[LightGBM] [Info] Number of data points in the train set: 71236, number of used features: 53\n",
            "[LightGBM] [Info] [binary:BoostFromScore]: pavg=0.111348 -> initscore=-2.077043\n",
            "[LightGBM] [Info] Start training from score -2.077043\n"
          ]
        },
        {
          "output_type": "stream",
          "name": "stderr",
          "text": [
            "[I 2023-10-03 11:30:10,699] Trial 4 finished with value: 0.0 and parameters: {'max_depth': 10, 'scale_pos_weight': 9.944959740045801, 'reg_lambda': 9.502061550462396e-05, 'reg_alpha': 6.580814546308679}. Best is trial 1 with value: 0.5527007299270073.\n"
          ]
        },
        {
          "output_type": "stream",
          "name": "stdout",
          "text": [
            "[LightGBM] [Warning] Accuracy may be bad since you didn't explicitly set num_leaves OR 2^max_depth > num_leaves. (num_leaves=31).\n",
            "[LightGBM] [Warning] Accuracy may be bad since you didn't explicitly set num_leaves OR 2^max_depth > num_leaves. (num_leaves=31).\n",
            "[LightGBM] [Warning] Accuracy may be bad since you didn't explicitly set num_leaves OR 2^max_depth > num_leaves. (num_leaves=31).\n",
            "[LightGBM] [Warning] Found whitespace in feature_names, replace with underlines\n",
            "[LightGBM] [Warning] Accuracy may be bad since you didn't explicitly set num_leaves OR 2^max_depth > num_leaves. (num_leaves=31).\n",
            "[LightGBM] [Info] Number of positive: 7932, number of negative: 63304\n",
            "[LightGBM] [Warning] Auto-choosing row-wise multi-threading, the overhead of testing was 0.007007 seconds.\n",
            "You can set `force_row_wise=true` to remove the overhead.\n",
            "And if memory is not enough, you can set `force_col_wise=true`.\n",
            "[LightGBM] [Info] Total Bins 319\n",
            "[LightGBM] [Info] Number of data points in the train set: 71236, number of used features: 53\n",
            "[LightGBM] [Info] [binary:BoostFromScore]: pavg=0.111348 -> initscore=-2.077043\n",
            "[LightGBM] [Info] Start training from score -2.077043\n",
            "[LightGBM] [Warning] No further splits with positive gain, best gain: -inf\n",
            "[LightGBM] [Warning] No further splits with positive gain, best gain: -inf\n",
            "[LightGBM] [Warning] No further splits with positive gain, best gain: -inf\n",
            "[LightGBM] [Warning] No further splits with positive gain, best gain: -inf\n",
            "[LightGBM] [Warning] No further splits with positive gain, best gain: -inf\n",
            "[LightGBM] [Warning] No further splits with positive gain, best gain: -inf\n",
            "[LightGBM] [Warning] No further splits with positive gain, best gain: -inf\n",
            "[LightGBM] [Warning] No further splits with positive gain, best gain: -inf\n",
            "[LightGBM] [Warning] No further splits with positive gain, best gain: -inf\n",
            "[LightGBM] [Warning] No further splits with positive gain, best gain: -inf\n",
            "[LightGBM] [Warning] No further splits with positive gain, best gain: -inf\n",
            "[LightGBM] [Warning] No further splits with positive gain, best gain: -inf\n",
            "[LightGBM] [Warning] No further splits with positive gain, best gain: -inf\n",
            "[LightGBM] [Warning] No further splits with positive gain, best gain: -inf\n",
            "[LightGBM] [Warning] No further splits with positive gain, best gain: -inf\n",
            "[LightGBM] [Warning] No further splits with positive gain, best gain: -inf\n",
            "[LightGBM] [Warning] No further splits with positive gain, best gain: -inf\n",
            "[LightGBM] [Warning] No further splits with positive gain, best gain: -inf\n",
            "[LightGBM] [Warning] No further splits with positive gain, best gain: -inf\n",
            "[LightGBM] [Warning] No further splits with positive gain, best gain: -inf\n",
            "[LightGBM] [Warning] No further splits with positive gain, best gain: -inf\n",
            "[LightGBM] [Warning] No further splits with positive gain, best gain: -inf\n",
            "[LightGBM] [Warning] No further splits with positive gain, best gain: -inf\n",
            "[LightGBM] [Warning] No further splits with positive gain, best gain: -inf\n",
            "[LightGBM] [Warning] No further splits with positive gain, best gain: -inf\n",
            "[LightGBM] [Warning] No further splits with positive gain, best gain: -inf\n",
            "[LightGBM] [Warning] No further splits with positive gain, best gain: -inf\n",
            "[LightGBM] [Warning] No further splits with positive gain, best gain: -inf\n",
            "[LightGBM] [Warning] No further splits with positive gain, best gain: -inf\n",
            "[LightGBM] [Warning] No further splits with positive gain, best gain: -inf\n",
            "[LightGBM] [Warning] No further splits with positive gain, best gain: -inf\n",
            "[LightGBM] [Warning] No further splits with positive gain, best gain: -inf\n",
            "[LightGBM] [Warning] No further splits with positive gain, best gain: -inf\n",
            "[LightGBM] [Warning] No further splits with positive gain, best gain: -inf\n",
            "[LightGBM] [Warning] No further splits with positive gain, best gain: -inf\n",
            "[LightGBM] [Warning] No further splits with positive gain, best gain: -inf\n",
            "[LightGBM] [Warning] No further splits with positive gain, best gain: -inf\n",
            "[LightGBM] [Warning] No further splits with positive gain, best gain: -inf\n",
            "[LightGBM] [Warning] No further splits with positive gain, best gain: -inf\n",
            "[LightGBM] [Warning] No further splits with positive gain, best gain: -inf\n",
            "[LightGBM] [Warning] No further splits with positive gain, best gain: -inf\n",
            "[LightGBM] [Warning] No further splits with positive gain, best gain: -inf\n",
            "[LightGBM] [Warning] No further splits with positive gain, best gain: -inf\n",
            "[LightGBM] [Warning] No further splits with positive gain, best gain: -inf\n",
            "[LightGBM] [Warning] No further splits with positive gain, best gain: -inf\n",
            "[LightGBM] [Warning] No further splits with positive gain, best gain: -inf\n",
            "[LightGBM] [Warning] No further splits with positive gain, best gain: -inf\n",
            "[LightGBM] [Warning] No further splits with positive gain, best gain: -inf\n",
            "[LightGBM] [Warning] No further splits with positive gain, best gain: -inf\n",
            "[LightGBM] [Warning] No further splits with positive gain, best gain: -inf\n",
            "[LightGBM] [Warning] No further splits with positive gain, best gain: -inf\n",
            "[LightGBM] [Warning] No further splits with positive gain, best gain: -inf\n",
            "[LightGBM] [Warning] No further splits with positive gain, best gain: -inf\n",
            "[LightGBM] [Warning] No further splits with positive gain, best gain: -inf\n",
            "[LightGBM] [Warning] No further splits with positive gain, best gain: -inf\n",
            "[LightGBM] [Warning] No further splits with positive gain, best gain: -inf\n",
            "[LightGBM] [Warning] No further splits with positive gain, best gain: -inf\n",
            "[LightGBM] [Warning] No further splits with positive gain, best gain: -inf\n",
            "[LightGBM] [Warning] No further splits with positive gain, best gain: -inf\n",
            "[LightGBM] [Warning] No further splits with positive gain, best gain: -inf\n",
            "[LightGBM] [Warning] No further splits with positive gain, best gain: -inf\n",
            "[LightGBM] [Warning] No further splits with positive gain, best gain: -inf\n",
            "[LightGBM] [Warning] No further splits with positive gain, best gain: -inf\n",
            "[LightGBM] [Warning] No further splits with positive gain, best gain: -inf\n",
            "[LightGBM] [Warning] No further splits with positive gain, best gain: -inf\n",
            "[LightGBM] [Warning] No further splits with positive gain, best gain: -inf\n",
            "[LightGBM] [Warning] No further splits with positive gain, best gain: -inf\n",
            "[LightGBM] [Warning] No further splits with positive gain, best gain: -inf\n",
            "[LightGBM] [Warning] No further splits with positive gain, best gain: -inf\n",
            "[LightGBM] [Warning] Accuracy may be bad since you didn't explicitly set num_leaves OR 2^max_depth > num_leaves. (num_leaves=31).\n"
          ]
        },
        {
          "output_type": "stream",
          "name": "stderr",
          "text": [
            "[I 2023-10-03 11:30:13,257] Trial 5 finished with value: 0.49664233576642336 and parameters: {'max_depth': 5, 'scale_pos_weight': 6.670155697044471, 'reg_lambda': 9.459018499810325, 'reg_alpha': 0.1458054377559234}. Best is trial 1 with value: 0.5527007299270073.\n"
          ]
        },
        {
          "output_type": "stream",
          "name": "stdout",
          "text": [
            "[LightGBM] [Warning] Accuracy may be bad since you didn't explicitly set num_leaves OR 2^max_depth > num_leaves. (num_leaves=31).\n",
            "[LightGBM] [Warning] Found whitespace in feature_names, replace with underlines\n",
            "[LightGBM] [Info] Number of positive: 7932, number of negative: 63304\n",
            "[LightGBM] [Warning] Auto-choosing row-wise multi-threading, the overhead of testing was 0.007150 seconds.\n",
            "You can set `force_row_wise=true` to remove the overhead.\n",
            "And if memory is not enough, you can set `force_col_wise=true`.\n",
            "[LightGBM] [Info] Total Bins 319\n",
            "[LightGBM] [Info] Number of data points in the train set: 71236, number of used features: 53\n",
            "[LightGBM] [Info] [binary:BoostFromScore]: pavg=0.111348 -> initscore=-2.077043\n",
            "[LightGBM] [Info] Start training from score -2.077043\n",
            "[LightGBM] [Warning] No further splits with positive gain, best gain: -inf\n",
            "[LightGBM] [Warning] No further splits with positive gain, best gain: -inf\n",
            "[LightGBM] [Warning] No further splits with positive gain, best gain: -inf\n",
            "[LightGBM] [Warning] No further splits with positive gain, best gain: -inf\n",
            "[LightGBM] [Warning] No further splits with positive gain, best gain: -inf\n",
            "[LightGBM] [Warning] No further splits with positive gain, best gain: -inf\n",
            "[LightGBM] [Warning] No further splits with positive gain, best gain: -inf\n",
            "[LightGBM] [Warning] No further splits with positive gain, best gain: -inf\n"
          ]
        },
        {
          "output_type": "stream",
          "name": "stderr",
          "text": [
            "[I 2023-10-03 11:30:14,134] Trial 6 finished with value: 0.0 and parameters: {'max_depth': 3, 'scale_pos_weight': 15.649387498443033, 'reg_lambda': 0.007425256981131767, 'reg_alpha': 3.733802702415331}. Best is trial 1 with value: 0.5527007299270073.\n"
          ]
        },
        {
          "output_type": "stream",
          "name": "stdout",
          "text": [
            "[LightGBM] [Warning] Accuracy may be bad since you didn't explicitly set num_leaves OR 2^max_depth > num_leaves. (num_leaves=31).\n",
            "[LightGBM] [Warning] Found whitespace in feature_names, replace with underlines\n",
            "[LightGBM] [Warning] Accuracy may be bad since you didn't explicitly set num_leaves OR 2^max_depth > num_leaves. (num_leaves=31).\n",
            "[LightGBM] [Info] Number of positive: 7932, number of negative: 63304\n",
            "[LightGBM] [Warning] Auto-choosing row-wise multi-threading, the overhead of testing was 0.226336 seconds.\n",
            "You can set `force_row_wise=true` to remove the overhead.\n",
            "And if memory is not enough, you can set `force_col_wise=true`.\n",
            "[LightGBM] [Info] Total Bins 319\n",
            "[LightGBM] [Info] Number of data points in the train set: 71236, number of used features: 53\n",
            "[LightGBM] [Info] [binary:BoostFromScore]: pavg=0.111348 -> initscore=-2.077043\n",
            "[LightGBM] [Info] Start training from score -2.077043\n",
            "[LightGBM] [Warning] No further splits with positive gain, best gain: -inf\n",
            "[LightGBM] [Warning] No further splits with positive gain, best gain: -inf\n",
            "[LightGBM] [Warning] No further splits with positive gain, best gain: -inf\n",
            "[LightGBM] [Warning] No further splits with positive gain, best gain: -inf\n",
            "[LightGBM] [Warning] No further splits with positive gain, best gain: -inf\n",
            "[LightGBM] [Warning] Accuracy may be bad since you didn't explicitly set num_leaves OR 2^max_depth > num_leaves. (num_leaves=31).\n"
          ]
        },
        {
          "output_type": "stream",
          "name": "stderr",
          "text": [
            "[I 2023-10-03 11:30:15,223] Trial 7 finished with value: 0.0 and parameters: {'max_depth': 7, 'scale_pos_weight': 14.349023680218632, 'reg_lambda': 0.0008347291761900468, 'reg_alpha': 7.347510426851715e-07}. Best is trial 1 with value: 0.5527007299270073.\n"
          ]
        },
        {
          "output_type": "stream",
          "name": "stdout",
          "text": [
            "[LightGBM] [Warning] Accuracy may be bad since you didn't explicitly set num_leaves OR 2^max_depth > num_leaves. (num_leaves=31).\n",
            "[LightGBM] [Warning] Found whitespace in feature_names, replace with underlines\n",
            "[LightGBM] [Info] Number of positive: 7932, number of negative: 63304\n",
            "[LightGBM] [Warning] Auto-choosing row-wise multi-threading, the overhead of testing was 0.005742 seconds.\n",
            "You can set `force_row_wise=true` to remove the overhead.\n",
            "And if memory is not enough, you can set `force_col_wise=true`.\n",
            "[LightGBM] [Info] Total Bins 319\n",
            "[LightGBM] [Info] Number of data points in the train set: 71236, number of used features: 53\n",
            "[LightGBM] [Info] [binary:BoostFromScore]: pavg=0.111348 -> initscore=-2.077043\n",
            "[LightGBM] [Info] Start training from score -2.077043\n",
            "[LightGBM] [Warning] No further splits with positive gain, best gain: -inf\n",
            "[LightGBM] [Warning] No further splits with positive gain, best gain: -inf\n",
            "[LightGBM] [Warning] No further splits with positive gain, best gain: -inf\n",
            "[LightGBM] [Warning] No further splits with positive gain, best gain: -inf\n",
            "[LightGBM] [Warning] No further splits with positive gain, best gain: -inf\n",
            "[LightGBM] [Warning] No further splits with positive gain, best gain: -inf\n",
            "[LightGBM] [Warning] No further splits with positive gain, best gain: -inf\n",
            "[LightGBM] [Warning] No further splits with positive gain, best gain: -inf\n",
            "[LightGBM] [Warning] No further splits with positive gain, best gain: -inf\n",
            "[LightGBM] [Warning] No further splits with positive gain, best gain: -inf\n",
            "[LightGBM] [Warning] No further splits with positive gain, best gain: -inf\n",
            "[LightGBM] [Warning] No further splits with positive gain, best gain: -inf\n",
            "[LightGBM] [Warning] No further splits with positive gain, best gain: -inf\n",
            "[LightGBM] [Warning] No further splits with positive gain, best gain: -inf\n",
            "[LightGBM] [Warning] No further splits with positive gain, best gain: -inf\n",
            "[LightGBM] [Warning] No further splits with positive gain, best gain: -inf\n",
            "[LightGBM] [Warning] No further splits with positive gain, best gain: -inf\n",
            "[LightGBM] [Warning] No further splits with positive gain, best gain: -inf\n",
            "[LightGBM] [Warning] No further splits with positive gain, best gain: -inf\n",
            "[LightGBM] [Warning] No further splits with positive gain, best gain: -inf\n",
            "[LightGBM] [Warning] No further splits with positive gain, best gain: -inf\n",
            "[LightGBM] [Warning] No further splits with positive gain, best gain: -inf\n",
            "[LightGBM] [Warning] No further splits with positive gain, best gain: -inf\n",
            "[LightGBM] [Warning] No further splits with positive gain, best gain: -inf\n",
            "[LightGBM] [Warning] No further splits with positive gain, best gain: -inf\n",
            "[LightGBM] [Warning] No further splits with positive gain, best gain: -inf\n",
            "[LightGBM] [Warning] No further splits with positive gain, best gain: -inf\n",
            "[LightGBM] [Warning] No further splits with positive gain, best gain: -inf\n",
            "[LightGBM] [Warning] No further splits with positive gain, best gain: -inf\n"
          ]
        },
        {
          "output_type": "stream",
          "name": "stderr",
          "text": [
            "[I 2023-10-03 11:30:16,319] Trial 8 finished with value: 0.0 and parameters: {'max_depth': 4, 'scale_pos_weight': 15.478299387010061, 'reg_lambda': 0.0005009862477421742, 'reg_alpha': 0.07185091264594592}. Best is trial 1 with value: 0.5527007299270073.\n"
          ]
        },
        {
          "output_type": "stream",
          "name": "stdout",
          "text": [
            "[LightGBM] [Warning] Accuracy may be bad since you didn't explicitly set num_leaves OR 2^max_depth > num_leaves. (num_leaves=31).\n",
            "[LightGBM] [Warning] Found whitespace in feature_names, replace with underlines\n",
            "[LightGBM] [Warning] Accuracy may be bad since you didn't explicitly set num_leaves OR 2^max_depth > num_leaves. (num_leaves=31).\n",
            "[LightGBM] [Info] Number of positive: 7932, number of negative: 63304\n",
            "[LightGBM] [Warning] Auto-choosing row-wise multi-threading, the overhead of testing was 0.555636 seconds.\n",
            "You can set `force_row_wise=true` to remove the overhead.\n",
            "And if memory is not enough, you can set `force_col_wise=true`.\n",
            "[LightGBM] [Info] Total Bins 319\n",
            "[LightGBM] [Info] Number of data points in the train set: 71236, number of used features: 53\n",
            "[LightGBM] [Info] [binary:BoostFromScore]: pavg=0.111348 -> initscore=-2.077043\n",
            "[LightGBM] [Info] Start training from score -2.077043\n",
            "[LightGBM] [Warning] No further splits with positive gain, best gain: -inf\n",
            "[LightGBM] [Warning] No further splits with positive gain, best gain: -inf\n",
            "[LightGBM] [Warning] No further splits with positive gain, best gain: -inf\n",
            "[LightGBM] [Warning] No further splits with positive gain, best gain: -inf\n",
            "[LightGBM] [Warning] No further splits with positive gain, best gain: -inf\n",
            "[LightGBM] [Warning] No further splits with positive gain, best gain: -inf\n",
            "[LightGBM] [Warning] No further splits with positive gain, best gain: -inf\n",
            "[LightGBM] [Warning] No further splits with positive gain, best gain: -inf\n",
            "[LightGBM] [Warning] No further splits with positive gain, best gain: -inf\n",
            "[LightGBM] [Warning] No further splits with positive gain, best gain: -inf\n",
            "[LightGBM] [Warning] No further splits with positive gain, best gain: -inf\n",
            "[LightGBM] [Warning] No further splits with positive gain, best gain: -inf\n",
            "[LightGBM] [Warning] No further splits with positive gain, best gain: -inf\n",
            "[LightGBM] [Warning] No further splits with positive gain, best gain: -inf\n",
            "[LightGBM] [Warning] No further splits with positive gain, best gain: -inf\n",
            "[LightGBM] [Warning] No further splits with positive gain, best gain: -inf\n",
            "[LightGBM] [Warning] No further splits with positive gain, best gain: -inf\n",
            "[LightGBM] [Warning] No further splits with positive gain, best gain: -inf\n",
            "[LightGBM] [Warning] No further splits with positive gain, best gain: -inf\n",
            "[LightGBM] [Warning] No further splits with positive gain, best gain: -inf\n",
            "[LightGBM] [Warning] No further splits with positive gain, best gain: -inf\n",
            "[LightGBM] [Warning] No further splits with positive gain, best gain: -inf\n",
            "[LightGBM] [Warning] No further splits with positive gain, best gain: -inf\n",
            "[LightGBM] [Warning] No further splits with positive gain, best gain: -inf\n",
            "[LightGBM] [Warning] No further splits with positive gain, best gain: -inf\n",
            "[LightGBM] [Warning] No further splits with positive gain, best gain: -inf\n",
            "[LightGBM] [Warning] No further splits with positive gain, best gain: -inf\n",
            "[LightGBM] [Warning] No further splits with positive gain, best gain: -inf\n",
            "[LightGBM] [Warning] No further splits with positive gain, best gain: -inf\n",
            "[LightGBM] [Warning] No further splits with positive gain, best gain: -inf\n",
            "[LightGBM] [Warning] No further splits with positive gain, best gain: -inf\n",
            "[LightGBM] [Warning] No further splits with positive gain, best gain: -inf\n",
            "[LightGBM] [Warning] No further splits with positive gain, best gain: -inf\n",
            "[LightGBM] [Warning] No further splits with positive gain, best gain: -inf\n",
            "[LightGBM] [Warning] No further splits with positive gain, best gain: -inf\n",
            "[LightGBM] [Warning] No further splits with positive gain, best gain: -inf\n",
            "[LightGBM] [Warning] No further splits with positive gain, best gain: -inf\n",
            "[LightGBM] [Warning] No further splits with positive gain, best gain: -inf\n",
            "[LightGBM] [Warning] No further splits with positive gain, best gain: -inf\n",
            "[LightGBM] [Warning] No further splits with positive gain, best gain: -inf\n",
            "[LightGBM] [Warning] No further splits with positive gain, best gain: -inf\n",
            "[LightGBM] [Warning] No further splits with positive gain, best gain: -inf\n",
            "[LightGBM] [Warning] No further splits with positive gain, best gain: -inf\n",
            "[LightGBM] [Warning] No further splits with positive gain, best gain: -inf\n",
            "[LightGBM] [Warning] No further splits with positive gain, best gain: -inf\n",
            "[LightGBM] [Warning] No further splits with positive gain, best gain: -inf\n",
            "[LightGBM] [Warning] No further splits with positive gain, best gain: -inf\n",
            "[LightGBM] [Warning] No further splits with positive gain, best gain: -inf\n",
            "[LightGBM] [Warning] No further splits with positive gain, best gain: -inf\n",
            "[LightGBM] [Warning] No further splits with positive gain, best gain: -inf\n",
            "[LightGBM] [Warning] No further splits with positive gain, best gain: -inf\n",
            "[LightGBM] [Warning] No further splits with positive gain, best gain: -inf\n",
            "[LightGBM] [Warning] No further splits with positive gain, best gain: -inf\n",
            "[LightGBM] [Warning] No further splits with positive gain, best gain: -inf\n",
            "[LightGBM] [Warning] No further splits with positive gain, best gain: -inf\n",
            "[LightGBM] [Warning] No further splits with positive gain, best gain: -inf\n",
            "[LightGBM] [Warning] No further splits with positive gain, best gain: -inf\n",
            "[LightGBM] [Warning] No further splits with positive gain, best gain: -inf\n",
            "[LightGBM] [Warning] No further splits with positive gain, best gain: -inf\n",
            "[LightGBM] [Warning] No further splits with positive gain, best gain: -inf\n",
            "[LightGBM] [Warning] No further splits with positive gain, best gain: -inf\n",
            "[LightGBM] [Warning] No further splits with positive gain, best gain: -inf\n",
            "[LightGBM] [Warning] No further splits with positive gain, best gain: -inf\n",
            "[LightGBM] [Warning] No further splits with positive gain, best gain: -inf\n",
            "[LightGBM] [Warning] No further splits with positive gain, best gain: -inf\n",
            "[LightGBM] [Warning] No further splits with positive gain, best gain: -inf\n",
            "[LightGBM] [Warning] No further splits with positive gain, best gain: -inf\n",
            "[LightGBM] [Warning] No further splits with positive gain, best gain: -inf\n",
            "[LightGBM] [Warning] No further splits with positive gain, best gain: -inf\n",
            "[LightGBM] [Warning] No further splits with positive gain, best gain: -inf\n"
          ]
        },
        {
          "output_type": "stream",
          "name": "stderr",
          "text": [
            "[I 2023-10-03 11:30:18,199] Trial 9 finished with value: 0.0 and parameters: {'max_depth': 5, 'scale_pos_weight': 9.305589006188278, 'reg_lambda': 5.723253915589503e-05, 'reg_alpha': 0.24013529844052278}. Best is trial 1 with value: 0.5527007299270073.\n"
          ]
        },
        {
          "output_type": "stream",
          "name": "stdout",
          "text": [
            "[LightGBM] [Warning] Accuracy may be bad since you didn't explicitly set num_leaves OR 2^max_depth > num_leaves. (num_leaves=31).\n",
            "[LightGBM] [Warning] Accuracy may be bad since you didn't explicitly set num_leaves OR 2^max_depth > num_leaves. (num_leaves=31).\n",
            "[LightGBM] [Warning] Found whitespace in feature_names, replace with underlines\n",
            "[LightGBM] [Info] Number of positive: 7932, number of negative: 63304\n",
            "[LightGBM] [Warning] Auto-choosing row-wise multi-threading, the overhead of testing was 0.005900 seconds.\n",
            "You can set `force_row_wise=true` to remove the overhead.\n",
            "And if memory is not enough, you can set `force_col_wise=true`.\n",
            "[LightGBM] [Info] Total Bins 319\n",
            "[LightGBM] [Info] Number of data points in the train set: 71236, number of used features: 53\n",
            "[LightGBM] [Info] [binary:BoostFromScore]: pavg=0.111348 -> initscore=-2.077043\n",
            "[LightGBM] [Info] Start training from score -2.077043\n"
          ]
        },
        {
          "output_type": "stream",
          "name": "stderr",
          "text": [
            "[I 2023-10-03 11:30:18,960] Trial 10 finished with value: 0.12058394160583942 and parameters: {'max_depth': 11, 'scale_pos_weight': 4.209490206261985, 'reg_lambda': 4.8992511070006035, 'reg_alpha': 1.0587759705473821e-08}. Best is trial 1 with value: 0.5527007299270073.\n"
          ]
        },
        {
          "output_type": "stream",
          "name": "stdout",
          "text": [
            "[LightGBM] [Warning] Accuracy may be bad since you didn't explicitly set num_leaves OR 2^max_depth > num_leaves. (num_leaves=31).\n",
            "[LightGBM] [Warning] Found whitespace in feature_names, replace with underlines\n",
            "[LightGBM] [Warning] Accuracy may be bad since you didn't explicitly set num_leaves OR 2^max_depth > num_leaves. (num_leaves=31).\n",
            "[LightGBM] [Info] Number of positive: 7932, number of negative: 63304\n",
            "[LightGBM] [Warning] Auto-choosing row-wise multi-threading, the overhead of testing was 0.007760 seconds.\n",
            "You can set `force_row_wise=true` to remove the overhead.\n",
            "And if memory is not enough, you can set `force_col_wise=true`.\n",
            "[LightGBM] [Info] Total Bins 319\n",
            "[LightGBM] [Info] Number of data points in the train set: 71236, number of used features: 53\n",
            "[LightGBM] [Info] [binary:BoostFromScore]: pavg=0.111348 -> initscore=-2.077043\n",
            "[LightGBM] [Info] Start training from score -2.077043\n",
            "[LightGBM] [Warning] No further splits with positive gain, best gain: -inf\n",
            "[LightGBM] [Warning] No further splits with positive gain, best gain: -inf\n",
            "[LightGBM] [Warning] No further splits with positive gain, best gain: -inf\n",
            "[LightGBM] [Warning] No further splits with positive gain, best gain: -inf\n",
            "[LightGBM] [Warning] No further splits with positive gain, best gain: -inf\n",
            "[LightGBM] [Warning] No further splits with positive gain, best gain: -inf\n",
            "[LightGBM] [Warning] No further splits with positive gain, best gain: -inf\n",
            "[LightGBM] [Warning] No further splits with positive gain, best gain: -inf\n",
            "[LightGBM] [Warning] No further splits with positive gain, best gain: -inf\n",
            "[LightGBM] [Warning] No further splits with positive gain, best gain: -inf\n",
            "[LightGBM] [Warning] No further splits with positive gain, best gain: -inf\n",
            "[LightGBM] [Warning] No further splits with positive gain, best gain: -inf\n",
            "[LightGBM] [Warning] No further splits with positive gain, best gain: -inf\n",
            "[LightGBM] [Warning] No further splits with positive gain, best gain: -inf\n",
            "[LightGBM] [Warning] No further splits with positive gain, best gain: -inf\n",
            "[LightGBM] [Warning] No further splits with positive gain, best gain: -inf\n",
            "[LightGBM] [Warning] No further splits with positive gain, best gain: -inf\n",
            "[LightGBM] [Warning] No further splits with positive gain, best gain: -inf\n",
            "[LightGBM] [Warning] No further splits with positive gain, best gain: -inf\n",
            "[LightGBM] [Warning] No further splits with positive gain, best gain: -inf\n",
            "[LightGBM] [Warning] No further splits with positive gain, best gain: -inf\n",
            "[LightGBM] [Warning] No further splits with positive gain, best gain: -inf\n",
            "[LightGBM] [Warning] No further splits with positive gain, best gain: -inf\n",
            "[LightGBM] [Warning] No further splits with positive gain, best gain: -inf\n",
            "[LightGBM] [Warning] No further splits with positive gain, best gain: -inf\n",
            "[LightGBM] [Warning] No further splits with positive gain, best gain: -inf\n",
            "[LightGBM] [Warning] No further splits with positive gain, best gain: -inf\n",
            "[LightGBM] [Warning] No further splits with positive gain, best gain: -inf\n",
            "[LightGBM] [Warning] No further splits with positive gain, best gain: -inf\n",
            "[LightGBM] [Warning] No further splits with positive gain, best gain: -inf\n",
            "[LightGBM] [Warning] No further splits with positive gain, best gain: -inf\n",
            "[LightGBM] [Warning] No further splits with positive gain, best gain: -inf\n",
            "[LightGBM] [Warning] No further splits with positive gain, best gain: -inf\n",
            "[LightGBM] [Warning] No further splits with positive gain, best gain: -inf\n",
            "[LightGBM] [Warning] No further splits with positive gain, best gain: -inf\n",
            "[LightGBM] [Warning] No further splits with positive gain, best gain: -inf\n",
            "[LightGBM] [Warning] No further splits with positive gain, best gain: -inf\n",
            "[LightGBM] [Warning] No further splits with positive gain, best gain: -inf\n",
            "[LightGBM] [Warning] No further splits with positive gain, best gain: -inf\n",
            "[LightGBM] [Warning] No further splits with positive gain, best gain: -inf\n",
            "[LightGBM] [Warning] No further splits with positive gain, best gain: -inf\n",
            "[LightGBM] [Warning] No further splits with positive gain, best gain: -inf\n",
            "[LightGBM] [Warning] No further splits with positive gain, best gain: -inf\n",
            "[LightGBM] [Warning] No further splits with positive gain, best gain: -inf\n",
            "[LightGBM] [Warning] No further splits with positive gain, best gain: -inf\n",
            "[LightGBM] [Warning] No further splits with positive gain, best gain: -inf\n",
            "[LightGBM] [Warning] No further splits with positive gain, best gain: -inf\n",
            "[LightGBM] [Warning] No further splits with positive gain, best gain: -inf\n",
            "[LightGBM] [Warning] No further splits with positive gain, best gain: -inf\n",
            "[LightGBM] [Warning] No further splits with positive gain, best gain: -inf\n",
            "[LightGBM] [Warning] No further splits with positive gain, best gain: -inf\n",
            "[LightGBM] [Warning] No further splits with positive gain, best gain: -inf\n",
            "[LightGBM] [Warning] No further splits with positive gain, best gain: -inf\n",
            "[LightGBM] [Warning] No further splits with positive gain, best gain: -inf\n",
            "[LightGBM] [Warning] No further splits with positive gain, best gain: -inf\n",
            "[LightGBM] [Warning] No further splits with positive gain, best gain: -inf\n",
            "[LightGBM] [Warning] No further splits with positive gain, best gain: -inf\n",
            "[LightGBM] [Warning] No further splits with positive gain, best gain: -inf\n",
            "[LightGBM] [Warning] No further splits with positive gain, best gain: -inf\n",
            "[LightGBM] [Warning] No further splits with positive gain, best gain: -inf\n",
            "[LightGBM] [Warning] No further splits with positive gain, best gain: -inf\n",
            "[LightGBM] [Warning] No further splits with positive gain, best gain: -inf\n",
            "[LightGBM] [Warning] No further splits with positive gain, best gain: -inf\n",
            "[LightGBM] [Warning] No further splits with positive gain, best gain: -inf\n",
            "[LightGBM] [Warning] No further splits with positive gain, best gain: -inf\n",
            "[LightGBM] [Warning] No further splits with positive gain, best gain: -inf\n",
            "[LightGBM] [Warning] No further splits with positive gain, best gain: -inf\n",
            "[LightGBM] [Warning] No further splits with positive gain, best gain: -inf\n",
            "[LightGBM] [Warning] No further splits with positive gain, best gain: -inf\n",
            "[LightGBM] [Warning] No further splits with positive gain, best gain: -inf\n",
            "[LightGBM] [Warning] No further splits with positive gain, best gain: -inf\n",
            "[LightGBM] [Warning] Accuracy may be bad since you didn't explicitly set num_leaves OR 2^max_depth > num_leaves. (num_leaves=31).\n",
            "[LightGBM] [Warning] Accuracy may be bad since you didn't explicitly set num_leaves OR 2^max_depth > num_leaves. (num_leaves=31).\n"
          ]
        },
        {
          "output_type": "stream",
          "name": "stderr",
          "text": [
            "[I 2023-10-03 11:30:19,728] Trial 11 finished with value: 0.4916788321167883 and parameters: {'max_depth': 5, 'scale_pos_weight': 6.656379827459399, 'reg_lambda': 7.063822717434679, 'reg_alpha': 0.015940383369689247}. Best is trial 1 with value: 0.5527007299270073.\n"
          ]
        },
        {
          "output_type": "stream",
          "name": "stdout",
          "text": [
            "[LightGBM] [Warning] Accuracy may be bad since you didn't explicitly set num_leaves OR 2^max_depth > num_leaves. (num_leaves=31).\n",
            "[LightGBM] [Warning] Found whitespace in feature_names, replace with underlines\n",
            "[LightGBM] [Warning] Accuracy may be bad since you didn't explicitly set num_leaves OR 2^max_depth > num_leaves. (num_leaves=31).\n",
            "[LightGBM] [Info] Number of positive: 7932, number of negative: 63304\n",
            "[LightGBM] [Warning] Auto-choosing row-wise multi-threading, the overhead of testing was 0.007015 seconds.\n",
            "You can set `force_row_wise=true` to remove the overhead.\n",
            "And if memory is not enough, you can set `force_col_wise=true`.\n",
            "[LightGBM] [Info] Total Bins 319\n",
            "[LightGBM] [Info] Number of data points in the train set: 71236, number of used features: 53\n",
            "[LightGBM] [Info] [binary:BoostFromScore]: pavg=0.111348 -> initscore=-2.077043\n",
            "[LightGBM] [Info] Start training from score -2.077043\n",
            "[LightGBM] [Warning] No further splits with positive gain, best gain: -inf\n",
            "[LightGBM] [Warning] No further splits with positive gain, best gain: -inf\n",
            "[LightGBM] [Warning] No further splits with positive gain, best gain: -inf\n",
            "[LightGBM] [Warning] No further splits with positive gain, best gain: -inf\n",
            "[LightGBM] [Warning] No further splits with positive gain, best gain: -inf\n",
            "[LightGBM] [Warning] No further splits with positive gain, best gain: -inf\n",
            "[LightGBM] [Warning] No further splits with positive gain, best gain: -inf\n",
            "[LightGBM] [Warning] No further splits with positive gain, best gain: -inf\n",
            "[LightGBM] [Warning] No further splits with positive gain, best gain: -inf\n",
            "[LightGBM] [Warning] No further splits with positive gain, best gain: -inf\n",
            "[LightGBM] [Warning] No further splits with positive gain, best gain: -inf\n",
            "[LightGBM] [Warning] No further splits with positive gain, best gain: -inf\n",
            "[LightGBM] [Warning] No further splits with positive gain, best gain: -inf\n",
            "[LightGBM] [Warning] Accuracy may be bad since you didn't explicitly set num_leaves OR 2^max_depth > num_leaves. (num_leaves=31).\n",
            "[LightGBM] [Warning] Accuracy may be bad since you didn't explicitly set num_leaves OR 2^max_depth > num_leaves. (num_leaves=31).\n"
          ]
        },
        {
          "output_type": "stream",
          "name": "stderr",
          "text": [
            "[I 2023-10-03 11:30:21,282] Trial 12 finished with value: 0.5708029197080292 and parameters: {'max_depth': 6, 'scale_pos_weight': 7.445341876549438, 'reg_lambda': 0.2954115430679669, 'reg_alpha': 0.0013860634949149628}. Best is trial 12 with value: 0.5708029197080292.\n"
          ]
        },
        {
          "output_type": "stream",
          "name": "stdout",
          "text": [
            "[LightGBM] [Warning] Found whitespace in feature_names, replace with underlines\n",
            "[LightGBM] [Info] Number of positive: 7932, number of negative: 63304\n",
            "[LightGBM] [Warning] Auto-choosing row-wise multi-threading, the overhead of testing was 0.108749 seconds.\n",
            "You can set `force_row_wise=true` to remove the overhead.\n",
            "And if memory is not enough, you can set `force_col_wise=true`.\n",
            "[LightGBM] [Info] Total Bins 319\n",
            "[LightGBM] [Info] Number of data points in the train set: 71236, number of used features: 53\n",
            "[LightGBM] [Info] [binary:BoostFromScore]: pavg=0.111348 -> initscore=-2.077043\n",
            "[LightGBM] [Info] Start training from score -2.077043\n",
            "[LightGBM] [Warning] No further splits with positive gain, best gain: -inf\n",
            "[LightGBM] [Warning] No further splits with positive gain, best gain: -inf\n",
            "[LightGBM] [Warning] No further splits with positive gain, best gain: -inf\n",
            "[LightGBM] [Warning] No further splits with positive gain, best gain: -inf\n"
          ]
        },
        {
          "output_type": "stream",
          "name": "stderr",
          "text": [
            "[I 2023-10-03 11:30:21,994] Trial 13 finished with value: 0.0 and parameters: {'max_depth': 2, 'scale_pos_weight': 8.144461797956358, 'reg_lambda': 0.18825844553923904, 'reg_alpha': 4.399332836294035e-05}. Best is trial 12 with value: 0.5708029197080292.\n"
          ]
        },
        {
          "output_type": "stream",
          "name": "stdout",
          "text": [
            "[LightGBM] [Warning] Accuracy may be bad since you didn't explicitly set num_leaves OR 2^max_depth > num_leaves. (num_leaves=31).\n",
            "[LightGBM] [Warning] Found whitespace in feature_names, replace with underlines\n",
            "[LightGBM] [Warning] Accuracy may be bad since you didn't explicitly set num_leaves OR 2^max_depth > num_leaves. (num_leaves=31).\n",
            "[LightGBM] [Info] Number of positive: 7932, number of negative: 63304\n",
            "[LightGBM] [Warning] Auto-choosing row-wise multi-threading, the overhead of testing was 0.005104 seconds.\n",
            "You can set `force_row_wise=true` to remove the overhead.\n",
            "And if memory is not enough, you can set `force_col_wise=true`.\n",
            "[LightGBM] [Info] Total Bins 319\n",
            "[LightGBM] [Info] Number of data points in the train set: 71236, number of used features: 53\n",
            "[LightGBM] [Info] [binary:BoostFromScore]: pavg=0.111348 -> initscore=-2.077043\n",
            "[LightGBM] [Info] Start training from score -2.077043\n"
          ]
        },
        {
          "output_type": "stream",
          "name": "stderr",
          "text": [
            "[I 2023-10-03 11:30:22,606] Trial 14 finished with value: 0.5868613138686132 and parameters: {'max_depth': 9, 'scale_pos_weight': 7.595879249275127, 'reg_lambda': 0.08899201678601817, 'reg_alpha': 0.0019180091626405076}. Best is trial 14 with value: 0.5868613138686132.\n"
          ]
        },
        {
          "output_type": "stream",
          "name": "stdout",
          "text": [
            "[LightGBM] [Warning] Accuracy may be bad since you didn't explicitly set num_leaves OR 2^max_depth > num_leaves. (num_leaves=31).\n",
            "[LightGBM] [Warning] Accuracy may be bad since you didn't explicitly set num_leaves OR 2^max_depth > num_leaves. (num_leaves=31).\n",
            "[LightGBM] [Warning] Accuracy may be bad since you didn't explicitly set num_leaves OR 2^max_depth > num_leaves. (num_leaves=31).\n",
            "[LightGBM] [Warning] Found whitespace in feature_names, replace with underlines\n",
            "[LightGBM] [Warning] Accuracy may be bad since you didn't explicitly set num_leaves OR 2^max_depth > num_leaves. (num_leaves=31).\n",
            "[LightGBM] [Info] Number of positive: 7932, number of negative: 63304\n",
            "[LightGBM] [Warning] Auto-choosing row-wise multi-threading, the overhead of testing was 0.005276 seconds.\n",
            "You can set `force_row_wise=true` to remove the overhead.\n",
            "And if memory is not enough, you can set `force_col_wise=true`.\n",
            "[LightGBM] [Info] Total Bins 319\n",
            "[LightGBM] [Info] Number of data points in the train set: 71236, number of used features: 53\n",
            "[LightGBM] [Info] [binary:BoostFromScore]: pavg=0.111348 -> initscore=-2.077043\n",
            "[LightGBM] [Info] Start training from score -2.077043\n",
            "[LightGBM] [Warning] No further splits with positive gain, best gain: -inf\n",
            "[LightGBM] [Warning] Accuracy may be bad since you didn't explicitly set num_leaves OR 2^max_depth > num_leaves. (num_leaves=31).\n",
            "[LightGBM] [Warning] Accuracy may be bad since you didn't explicitly set num_leaves OR 2^max_depth > num_leaves. (num_leaves=31).\n"
          ]
        },
        {
          "output_type": "stream",
          "name": "stderr",
          "text": [
            "[I 2023-10-03 11:30:23,261] Trial 15 finished with value: 0.0 and parameters: {'max_depth': 9, 'scale_pos_weight': 11.643686086007147, 'reg_lambda': 0.07463769688987422, 'reg_alpha': 0.002001494905706914}. Best is trial 14 with value: 0.5868613138686132.\n"
          ]
        },
        {
          "output_type": "stream",
          "name": "stdout",
          "text": [
            "[LightGBM] [Warning] Accuracy may be bad since you didn't explicitly set num_leaves OR 2^max_depth > num_leaves. (num_leaves=31).\n",
            "[LightGBM] [Warning] Found whitespace in feature_names, replace with underlines\n",
            "[LightGBM] [Warning] Accuracy may be bad since you didn't explicitly set num_leaves OR 2^max_depth > num_leaves. (num_leaves=31).\n",
            "[LightGBM] [Info] Number of positive: 7932, number of negative: 63304\n",
            "[LightGBM] [Warning] Auto-choosing row-wise multi-threading, the overhead of testing was 0.005518 seconds.\n",
            "You can set `force_row_wise=true` to remove the overhead.\n",
            "And if memory is not enough, you can set `force_col_wise=true`.\n",
            "[LightGBM] [Info] Total Bins 319\n",
            "[LightGBM] [Info] Number of data points in the train set: 71236, number of used features: 53\n",
            "[LightGBM] [Info] [binary:BoostFromScore]: pavg=0.111348 -> initscore=-2.077043\n",
            "[LightGBM] [Info] Start training from score -2.077043\n",
            "[LightGBM] [Warning] No further splits with positive gain, best gain: -inf\n",
            "[LightGBM] [Warning] No further splits with positive gain, best gain: -inf\n",
            "[LightGBM] [Warning] No further splits with positive gain, best gain: -inf\n",
            "[LightGBM] [Warning] No further splits with positive gain, best gain: -inf\n",
            "[LightGBM] [Warning] No further splits with positive gain, best gain: -inf\n",
            "[LightGBM] [Warning] No further splits with positive gain, best gain: -inf\n",
            "[LightGBM] [Warning] No further splits with positive gain, best gain: -inf\n",
            "[LightGBM] [Warning] No further splits with positive gain, best gain: -inf\n",
            "[LightGBM] [Warning] No further splits with positive gain, best gain: -inf\n",
            "[LightGBM] [Warning] No further splits with positive gain, best gain: -inf\n",
            "[LightGBM] [Warning] No further splits with positive gain, best gain: -inf\n",
            "[LightGBM] [Warning] Accuracy may be bad since you didn't explicitly set num_leaves OR 2^max_depth > num_leaves. (num_leaves=31).\n"
          ]
        },
        {
          "output_type": "stream",
          "name": "stderr",
          "text": [
            "[I 2023-10-03 11:30:23,890] Trial 16 finished with value: 0.2773722627737226 and parameters: {'max_depth': 6, 'scale_pos_weight': 5.125531244383088, 'reg_lambda': 0.024187808062662613, 'reg_alpha': 0.003987840686630677}. Best is trial 14 with value: 0.5868613138686132.\n"
          ]
        },
        {
          "output_type": "stream",
          "name": "stdout",
          "text": [
            "[LightGBM] [Warning] Accuracy may be bad since you didn't explicitly set num_leaves OR 2^max_depth > num_leaves. (num_leaves=31).\n",
            "[LightGBM] [Warning] Found whitespace in feature_names, replace with underlines\n",
            "[LightGBM] [Info] Number of positive: 7932, number of negative: 63304\n",
            "[LightGBM] [Warning] Auto-choosing row-wise multi-threading, the overhead of testing was 0.005489 seconds.\n",
            "You can set `force_row_wise=true` to remove the overhead.\n",
            "And if memory is not enough, you can set `force_col_wise=true`.\n",
            "[LightGBM] [Info] Total Bins 319\n",
            "[LightGBM] [Info] Number of data points in the train set: 71236, number of used features: 53\n",
            "[LightGBM] [Info] [binary:BoostFromScore]: pavg=0.111348 -> initscore=-2.077043\n",
            "[LightGBM] [Info] Start training from score -2.077043\n"
          ]
        },
        {
          "output_type": "stream",
          "name": "stderr",
          "text": [
            "[I 2023-10-03 11:30:24,765] Trial 17 finished with value: 0.0 and parameters: {'max_depth': 11, 'scale_pos_weight': 8.45152334348036, 'reg_lambda': 0.6340422130858446, 'reg_alpha': 0.00020738788953331765}. Best is trial 14 with value: 0.5868613138686132.\n"
          ]
        },
        {
          "output_type": "stream",
          "name": "stdout",
          "text": [
            "[LightGBM] [Warning] Accuracy may be bad since you didn't explicitly set num_leaves OR 2^max_depth > num_leaves. (num_leaves=31).\n",
            "[LightGBM] [Warning] Found whitespace in feature_names, replace with underlines\n",
            "[LightGBM] [Warning] Accuracy may be bad since you didn't explicitly set num_leaves OR 2^max_depth > num_leaves. (num_leaves=31).\n",
            "[LightGBM] [Info] Number of positive: 7932, number of negative: 63304\n",
            "[LightGBM] [Warning] Auto-choosing row-wise multi-threading, the overhead of testing was 0.005426 seconds.\n",
            "You can set `force_row_wise=true` to remove the overhead.\n",
            "And if memory is not enough, you can set `force_col_wise=true`.\n",
            "[LightGBM] [Info] Total Bins 319\n",
            "[LightGBM] [Info] Number of data points in the train set: 71236, number of used features: 53\n",
            "[LightGBM] [Info] [binary:BoostFromScore]: pavg=0.111348 -> initscore=-2.077043\n",
            "[LightGBM] [Info] Start training from score -2.077043\n",
            "[LightGBM] [Warning] No further splits with positive gain, best gain: -inf\n"
          ]
        },
        {
          "output_type": "stream",
          "name": "stderr",
          "text": [
            "[I 2023-10-03 11:30:26,132] Trial 18 finished with value: 0.0 and parameters: {'max_depth': 9, 'scale_pos_weight': 10.88532542388841, 'reg_lambda': 0.013270049481035497, 'reg_alpha': 0.00810373252559796}. Best is trial 14 with value: 0.5868613138686132.\n"
          ]
        },
        {
          "output_type": "stream",
          "name": "stdout",
          "text": [
            "[LightGBM] [Warning] Accuracy may be bad since you didn't explicitly set num_leaves OR 2^max_depth > num_leaves. (num_leaves=31).\n",
            "[LightGBM] [Warning] Accuracy may be bad since you didn't explicitly set num_leaves OR 2^max_depth > num_leaves. (num_leaves=31).\n",
            "[LightGBM] [Warning] Accuracy may be bad since you didn't explicitly set num_leaves OR 2^max_depth > num_leaves. (num_leaves=31).\n",
            "[LightGBM] [Warning] Found whitespace in feature_names, replace with underlines\n",
            "[LightGBM] [Warning] Accuracy may be bad since you didn't explicitly set num_leaves OR 2^max_depth > num_leaves. (num_leaves=31).\n",
            "[LightGBM] [Info] Number of positive: 7932, number of negative: 63304\n",
            "[LightGBM] [Warning] Auto-choosing row-wise multi-threading, the overhead of testing was 0.005260 seconds.\n",
            "You can set `force_row_wise=true` to remove the overhead.\n",
            "And if memory is not enough, you can set `force_col_wise=true`.\n",
            "[LightGBM] [Info] Total Bins 319\n",
            "[LightGBM] [Info] Number of data points in the train set: 71236, number of used features: 53\n",
            "[LightGBM] [Info] [binary:BoostFromScore]: pavg=0.111348 -> initscore=-2.077043\n",
            "[LightGBM] [Info] Start training from score -2.077043\n",
            "[LightGBM] [Warning] No further splits with positive gain, best gain: -inf\n",
            "[LightGBM] [Warning] No further splits with positive gain, best gain: -inf\n",
            "[LightGBM] [Warning] No further splits with positive gain, best gain: -inf\n",
            "[LightGBM] [Warning] No further splits with positive gain, best gain: -inf\n",
            "[LightGBM] [Warning] No further splits with positive gain, best gain: -inf\n",
            "[LightGBM] [Warning] No further splits with positive gain, best gain: -inf\n",
            "[LightGBM] [Warning] No further splits with positive gain, best gain: -inf\n",
            "[LightGBM] [Warning] No further splits with positive gain, best gain: -inf\n",
            "[LightGBM] [Warning] No further splits with positive gain, best gain: -inf\n",
            "[LightGBM] [Warning] No further splits with positive gain, best gain: -inf\n",
            "[LightGBM] [Warning] No further splits with positive gain, best gain: -inf\n",
            "[LightGBM] [Warning] No further splits with positive gain, best gain: -inf\n",
            "[LightGBM] [Warning] No further splits with positive gain, best gain: -inf\n",
            "[LightGBM] [Warning] Accuracy may be bad since you didn't explicitly set num_leaves OR 2^max_depth > num_leaves. (num_leaves=31).\n",
            "[LightGBM] [Warning] Accuracy may be bad since you didn't explicitly set num_leaves OR 2^max_depth > num_leaves. (num_leaves=31).\n"
          ]
        },
        {
          "output_type": "stream",
          "name": "stderr",
          "text": [
            "[I 2023-10-03 11:30:27,245] Trial 19 finished with value: 0.3605839416058394 and parameters: {'max_depth': 6, 'scale_pos_weight': 5.7251145079611625, 'reg_lambda': 1.2053442304318456, 'reg_alpha': 0.0002674974279405276}. Best is trial 14 with value: 0.5868613138686132.\n"
          ]
        },
        {
          "output_type": "stream",
          "name": "stdout",
          "text": [
            "[LightGBM] [Warning] Accuracy may be bad since you didn't explicitly set num_leaves OR 2^max_depth > num_leaves. (num_leaves=31).\n",
            "[LightGBM] [Warning] Found whitespace in feature_names, replace with underlines\n",
            "[LightGBM] [Warning] Accuracy may be bad since you didn't explicitly set num_leaves OR 2^max_depth > num_leaves. (num_leaves=31).\n",
            "[LightGBM] [Info] Number of positive: 7932, number of negative: 63304\n",
            "[LightGBM] [Warning] Auto-choosing row-wise multi-threading, the overhead of testing was 0.005102 seconds.\n",
            "You can set `force_row_wise=true` to remove the overhead.\n",
            "And if memory is not enough, you can set `force_col_wise=true`.\n",
            "[LightGBM] [Info] Total Bins 319\n",
            "[LightGBM] [Info] Number of data points in the train set: 71236, number of used features: 53\n",
            "[LightGBM] [Info] [binary:BoostFromScore]: pavg=0.111348 -> initscore=-2.077043\n",
            "[LightGBM] [Info] Start training from score -2.077043\n",
            "[LightGBM] [Warning] No further splits with positive gain, best gain: -inf\n",
            "[LightGBM] [Warning] No further splits with positive gain, best gain: -inf\n",
            "[LightGBM] [Warning] No further splits with positive gain, best gain: -inf\n",
            "[LightGBM] [Warning] No further splits with positive gain, best gain: -inf\n"
          ]
        },
        {
          "output_type": "stream",
          "name": "stderr",
          "text": [
            "[I 2023-10-03 11:30:28,317] Trial 20 finished with value: 0.0 and parameters: {'max_depth': 8, 'scale_pos_weight': 8.389758857590017, 'reg_lambda': 0.7066200479195752, 'reg_alpha': 7.815822457092896e-06}. Best is trial 14 with value: 0.5868613138686132.\n"
          ]
        },
        {
          "output_type": "stream",
          "name": "stdout",
          "text": [
            "[LightGBM] [Warning] Accuracy may be bad since you didn't explicitly set num_leaves OR 2^max_depth > num_leaves. (num_leaves=31).\n",
            "[LightGBM] [Warning] Accuracy may be bad since you didn't explicitly set num_leaves OR 2^max_depth > num_leaves. (num_leaves=31).\n",
            "[LightGBM] [Warning] Accuracy may be bad since you didn't explicitly set num_leaves OR 2^max_depth > num_leaves. (num_leaves=31).\n",
            "[LightGBM] [Warning] Found whitespace in feature_names, replace with underlines\n",
            "[LightGBM] [Warning] Accuracy may be bad since you didn't explicitly set num_leaves OR 2^max_depth > num_leaves. (num_leaves=31).\n",
            "[LightGBM] [Info] Number of positive: 7932, number of negative: 63304\n",
            "[LightGBM] [Warning] Auto-choosing row-wise multi-threading, the overhead of testing was 0.006622 seconds.\n",
            "You can set `force_row_wise=true` to remove the overhead.\n",
            "And if memory is not enough, you can set `force_col_wise=true`.\n",
            "[LightGBM] [Info] Total Bins 319\n",
            "[LightGBM] [Info] Number of data points in the train set: 71236, number of used features: 53\n",
            "[LightGBM] [Info] [binary:BoostFromScore]: pavg=0.111348 -> initscore=-2.077043\n",
            "[LightGBM] [Info] Start training from score -2.077043\n",
            "[LightGBM] [Warning] No further splits with positive gain, best gain: -inf\n",
            "[LightGBM] [Warning] No further splits with positive gain, best gain: -inf\n",
            "[LightGBM] [Warning] No further splits with positive gain, best gain: -inf\n",
            "[LightGBM] [Warning] No further splits with positive gain, best gain: -inf\n",
            "[LightGBM] [Warning] No further splits with positive gain, best gain: -inf\n",
            "[LightGBM] [Warning] Accuracy may be bad since you didn't explicitly set num_leaves OR 2^max_depth > num_leaves. (num_leaves=31).\n"
          ]
        },
        {
          "output_type": "stream",
          "name": "stderr",
          "text": [
            "[I 2023-10-03 11:30:29,207] Trial 21 finished with value: 0.5013138686131386 and parameters: {'max_depth': 8, 'scale_pos_weight': 6.780549867326911, 'reg_lambda': 0.12651043746302318, 'reg_alpha': 1.2567721767867842e-06}. Best is trial 14 with value: 0.5868613138686132.\n"
          ]
        },
        {
          "output_type": "stream",
          "name": "stdout",
          "text": [
            "[LightGBM] [Warning] Accuracy may be bad since you didn't explicitly set num_leaves OR 2^max_depth > num_leaves. (num_leaves=31).\n",
            "[LightGBM] [Warning] Accuracy may be bad since you didn't explicitly set num_leaves OR 2^max_depth > num_leaves. (num_leaves=31).\n",
            "[LightGBM] [Warning] Found whitespace in feature_names, replace with underlines\n",
            "[LightGBM] [Warning] Accuracy may be bad since you didn't explicitly set num_leaves OR 2^max_depth > num_leaves. (num_leaves=31).\n",
            "[LightGBM] [Info] Number of positive: 7932, number of negative: 63304\n",
            "[LightGBM] [Warning] Auto-choosing row-wise multi-threading, the overhead of testing was 0.061278 seconds.\n",
            "You can set `force_row_wise=true` to remove the overhead.\n",
            "And if memory is not enough, you can set `force_col_wise=true`.\n",
            "[LightGBM] [Info] Total Bins 319\n",
            "[LightGBM] [Info] Number of data points in the train set: 71236, number of used features: 53\n",
            "[LightGBM] [Info] [binary:BoostFromScore]: pavg=0.111348 -> initscore=-2.077043\n",
            "[LightGBM] [Info] Start training from score -2.077043\n",
            "[LightGBM] [Warning] Accuracy may be bad since you didn't explicitly set num_leaves OR 2^max_depth > num_leaves. (num_leaves=31).\n",
            "[LightGBM] [Warning] Accuracy may be bad since you didn't explicitly set num_leaves OR 2^max_depth > num_leaves. (num_leaves=31).\n"
          ]
        },
        {
          "output_type": "stream",
          "name": "stderr",
          "text": [
            "[I 2023-10-03 11:30:30,462] Trial 22 finished with value: 0.5935766423357665 and parameters: {'max_depth': 10, 'scale_pos_weight': 7.691212531642549, 'reg_lambda': 0.4346572438786779, 'reg_alpha': 0.000583558670160461}. Best is trial 22 with value: 0.5935766423357665.\n"
          ]
        },
        {
          "output_type": "stream",
          "name": "stdout",
          "text": [
            "[LightGBM] [Warning] Accuracy may be bad since you didn't explicitly set num_leaves OR 2^max_depth > num_leaves. (num_leaves=31).\n",
            "[LightGBM] [Warning] Found whitespace in feature_names, replace with underlines\n",
            "[LightGBM] [Warning] Accuracy may be bad since you didn't explicitly set num_leaves OR 2^max_depth > num_leaves. (num_leaves=31).\n",
            "[LightGBM] [Info] Number of positive: 7932, number of negative: 63304\n",
            "[LightGBM] [Warning] Auto-choosing row-wise multi-threading, the overhead of testing was 0.006179 seconds.\n",
            "You can set `force_row_wise=true` to remove the overhead.\n",
            "And if memory is not enough, you can set `force_col_wise=true`.\n",
            "[LightGBM] [Info] Total Bins 319\n",
            "[LightGBM] [Info] Number of data points in the train set: 71236, number of used features: 53\n",
            "[LightGBM] [Info] [binary:BoostFromScore]: pavg=0.111348 -> initscore=-2.077043\n",
            "[LightGBM] [Info] Start training from score -2.077043\n",
            "[LightGBM] [Warning] Accuracy may be bad since you didn't explicitly set num_leaves OR 2^max_depth > num_leaves. (num_leaves=31).\n",
            "[LightGBM] [Warning] Accuracy may be bad since you didn't explicitly set num_leaves OR 2^max_depth > num_leaves. (num_leaves=31).\n"
          ]
        },
        {
          "output_type": "stream",
          "name": "stderr",
          "text": [
            "[I 2023-10-03 11:30:31,512] Trial 23 finished with value: 0.5953284671532847 and parameters: {'max_depth': 10, 'scale_pos_weight': 7.687551972379928, 'reg_lambda': 0.9291342559835776, 'reg_alpha': 0.0012332568838189692}. Best is trial 23 with value: 0.5953284671532847.\n"
          ]
        },
        {
          "output_type": "stream",
          "name": "stdout",
          "text": [
            "[LightGBM] [Warning] Accuracy may be bad since you didn't explicitly set num_leaves OR 2^max_depth > num_leaves. (num_leaves=31).\n",
            "[LightGBM] [Warning] Found whitespace in feature_names, replace with underlines\n",
            "[LightGBM] [Warning] Accuracy may be bad since you didn't explicitly set num_leaves OR 2^max_depth > num_leaves. (num_leaves=31).\n",
            "[LightGBM] [Info] Number of positive: 7932, number of negative: 63304\n",
            "[LightGBM] [Warning] Auto-choosing row-wise multi-threading, the overhead of testing was 0.132509 seconds.\n",
            "You can set `force_row_wise=true` to remove the overhead.\n",
            "And if memory is not enough, you can set `force_col_wise=true`.\n",
            "[LightGBM] [Info] Total Bins 319\n",
            "[LightGBM] [Info] Number of data points in the train set: 71236, number of used features: 53\n",
            "[LightGBM] [Info] [binary:BoostFromScore]: pavg=0.111348 -> initscore=-2.077043\n",
            "[LightGBM] [Info] Start training from score -2.077043\n",
            "[LightGBM] [Warning] Accuracy may be bad since you didn't explicitly set num_leaves OR 2^max_depth > num_leaves. (num_leaves=31).\n",
            "[LightGBM] [Warning] Accuracy may be bad since you didn't explicitly set num_leaves OR 2^max_depth > num_leaves. (num_leaves=31).\n"
          ]
        },
        {
          "output_type": "stream",
          "name": "stderr",
          "text": [
            "[I 2023-10-03 11:30:36,872] Trial 24 finished with value: 0.0 and parameters: {'max_depth': 10, 'scale_pos_weight': 9.25048432379706, 'reg_lambda': 1.6166307199046988, 'reg_alpha': 0.012772043134607131}. Best is trial 23 with value: 0.5953284671532847.\n"
          ]
        },
        {
          "output_type": "stream",
          "name": "stdout",
          "text": [
            "[LightGBM] [Warning] Accuracy may be bad since you didn't explicitly set num_leaves OR 2^max_depth > num_leaves. (num_leaves=31).\n",
            "[LightGBM] [Warning] Found whitespace in feature_names, replace with underlines\n",
            "[LightGBM] [Warning] Accuracy may be bad since you didn't explicitly set num_leaves OR 2^max_depth > num_leaves. (num_leaves=31).\n",
            "[LightGBM] [Info] Number of positive: 7932, number of negative: 63304\n",
            "[LightGBM] [Warning] Auto-choosing row-wise multi-threading, the overhead of testing was 0.006092 seconds.\n",
            "You can set `force_row_wise=true` to remove the overhead.\n",
            "And if memory is not enough, you can set `force_col_wise=true`.\n",
            "[LightGBM] [Info] Total Bins 319\n",
            "[LightGBM] [Info] Number of data points in the train set: 71236, number of used features: 53\n",
            "[LightGBM] [Info] [binary:BoostFromScore]: pavg=0.111348 -> initscore=-2.077043\n",
            "[LightGBM] [Info] Start training from score -2.077043\n",
            "[LightGBM] [Warning] Accuracy may be bad since you didn't explicitly set num_leaves OR 2^max_depth > num_leaves. (num_leaves=31).\n",
            "[LightGBM] [Warning] Accuracy may be bad since you didn't explicitly set num_leaves OR 2^max_depth > num_leaves. (num_leaves=31).\n"
          ]
        },
        {
          "output_type": "stream",
          "name": "stderr",
          "text": [
            "[I 2023-10-03 11:30:39,249] Trial 25 finished with value: 0.6108029197080292 and parameters: {'max_depth': 10, 'scale_pos_weight': 7.879395574884191, 'reg_lambda': 0.061015912579973706, 'reg_alpha': 0.0003427384767486089}. Best is trial 25 with value: 0.6108029197080292.\n"
          ]
        },
        {
          "output_type": "stream",
          "name": "stdout",
          "text": [
            "[LightGBM] [Warning] Accuracy may be bad since you didn't explicitly set num_leaves OR 2^max_depth > num_leaves. (num_leaves=31).\n",
            "[LightGBM] [Warning] Found whitespace in feature_names, replace with underlines\n",
            "[LightGBM] [Warning] Accuracy may be bad since you didn't explicitly set num_leaves OR 2^max_depth > num_leaves. (num_leaves=31).\n",
            "[LightGBM] [Info] Number of positive: 7932, number of negative: 63304\n",
            "[LightGBM] [Warning] Auto-choosing col-wise multi-threading, the overhead of testing was 0.011973 seconds.\n",
            "You can set `force_col_wise=true` to remove the overhead.\n",
            "[LightGBM] [Info] Total Bins 319\n",
            "[LightGBM] [Info] Number of data points in the train set: 71236, number of used features: 53\n",
            "[LightGBM] [Info] [binary:BoostFromScore]: pavg=0.111348 -> initscore=-2.077043\n",
            "[LightGBM] [Info] Start training from score -2.077043\n"
          ]
        },
        {
          "output_type": "stream",
          "name": "stderr",
          "text": [
            "[I 2023-10-03 11:30:43,673] Trial 26 finished with value: 0.385985401459854 and parameters: {'max_depth': 10, 'scale_pos_weight': 5.941348414856366, 'reg_lambda': 2.0329558884776313, 'reg_alpha': 0.00026783243418783073}. Best is trial 25 with value: 0.6108029197080292.\n"
          ]
        },
        {
          "output_type": "stream",
          "name": "stdout",
          "text": [
            "[LightGBM] [Warning] Accuracy may be bad since you didn't explicitly set num_leaves OR 2^max_depth > num_leaves. (num_leaves=31).\n",
            "[LightGBM] [Warning] Accuracy may be bad since you didn't explicitly set num_leaves OR 2^max_depth > num_leaves. (num_leaves=31).\n",
            "[LightGBM] [Warning] Found whitespace in feature_names, replace with underlines\n",
            "[LightGBM] [Info] Number of positive: 7932, number of negative: 63304\n",
            "[LightGBM] [Warning] Auto-choosing col-wise multi-threading, the overhead of testing was 0.039659 seconds.\n",
            "You can set `force_col_wise=true` to remove the overhead.\n",
            "[LightGBM] [Info] Total Bins 319\n",
            "[LightGBM] [Info] Number of data points in the train set: 71236, number of used features: 53\n",
            "[LightGBM] [Info] [binary:BoostFromScore]: pavg=0.111348 -> initscore=-2.077043\n",
            "[LightGBM] [Info] Start training from score -2.077043\n"
          ]
        },
        {
          "output_type": "stream",
          "name": "stderr",
          "text": [
            "[I 2023-10-03 11:30:45,926] Trial 27 finished with value: 0.0 and parameters: {'max_depth': 11, 'scale_pos_weight': 8.682000903984507, 'reg_lambda': 0.039929424955663456, 'reg_alpha': 8.368495725309467e-05}. Best is trial 25 with value: 0.6108029197080292.\n"
          ]
        },
        {
          "output_type": "stream",
          "name": "stdout",
          "text": [
            "[LightGBM] [Warning] Accuracy may be bad since you didn't explicitly set num_leaves OR 2^max_depth > num_leaves. (num_leaves=31).\n",
            "[LightGBM] [Warning] Found whitespace in feature_names, replace with underlines\n",
            "[LightGBM] [Warning] Accuracy may be bad since you didn't explicitly set num_leaves OR 2^max_depth > num_leaves. (num_leaves=31).\n",
            "[LightGBM] [Info] Number of positive: 7932, number of negative: 63304\n",
            "[LightGBM] [Warning] Auto-choosing row-wise multi-threading, the overhead of testing was 0.005739 seconds.\n",
            "You can set `force_row_wise=true` to remove the overhead.\n",
            "And if memory is not enough, you can set `force_col_wise=true`.\n",
            "[LightGBM] [Info] Total Bins 319\n",
            "[LightGBM] [Info] Number of data points in the train set: 71236, number of used features: 53\n",
            "[LightGBM] [Info] [binary:BoostFromScore]: pavg=0.111348 -> initscore=-2.077043\n",
            "[LightGBM] [Info] Start training from score -2.077043\n",
            "[LightGBM] [Warning] Accuracy may be bad since you didn't explicitly set num_leaves OR 2^max_depth > num_leaves. (num_leaves=31).\n",
            "[LightGBM] [Warning] Accuracy may be bad since you didn't explicitly set num_leaves OR 2^max_depth > num_leaves. (num_leaves=31).\n"
          ]
        },
        {
          "output_type": "stream",
          "name": "stderr",
          "text": [
            "[I 2023-10-03 11:30:46,799] Trial 28 finished with value: 0.0 and parameters: {'max_depth': 10, 'scale_pos_weight': 9.852258480082817, 'reg_lambda': 0.004750393099177101, 'reg_alpha': 0.0004970329185434069}. Best is trial 25 with value: 0.6108029197080292.\n"
          ]
        },
        {
          "output_type": "stream",
          "name": "stdout",
          "text": [
            "[LightGBM] [Warning] Found whitespace in feature_names, replace with underlines\n",
            "[LightGBM] [Info] Number of positive: 7932, number of negative: 63304\n",
            "[LightGBM] [Warning] Auto-choosing row-wise multi-threading, the overhead of testing was 0.007161 seconds.\n",
            "You can set `force_row_wise=true` to remove the overhead.\n",
            "And if memory is not enough, you can set `force_col_wise=true`.\n",
            "[LightGBM] [Info] Total Bins 319\n",
            "[LightGBM] [Info] Number of data points in the train set: 71236, number of used features: 53\n",
            "[LightGBM] [Info] [binary:BoostFromScore]: pavg=0.111348 -> initscore=-2.077043\n",
            "[LightGBM] [Info] Start training from score -2.077043\n"
          ]
        },
        {
          "output_type": "stream",
          "name": "stderr",
          "text": [
            "[I 2023-10-03 11:30:48,245] Trial 29 finished with value: 0.5944525547445255 and parameters: {'max_depth': 11, 'scale_pos_weight': 7.759917231579983, 'reg_lambda': 2.5892195538142087, 'reg_alpha': 2.6629508074998857e-05}. Best is trial 25 with value: 0.6108029197080292.\n"
          ]
        },
        {
          "output_type": "stream",
          "name": "stdout",
          "text": [
            "[LightGBM] [Warning] Found whitespace in feature_names, replace with underlines\n",
            "[LightGBM] [Info] Number of positive: 7932, number of negative: 63304\n",
            "[LightGBM] [Warning] Auto-choosing row-wise multi-threading, the overhead of testing was 0.006056 seconds.\n",
            "You can set `force_row_wise=true` to remove the overhead.\n",
            "And if memory is not enough, you can set `force_col_wise=true`.\n",
            "[LightGBM] [Info] Total Bins 319\n",
            "[LightGBM] [Info] Number of data points in the train set: 71236, number of used features: 53\n",
            "[LightGBM] [Info] [binary:BoostFromScore]: pavg=0.111348 -> initscore=-2.077043\n",
            "[LightGBM] [Info] Start training from score -2.077043\n"
          ]
        },
        {
          "output_type": "stream",
          "name": "stderr",
          "text": [
            "[I 2023-10-03 11:30:48,879] Trial 30 finished with value: 0.0 and parameters: {'max_depth': 11, 'scale_pos_weight': 8.976087711656465, 'reg_lambda': 2.426511510642956, 'reg_alpha': 3.480275567982472e-05}. Best is trial 25 with value: 0.6108029197080292.\n"
          ]
        },
        {
          "output_type": "stream",
          "name": "stdout",
          "text": [
            "[LightGBM] [Warning] Accuracy may be bad since you didn't explicitly set num_leaves OR 2^max_depth > num_leaves. (num_leaves=31).\n",
            "[LightGBM] [Warning] Found whitespace in feature_names, replace with underlines\n",
            "[LightGBM] [Warning] Accuracy may be bad since you didn't explicitly set num_leaves OR 2^max_depth > num_leaves. (num_leaves=31).\n",
            "[LightGBM] [Info] Number of positive: 7932, number of negative: 63304\n",
            "[LightGBM] [Warning] Auto-choosing row-wise multi-threading, the overhead of testing was 0.005543 seconds.\n",
            "You can set `force_row_wise=true` to remove the overhead.\n",
            "And if memory is not enough, you can set `force_col_wise=true`.\n",
            "[LightGBM] [Info] Total Bins 319\n",
            "[LightGBM] [Info] Number of data points in the train set: 71236, number of used features: 53\n",
            "[LightGBM] [Info] [binary:BoostFromScore]: pavg=0.111348 -> initscore=-2.077043\n",
            "[LightGBM] [Info] Start training from score -2.077043\n"
          ]
        },
        {
          "output_type": "stream",
          "name": "stderr",
          "text": [
            "[I 2023-10-03 11:30:49,529] Trial 31 finished with value: 0.6014598540145986 and parameters: {'max_depth': 10, 'scale_pos_weight': 7.878507969274607, 'reg_lambda': 0.6320124931389447, 'reg_alpha': 1.2113850462006202e-05}. Best is trial 25 with value: 0.6108029197080292.\n"
          ]
        },
        {
          "output_type": "stream",
          "name": "stdout",
          "text": [
            "[LightGBM] [Warning] Accuracy may be bad since you didn't explicitly set num_leaves OR 2^max_depth > num_leaves. (num_leaves=31).\n",
            "[LightGBM] [Warning] Accuracy may be bad since you didn't explicitly set num_leaves OR 2^max_depth > num_leaves. (num_leaves=31).\n",
            "[LightGBM] [Warning] Found whitespace in feature_names, replace with underlines\n",
            "[LightGBM] [Info] Number of positive: 7932, number of negative: 63304\n",
            "[LightGBM] [Warning] Auto-choosing row-wise multi-threading, the overhead of testing was 0.006278 seconds.\n",
            "You can set `force_row_wise=true` to remove the overhead.\n",
            "And if memory is not enough, you can set `force_col_wise=true`.\n",
            "[LightGBM] [Info] Total Bins 319\n",
            "[LightGBM] [Info] Number of data points in the train set: 71236, number of used features: 53\n",
            "[LightGBM] [Info] [binary:BoostFromScore]: pavg=0.111348 -> initscore=-2.077043\n",
            "[LightGBM] [Info] Start training from score -2.077043\n"
          ]
        },
        {
          "output_type": "stream",
          "name": "stderr",
          "text": [
            "[I 2023-10-03 11:30:50,213] Trial 32 finished with value: 0.6081751824817518 and parameters: {'max_depth': 11, 'scale_pos_weight': 7.920541364055442, 'reg_lambda': 2.1319952795975703, 'reg_alpha': 1.4228585453067834e-05}. Best is trial 25 with value: 0.6108029197080292.\n"
          ]
        },
        {
          "output_type": "stream",
          "name": "stdout",
          "text": [
            "[LightGBM] [Warning] Accuracy may be bad since you didn't explicitly set num_leaves OR 2^max_depth > num_leaves. (num_leaves=31).\n",
            "[LightGBM] [Warning] Found whitespace in feature_names, replace with underlines\n",
            "[LightGBM] [Warning] Accuracy may be bad since you didn't explicitly set num_leaves OR 2^max_depth > num_leaves. (num_leaves=31).\n",
            "[LightGBM] [Info] Number of positive: 7932, number of negative: 63304\n",
            "[LightGBM] [Warning] Auto-choosing row-wise multi-threading, the overhead of testing was 0.005808 seconds.\n",
            "You can set `force_row_wise=true` to remove the overhead.\n",
            "And if memory is not enough, you can set `force_col_wise=true`.\n",
            "[LightGBM] [Info] Total Bins 319\n",
            "[LightGBM] [Info] Number of data points in the train set: 71236, number of used features: 53\n",
            "[LightGBM] [Info] [binary:BoostFromScore]: pavg=0.111348 -> initscore=-2.077043\n",
            "[LightGBM] [Info] Start training from score -2.077043\n",
            "[LightGBM] [Warning] Accuracy may be bad since you didn't explicitly set num_leaves OR 2^max_depth > num_leaves. (num_leaves=31).\n",
            "[LightGBM] [Warning] Accuracy may be bad since you didn't explicitly set num_leaves OR 2^max_depth > num_leaves. (num_leaves=31).\n"
          ]
        },
        {
          "output_type": "stream",
          "name": "stderr",
          "text": [
            "[I 2023-10-03 11:30:50,884] Trial 33 finished with value: 0.5293430656934307 and parameters: {'max_depth': 9, 'scale_pos_weight': 7.052896993033975, 'reg_lambda': 0.36402627806376886, 'reg_alpha': 5.546521816571866e-06}. Best is trial 25 with value: 0.6108029197080292.\n"
          ]
        },
        {
          "output_type": "stream",
          "name": "stdout",
          "text": [
            "[LightGBM] [Warning] Accuracy may be bad since you didn't explicitly set num_leaves OR 2^max_depth > num_leaves. (num_leaves=31).\n",
            "[LightGBM] [Warning] Found whitespace in feature_names, replace with underlines\n",
            "[LightGBM] [Warning] Accuracy may be bad since you didn't explicitly set num_leaves OR 2^max_depth > num_leaves. (num_leaves=31).\n",
            "[LightGBM] [Info] Number of positive: 7932, number of negative: 63304\n",
            "[LightGBM] [Warning] Auto-choosing row-wise multi-threading, the overhead of testing was 0.005449 seconds.\n",
            "You can set `force_row_wise=true` to remove the overhead.\n",
            "And if memory is not enough, you can set `force_col_wise=true`.\n",
            "[LightGBM] [Info] Total Bins 319\n",
            "[LightGBM] [Info] Number of data points in the train set: 71236, number of used features: 53\n",
            "[LightGBM] [Info] [binary:BoostFromScore]: pavg=0.111348 -> initscore=-2.077043\n",
            "[LightGBM] [Info] Start training from score -2.077043\n"
          ]
        },
        {
          "output_type": "stream",
          "name": "stderr",
          "text": [
            "[I 2023-10-03 11:30:51,532] Trial 34 finished with value: 0.6090510948905109 and parameters: {'max_depth': 10, 'scale_pos_weight': 8.035951023656683, 'reg_lambda': 0.05037644972813387, 'reg_alpha': 0.00010849973367353079}. Best is trial 25 with value: 0.6108029197080292.\n"
          ]
        },
        {
          "output_type": "stream",
          "name": "stdout",
          "text": [
            "[LightGBM] [Warning] Accuracy may be bad since you didn't explicitly set num_leaves OR 2^max_depth > num_leaves. (num_leaves=31).\n",
            "[LightGBM] [Warning] Accuracy may be bad since you didn't explicitly set num_leaves OR 2^max_depth > num_leaves. (num_leaves=31).\n",
            "[LightGBM] [Warning] Accuracy may be bad since you didn't explicitly set num_leaves OR 2^max_depth > num_leaves. (num_leaves=31).\n",
            "[LightGBM] [Warning] Found whitespace in feature_names, replace with underlines\n",
            "[LightGBM] [Warning] Accuracy may be bad since you didn't explicitly set num_leaves OR 2^max_depth > num_leaves. (num_leaves=31).\n",
            "[LightGBM] [Info] Number of positive: 7932, number of negative: 63304\n",
            "[LightGBM] [Warning] Auto-choosing row-wise multi-threading, the overhead of testing was 0.005840 seconds.\n",
            "You can set `force_row_wise=true` to remove the overhead.\n",
            "And if memory is not enough, you can set `force_col_wise=true`.\n",
            "[LightGBM] [Info] Total Bins 319\n",
            "[LightGBM] [Info] Number of data points in the train set: 71236, number of used features: 53\n",
            "[LightGBM] [Info] [binary:BoostFromScore]: pavg=0.111348 -> initscore=-2.077043\n",
            "[LightGBM] [Info] Start training from score -2.077043\n",
            "[LightGBM] [Warning] No further splits with positive gain, best gain: -inf\n",
            "[LightGBM] [Warning] No further splits with positive gain, best gain: -inf\n",
            "[LightGBM] [Warning] No further splits with positive gain, best gain: -inf\n",
            "[LightGBM] [Warning] No further splits with positive gain, best gain: -inf\n",
            "[LightGBM] [Warning] No further splits with positive gain, best gain: -inf\n",
            "[LightGBM] [Warning] Accuracy may be bad since you didn't explicitly set num_leaves OR 2^max_depth > num_leaves. (num_leaves=31).\n"
          ]
        },
        {
          "output_type": "stream",
          "name": "stderr",
          "text": [
            "[I 2023-10-03 11:30:52,213] Trial 35 finished with value: 0.0 and parameters: {'max_depth': 7, 'scale_pos_weight': 8.392313678444472, 'reg_lambda': 0.04242756795996777, 'reg_alpha': 0.0001236583425873287}. Best is trial 25 with value: 0.6108029197080292.\n"
          ]
        },
        {
          "output_type": "stream",
          "name": "stdout",
          "text": [
            "[LightGBM] [Warning] Accuracy may be bad since you didn't explicitly set num_leaves OR 2^max_depth > num_leaves. (num_leaves=31).\n",
            "[LightGBM] [Warning] Accuracy may be bad since you didn't explicitly set num_leaves OR 2^max_depth > num_leaves. (num_leaves=31).\n",
            "[LightGBM] [Warning] Found whitespace in feature_names, replace with underlines\n",
            "[LightGBM] [Warning] Accuracy may be bad since you didn't explicitly set num_leaves OR 2^max_depth > num_leaves. (num_leaves=31).\n",
            "[LightGBM] [Info] Number of positive: 7932, number of negative: 63304\n",
            "[LightGBM] [Warning] Auto-choosing row-wise multi-threading, the overhead of testing was 0.005475 seconds.\n",
            "You can set `force_row_wise=true` to remove the overhead.\n",
            "And if memory is not enough, you can set `force_col_wise=true`.\n",
            "[LightGBM] [Info] Total Bins 319\n",
            "[LightGBM] [Info] Number of data points in the train set: 71236, number of used features: 53\n",
            "[LightGBM] [Info] [binary:BoostFromScore]: pavg=0.111348 -> initscore=-2.077043\n",
            "[LightGBM] [Info] Start training from score -2.077043\n"
          ]
        },
        {
          "output_type": "stream",
          "name": "stderr",
          "text": [
            "[I 2023-10-03 11:30:52,853] Trial 36 finished with value: 0.0 and parameters: {'max_depth': 9, 'scale_pos_weight': 9.43212767908369, 'reg_lambda': 0.004082746280186121, 'reg_alpha': 1.2520561799238527e-05}. Best is trial 25 with value: 0.6108029197080292.\n"
          ]
        },
        {
          "output_type": "stream",
          "name": "stdout",
          "text": [
            "[LightGBM] [Warning] Accuracy may be bad since you didn't explicitly set num_leaves OR 2^max_depth > num_leaves. (num_leaves=31).\n",
            "[LightGBM] [Warning] Accuracy may be bad since you didn't explicitly set num_leaves OR 2^max_depth > num_leaves. (num_leaves=31).\n",
            "[LightGBM] [Warning] Accuracy may be bad since you didn't explicitly set num_leaves OR 2^max_depth > num_leaves. (num_leaves=31).\n",
            "[LightGBM] [Warning] Found whitespace in feature_names, replace with underlines\n",
            "[LightGBM] [Warning] Accuracy may be bad since you didn't explicitly set num_leaves OR 2^max_depth > num_leaves. (num_leaves=31).\n",
            "[LightGBM] [Info] Number of positive: 7932, number of negative: 63304\n",
            "[LightGBM] [Warning] Auto-choosing row-wise multi-threading, the overhead of testing was 0.006133 seconds.\n",
            "You can set `force_row_wise=true` to remove the overhead.\n",
            "And if memory is not enough, you can set `force_col_wise=true`.\n",
            "[LightGBM] [Info] Total Bins 319\n",
            "[LightGBM] [Info] Number of data points in the train set: 71236, number of used features: 53\n",
            "[LightGBM] [Info] [binary:BoostFromScore]: pavg=0.111348 -> initscore=-2.077043\n",
            "[LightGBM] [Info] Start training from score -2.077043\n",
            "[LightGBM] [Warning] No further splits with positive gain, best gain: -inf\n",
            "[LightGBM] [Warning] No further splits with positive gain, best gain: -inf\n",
            "[LightGBM] [Warning] No further splits with positive gain, best gain: -inf\n",
            "[LightGBM] [Warning] No further splits with positive gain, best gain: -inf\n",
            "[LightGBM] [Warning] Accuracy may be bad since you didn't explicitly set num_leaves OR 2^max_depth > num_leaves. (num_leaves=31).\n",
            "[LightGBM] [Warning] Accuracy may be bad since you didn't explicitly set num_leaves OR 2^max_depth > num_leaves. (num_leaves=31).\n"
          ]
        },
        {
          "output_type": "stream",
          "name": "stderr",
          "text": [
            "[I 2023-10-03 11:30:53,516] Trial 37 finished with value: 0.0 and parameters: {'max_depth': 8, 'scale_pos_weight': 10.55900511542066, 'reg_lambda': 0.16495447876404556, 'reg_alpha': 2.742197349591006e-06}. Best is trial 25 with value: 0.6108029197080292.\n"
          ]
        },
        {
          "output_type": "stream",
          "name": "stdout",
          "text": [
            "[LightGBM] [Warning] Accuracy may be bad since you didn't explicitly set num_leaves OR 2^max_depth > num_leaves. (num_leaves=31).\n",
            "[LightGBM] [Warning] Found whitespace in feature_names, replace with underlines\n",
            "[LightGBM] [Warning] Accuracy may be bad since you didn't explicitly set num_leaves OR 2^max_depth > num_leaves. (num_leaves=31).\n",
            "[LightGBM] [Info] Number of positive: 7932, number of negative: 63304\n",
            "[LightGBM] [Warning] Auto-choosing row-wise multi-threading, the overhead of testing was 0.006379 seconds.\n",
            "You can set `force_row_wise=true` to remove the overhead.\n",
            "And if memory is not enough, you can set `force_col_wise=true`.\n",
            "[LightGBM] [Info] Total Bins 319\n",
            "[LightGBM] [Info] Number of data points in the train set: 71236, number of used features: 53\n",
            "[LightGBM] [Info] [binary:BoostFromScore]: pavg=0.111348 -> initscore=-2.077043\n",
            "[LightGBM] [Info] Start training from score -2.077043\n",
            "[LightGBM] [Warning] Accuracy may be bad since you didn't explicitly set num_leaves OR 2^max_depth > num_leaves. (num_leaves=31).\n",
            "[LightGBM] [Warning] Accuracy may be bad since you didn't explicitly set num_leaves OR 2^max_depth > num_leaves. (num_leaves=31).\n"
          ]
        },
        {
          "output_type": "stream",
          "name": "stderr",
          "text": [
            "[I 2023-10-03 11:30:56,567] Trial 38 finished with value: 0.4216058394160584 and parameters: {'max_depth': 10, 'scale_pos_weight': 6.208884839484374, 'reg_lambda': 0.021489772553523863, 'reg_alpha': 5.80866621105285e-05}. Best is trial 25 with value: 0.6108029197080292.\n"
          ]
        },
        {
          "output_type": "stream",
          "name": "stdout",
          "text": [
            "[LightGBM] [Warning] Found whitespace in feature_names, replace with underlines\n",
            "[LightGBM] [Info] Number of positive: 7932, number of negative: 63304\n",
            "[LightGBM] [Warning] Auto-choosing row-wise multi-threading, the overhead of testing was 0.007726 seconds.\n",
            "You can set `force_row_wise=true` to remove the overhead.\n",
            "And if memory is not enough, you can set `force_col_wise=true`.\n",
            "[LightGBM] [Info] Total Bins 319\n",
            "[LightGBM] [Info] Number of data points in the train set: 71236, number of used features: 53\n",
            "[LightGBM] [Info] [binary:BoostFromScore]: pavg=0.111348 -> initscore=-2.077043\n",
            "[LightGBM] [Info] Start training from score -2.077043\n"
          ]
        },
        {
          "output_type": "stream",
          "name": "stderr",
          "text": [
            "[I 2023-10-03 11:30:57,610] Trial 39 finished with value: 0.5246715328467153 and parameters: {'max_depth': 11, 'scale_pos_weight': 6.9357934470081855, 'reg_lambda': 9.80766975669001, 'reg_alpha': 1.5833484256999063e-07}. Best is trial 25 with value: 0.6108029197080292.\n"
          ]
        },
        {
          "output_type": "stream",
          "name": "stdout",
          "text": [
            "[LightGBM] [Warning] Accuracy may be bad since you didn't explicitly set num_leaves OR 2^max_depth > num_leaves. (num_leaves=31).\n",
            "[LightGBM] [Warning] Found whitespace in feature_names, replace with underlines\n",
            "[LightGBM] [Warning] Accuracy may be bad since you didn't explicitly set num_leaves OR 2^max_depth > num_leaves. (num_leaves=31).\n",
            "[LightGBM] [Info] Number of positive: 7932, number of negative: 63304\n",
            "[LightGBM] [Warning] Auto-choosing row-wise multi-threading, the overhead of testing was 0.006814 seconds.\n",
            "You can set `force_row_wise=true` to remove the overhead.\n",
            "And if memory is not enough, you can set `force_col_wise=true`.\n",
            "[LightGBM] [Info] Total Bins 319\n",
            "[LightGBM] [Info] Number of data points in the train set: 71236, number of used features: 53\n",
            "[LightGBM] [Info] [binary:BoostFromScore]: pavg=0.111348 -> initscore=-2.077043\n",
            "[LightGBM] [Info] Start training from score -2.077043\n",
            "[LightGBM] [Warning] No further splits with positive gain, best gain: -inf\n",
            "[LightGBM] [Warning] Accuracy may be bad since you didn't explicitly set num_leaves OR 2^max_depth > num_leaves. (num_leaves=31).\n"
          ]
        },
        {
          "output_type": "stream",
          "name": "stderr",
          "text": [
            "[I 2023-10-03 11:30:58,698] Trial 40 finished with value: 0.0 and parameters: {'max_depth': 8, 'scale_pos_weight': 8.775744025823586, 'reg_lambda': 0.0750223326881274, 'reg_alpha': 1.3880472832072269e-05}. Best is trial 25 with value: 0.6108029197080292.\n"
          ]
        },
        {
          "output_type": "stream",
          "name": "stdout",
          "text": [
            "[LightGBM] [Warning] Accuracy may be bad since you didn't explicitly set num_leaves OR 2^max_depth > num_leaves. (num_leaves=31).\n",
            "[LightGBM] [Warning] Accuracy may be bad since you didn't explicitly set num_leaves OR 2^max_depth > num_leaves. (num_leaves=31).\n",
            "[LightGBM] [Warning] Found whitespace in feature_names, replace with underlines\n",
            "[LightGBM] [Warning] Accuracy may be bad since you didn't explicitly set num_leaves OR 2^max_depth > num_leaves. (num_leaves=31).\n",
            "[LightGBM] [Info] Number of positive: 7932, number of negative: 63304\n",
            "[LightGBM] [Warning] Auto-choosing col-wise multi-threading, the overhead of testing was 0.011308 seconds.\n",
            "You can set `force_col_wise=true` to remove the overhead.\n",
            "[LightGBM] [Info] Total Bins 319\n",
            "[LightGBM] [Info] Number of data points in the train set: 71236, number of used features: 53\n",
            "[LightGBM] [Info] [binary:BoostFromScore]: pavg=0.111348 -> initscore=-2.077043\n",
            "[LightGBM] [Info] Start training from score -2.077043\n",
            "[LightGBM] [Warning] Accuracy may be bad since you didn't explicitly set num_leaves OR 2^max_depth > num_leaves. (num_leaves=31).\n",
            "[LightGBM] [Warning] Accuracy may be bad since you didn't explicitly set num_leaves OR 2^max_depth > num_leaves. (num_leaves=31).\n"
          ]
        },
        {
          "output_type": "stream",
          "name": "stderr",
          "text": [
            "[I 2023-10-03 11:30:59,791] Trial 41 finished with value: 0.6154744525547445 and parameters: {'max_depth': 10, 'scale_pos_weight': 7.926867998628939, 'reg_lambda': 0.8284413271486493, 'reg_alpha': 0.00010748920048463551}. Best is trial 41 with value: 0.6154744525547445.\n"
          ]
        },
        {
          "output_type": "stream",
          "name": "stdout",
          "text": [
            "[LightGBM] [Warning] Accuracy may be bad since you didn't explicitly set num_leaves OR 2^max_depth > num_leaves. (num_leaves=31).\n",
            "[LightGBM] [Warning] Found whitespace in feature_names, replace with underlines\n",
            "[LightGBM] [Warning] Accuracy may be bad since you didn't explicitly set num_leaves OR 2^max_depth > num_leaves. (num_leaves=31).\n",
            "[LightGBM] [Info] Number of positive: 7932, number of negative: 63304\n",
            "[LightGBM] [Warning] Auto-choosing row-wise multi-threading, the overhead of testing was 0.007066 seconds.\n",
            "You can set `force_row_wise=true` to remove the overhead.\n",
            "And if memory is not enough, you can set `force_col_wise=true`.\n",
            "[LightGBM] [Info] Total Bins 319\n",
            "[LightGBM] [Info] Number of data points in the train set: 71236, number of used features: 53\n",
            "[LightGBM] [Info] [binary:BoostFromScore]: pavg=0.111348 -> initscore=-2.077043\n",
            "[LightGBM] [Info] Start training from score -2.077043\n",
            "[LightGBM] [Warning] Accuracy may be bad since you didn't explicitly set num_leaves OR 2^max_depth > num_leaves. (num_leaves=31).\n",
            "[LightGBM] [Warning] Accuracy may be bad since you didn't explicitly set num_leaves OR 2^max_depth > num_leaves. (num_leaves=31).\n"
          ]
        },
        {
          "output_type": "stream",
          "name": "stderr",
          "text": [
            "[I 2023-10-03 11:31:00,552] Trial 42 finished with value: 0.0 and parameters: {'max_depth': 10, 'scale_pos_weight': 8.052292145285698, 'reg_lambda': 0.3166062780177792, 'reg_alpha': 9.167612973654155e-05}. Best is trial 41 with value: 0.6154744525547445.\n"
          ]
        },
        {
          "output_type": "stream",
          "name": "stdout",
          "text": [
            "[LightGBM] [Warning] Found whitespace in feature_names, replace with underlines\n",
            "[LightGBM] [Info] Number of positive: 7932, number of negative: 63304\n",
            "[LightGBM] [Warning] Auto-choosing row-wise multi-threading, the overhead of testing was 0.007229 seconds.\n",
            "You can set `force_row_wise=true` to remove the overhead.\n",
            "And if memory is not enough, you can set `force_col_wise=true`.\n",
            "[LightGBM] [Info] Total Bins 319\n",
            "[LightGBM] [Info] Number of data points in the train set: 71236, number of used features: 53\n",
            "[LightGBM] [Info] [binary:BoostFromScore]: pavg=0.111348 -> initscore=-2.077043\n",
            "[LightGBM] [Info] Start training from score -2.077043\n"
          ]
        },
        {
          "output_type": "stream",
          "name": "stderr",
          "text": [
            "[I 2023-10-03 11:31:01,300] Trial 43 finished with value: 0.5594160583941605 and parameters: {'max_depth': 11, 'scale_pos_weight': 7.305704005181168, 'reg_lambda': 4.017530257338179, 'reg_alpha': 1.9173828281910887e-05}. Best is trial 41 with value: 0.6154744525547445.\n"
          ]
        },
        {
          "output_type": "stream",
          "name": "stdout",
          "text": [
            "[LightGBM] [Warning] Accuracy may be bad since you didn't explicitly set num_leaves OR 2^max_depth > num_leaves. (num_leaves=31).\n",
            "[LightGBM] [Warning] Found whitespace in feature_names, replace with underlines\n",
            "[LightGBM] [Warning] Accuracy may be bad since you didn't explicitly set num_leaves OR 2^max_depth > num_leaves. (num_leaves=31).\n",
            "[LightGBM] [Info] Number of positive: 7932, number of negative: 63304\n",
            "[LightGBM] [Warning] Auto-choosing row-wise multi-threading, the overhead of testing was 0.007032 seconds.\n",
            "You can set `force_row_wise=true` to remove the overhead.\n",
            "And if memory is not enough, you can set `force_col_wise=true`.\n",
            "[LightGBM] [Info] Total Bins 319\n",
            "[LightGBM] [Info] Number of data points in the train set: 71236, number of used features: 53\n",
            "[LightGBM] [Info] [binary:BoostFromScore]: pavg=0.111348 -> initscore=-2.077043\n",
            "[LightGBM] [Info] Start training from score -2.077043\n",
            "[LightGBM] [Warning] Accuracy may be bad since you didn't explicitly set num_leaves OR 2^max_depth > num_leaves. (num_leaves=31).\n",
            "[LightGBM] [Warning] Accuracy may be bad since you didn't explicitly set num_leaves OR 2^max_depth > num_leaves. (num_leaves=31).\n"
          ]
        },
        {
          "output_type": "stream",
          "name": "stderr",
          "text": [
            "[I 2023-10-03 11:31:02,475] Trial 44 finished with value: 0.0 and parameters: {'max_depth': 9, 'scale_pos_weight': 8.021743140877806, 'reg_lambda': 1.187244851050583, 'reg_alpha': 3.5666927550167333e-06}. Best is trial 41 with value: 0.6154744525547445.\n"
          ]
        },
        {
          "output_type": "stream",
          "name": "stdout",
          "text": [
            "[LightGBM] [Warning] Found whitespace in feature_names, replace with underlines\n",
            "[LightGBM] [Info] Number of positive: 7932, number of negative: 63304\n",
            "[LightGBM] [Warning] Auto-choosing row-wise multi-threading, the overhead of testing was 0.007048 seconds.\n",
            "You can set `force_row_wise=true` to remove the overhead.\n",
            "And if memory is not enough, you can set `force_col_wise=true`.\n",
            "[LightGBM] [Info] Total Bins 319\n",
            "[LightGBM] [Info] Number of data points in the train set: 71236, number of used features: 53\n",
            "[LightGBM] [Info] [binary:BoostFromScore]: pavg=0.111348 -> initscore=-2.077043\n",
            "[LightGBM] [Info] Start training from score -2.077043\n"
          ]
        },
        {
          "output_type": "stream",
          "name": "stderr",
          "text": [
            "[I 2023-10-03 11:31:05,112] Trial 45 finished with value: 0.4548905109489051 and parameters: {'max_depth': 11, 'scale_pos_weight': 6.427817022018748, 'reg_lambda': 4.1377017037091735, 'reg_alpha': 5.431896305763212e-05}. Best is trial 41 with value: 0.6154744525547445.\n"
          ]
        },
        {
          "output_type": "stream",
          "name": "stdout",
          "text": [
            "[LightGBM] [Warning] Accuracy may be bad since you didn't explicitly set num_leaves OR 2^max_depth > num_leaves. (num_leaves=31).\n",
            "[LightGBM] [Warning] Found whitespace in feature_names, replace with underlines\n",
            "[LightGBM] [Warning] Accuracy may be bad since you didn't explicitly set num_leaves OR 2^max_depth > num_leaves. (num_leaves=31).\n",
            "[LightGBM] [Info] Number of positive: 7932, number of negative: 63304\n",
            "[LightGBM] [Warning] Auto-choosing row-wise multi-threading, the overhead of testing was 0.010148 seconds.\n",
            "You can set `force_row_wise=true` to remove the overhead.\n",
            "And if memory is not enough, you can set `force_col_wise=true`.\n",
            "[LightGBM] [Info] Total Bins 319\n",
            "[LightGBM] [Info] Number of data points in the train set: 71236, number of used features: 53\n",
            "[LightGBM] [Info] [binary:BoostFromScore]: pavg=0.111348 -> initscore=-2.077043\n",
            "[LightGBM] [Info] Start training from score -2.077043\n"
          ]
        },
        {
          "output_type": "stream",
          "name": "stderr",
          "text": [
            "[I 2023-10-03 11:31:05,744] Trial 46 finished with value: 0.5275912408759124 and parameters: {'max_depth': 10, 'scale_pos_weight': 7.034096275972473, 'reg_lambda': 0.15000807689582135, 'reg_alpha': 0.00015306981681839838}. Best is trial 41 with value: 0.6154744525547445.\n"
          ]
        },
        {
          "output_type": "stream",
          "name": "stdout",
          "text": [
            "[LightGBM] [Warning] Accuracy may be bad since you didn't explicitly set num_leaves OR 2^max_depth > num_leaves. (num_leaves=31).\n",
            "[LightGBM] [Warning] Accuracy may be bad since you didn't explicitly set num_leaves OR 2^max_depth > num_leaves. (num_leaves=31).\n",
            "[LightGBM] [Warning] Accuracy may be bad since you didn't explicitly set num_leaves OR 2^max_depth > num_leaves. (num_leaves=31).\n",
            "[LightGBM] [Warning] Found whitespace in feature_names, replace with underlines\n",
            "[LightGBM] [Warning] Accuracy may be bad since you didn't explicitly set num_leaves OR 2^max_depth > num_leaves. (num_leaves=31).\n",
            "[LightGBM] [Info] Number of positive: 7932, number of negative: 63304\n",
            "[LightGBM] [Warning] Auto-choosing row-wise multi-threading, the overhead of testing was 0.006952 seconds.\n",
            "You can set `force_row_wise=true` to remove the overhead.\n",
            "And if memory is not enough, you can set `force_col_wise=true`.\n",
            "[LightGBM] [Info] Total Bins 319\n",
            "[LightGBM] [Info] Number of data points in the train set: 71236, number of used features: 53\n",
            "[LightGBM] [Info] [binary:BoostFromScore]: pavg=0.111348 -> initscore=-2.077043\n",
            "[LightGBM] [Info] Start training from score -2.077043\n"
          ]
        },
        {
          "output_type": "stream",
          "name": "stderr",
          "text": [
            "[I 2023-10-03 11:31:06,363] Trial 47 finished with value: 0.0 and parameters: {'max_depth': 10, 'scale_pos_weight': 9.082937691687734, 'reg_lambda': 0.5725697783866187, 'reg_alpha': 1.0046081828680355e-05}. Best is trial 41 with value: 0.6154744525547445.\n"
          ]
        },
        {
          "output_type": "stream",
          "name": "stdout",
          "text": [
            "[LightGBM] [Warning] Accuracy may be bad since you didn't explicitly set num_leaves OR 2^max_depth > num_leaves. (num_leaves=31).\n",
            "[LightGBM] [Warning] Accuracy may be bad since you didn't explicitly set num_leaves OR 2^max_depth > num_leaves. (num_leaves=31).\n",
            "[LightGBM] [Warning] Accuracy may be bad since you didn't explicitly set num_leaves OR 2^max_depth > num_leaves. (num_leaves=31).\n",
            "[LightGBM] [Warning] Found whitespace in feature_names, replace with underlines\n",
            "[LightGBM] [Warning] Accuracy may be bad since you didn't explicitly set num_leaves OR 2^max_depth > num_leaves. (num_leaves=31).\n",
            "[LightGBM] [Info] Number of positive: 7932, number of negative: 63304\n",
            "[LightGBM] [Warning] Auto-choosing row-wise multi-threading, the overhead of testing was 0.006083 seconds.\n",
            "You can set `force_row_wise=true` to remove the overhead.\n",
            "And if memory is not enough, you can set `force_col_wise=true`.\n",
            "[LightGBM] [Info] Total Bins 319\n",
            "[LightGBM] [Info] Number of data points in the train set: 71236, number of used features: 53\n",
            "[LightGBM] [Info] [binary:BoostFromScore]: pavg=0.111348 -> initscore=-2.077043\n",
            "[LightGBM] [Info] Start training from score -2.077043\n",
            "[LightGBM] [Warning] No further splits with positive gain, best gain: -inf\n",
            "[LightGBM] [Warning] No further splits with positive gain, best gain: -inf\n",
            "[LightGBM] [Warning] No further splits with positive gain, best gain: -inf\n",
            "[LightGBM] [Warning] No further splits with positive gain, best gain: -inf\n",
            "[LightGBM] [Warning] No further splits with positive gain, best gain: -inf\n",
            "[LightGBM] [Warning] No further splits with positive gain, best gain: -inf\n",
            "[LightGBM] [Warning] No further splits with positive gain, best gain: -inf\n",
            "[LightGBM] [Warning] No further splits with positive gain, best gain: -inf\n",
            "[LightGBM] [Warning] No further splits with positive gain, best gain: -inf\n",
            "[LightGBM] [Warning] No further splits with positive gain, best gain: -inf\n",
            "[LightGBM] [Warning] No further splits with positive gain, best gain: -inf\n",
            "[LightGBM] [Warning] No further splits with positive gain, best gain: -inf\n",
            "[LightGBM] [Warning] Accuracy may be bad since you didn't explicitly set num_leaves OR 2^max_depth > num_leaves. (num_leaves=31).\n"
          ]
        },
        {
          "output_type": "stream",
          "name": "stderr",
          "text": [
            "[I 2023-10-03 11:31:07,064] Trial 48 finished with value: 0.5672992700729927 and parameters: {'max_depth': 7, 'scale_pos_weight': 7.290725679233404, 'reg_lambda': 9.9175755896143, 'reg_alpha': 0.0005547367147994663}. Best is trial 41 with value: 0.6154744525547445.\n"
          ]
        },
        {
          "output_type": "stream",
          "name": "stdout",
          "text": [
            "[LightGBM] [Warning] Accuracy may be bad since you didn't explicitly set num_leaves OR 2^max_depth > num_leaves. (num_leaves=31).\n",
            "[LightGBM] [Warning] Accuracy may be bad since you didn't explicitly set num_leaves OR 2^max_depth > num_leaves. (num_leaves=31).\n",
            "[LightGBM] [Warning] Found whitespace in feature_names, replace with underlines\n",
            "[LightGBM] [Warning] Accuracy may be bad since you didn't explicitly set num_leaves OR 2^max_depth > num_leaves. (num_leaves=31).\n",
            "[LightGBM] [Info] Number of positive: 7932, number of negative: 63304\n",
            "[LightGBM] [Warning] Auto-choosing row-wise multi-threading, the overhead of testing was 0.006352 seconds.\n",
            "You can set `force_row_wise=true` to remove the overhead.\n",
            "And if memory is not enough, you can set `force_col_wise=true`.\n",
            "[LightGBM] [Info] Total Bins 319\n",
            "[LightGBM] [Info] Number of data points in the train set: 71236, number of used features: 53\n",
            "[LightGBM] [Info] [binary:BoostFromScore]: pavg=0.111348 -> initscore=-2.077043\n",
            "[LightGBM] [Info] Start training from score -2.077043\n",
            "[LightGBM] [Warning] Accuracy may be bad since you didn't explicitly set num_leaves OR 2^max_depth > num_leaves. (num_leaves=31).\n",
            "[LightGBM] [Warning] Accuracy may be bad since you didn't explicitly set num_leaves OR 2^max_depth > num_leaves. (num_leaves=31).\n"
          ]
        },
        {
          "output_type": "stream",
          "name": "stderr",
          "text": [
            "[I 2023-10-03 11:31:07,739] Trial 49 finished with value: 0.0 and parameters: {'max_depth': 9, 'scale_pos_weight': 8.24775844709045, 'reg_lambda': 0.05719636037789557, 'reg_alpha': 1.2831057290023223e-06}. Best is trial 41 with value: 0.6154744525547445.\n"
          ]
        },
        {
          "output_type": "stream",
          "name": "stdout",
          "text": [
            "[LightGBM] [Warning] Found whitespace in feature_names, replace with underlines\n",
            "[LightGBM] [Info] Number of positive: 7932, number of negative: 63304\n",
            "[LightGBM] [Warning] Auto-choosing row-wise multi-threading, the overhead of testing was 0.006140 seconds.\n",
            "You can set `force_row_wise=true` to remove the overhead.\n",
            "And if memory is not enough, you can set `force_col_wise=true`.\n",
            "[LightGBM] [Info] Total Bins 319\n",
            "[LightGBM] [Info] Number of data points in the train set: 71236, number of used features: 53\n",
            "[LightGBM] [Info] [binary:BoostFromScore]: pavg=0.111348 -> initscore=-2.077043\n",
            "[LightGBM] [Info] Start training from score -2.077043\n",
            "[LightGBM] [Warning] No further splits with positive gain, best gain: -inf\n",
            "[LightGBM] [Warning] No further splits with positive gain, best gain: -inf\n",
            "[LightGBM] [Warning] No further splits with positive gain, best gain: -inf\n",
            "[LightGBM] [Warning] No further splits with positive gain, best gain: -inf\n",
            "[LightGBM] [Warning] No further splits with positive gain, best gain: -inf\n",
            "[LightGBM] [Warning] No further splits with positive gain, best gain: -inf\n",
            "[LightGBM] [Warning] No further splits with positive gain, best gain: -inf\n",
            "[LightGBM] [Warning] No further splits with positive gain, best gain: -inf\n",
            "[LightGBM] [Warning] No further splits with positive gain, best gain: -inf\n",
            "[LightGBM] [Warning] No further splits with positive gain, best gain: -inf\n",
            "[LightGBM] [Warning] No further splits with positive gain, best gain: -inf\n",
            "[LightGBM] [Warning] No further splits with positive gain, best gain: -inf\n",
            "[LightGBM] [Warning] No further splits with positive gain, best gain: -inf\n",
            "[LightGBM] [Warning] No further splits with positive gain, best gain: -inf\n",
            "[LightGBM] [Warning] No further splits with positive gain, best gain: -inf\n",
            "[LightGBM] [Warning] No further splits with positive gain, best gain: -inf\n",
            "[LightGBM] [Warning] No further splits with positive gain, best gain: -inf\n",
            "[LightGBM] [Warning] No further splits with positive gain, best gain: -inf\n",
            "[LightGBM] [Warning] No further splits with positive gain, best gain: -inf\n",
            "[LightGBM] [Warning] No further splits with positive gain, best gain: -inf\n",
            "[LightGBM] [Warning] No further splits with positive gain, best gain: -inf\n",
            "[LightGBM] [Warning] No further splits with positive gain, best gain: -inf\n",
            "[LightGBM] [Warning] No further splits with positive gain, best gain: -inf\n",
            "[LightGBM] [Warning] No further splits with positive gain, best gain: -inf\n",
            "[LightGBM] [Warning] No further splits with positive gain, best gain: -inf\n",
            "[LightGBM] [Warning] No further splits with positive gain, best gain: -inf\n",
            "[LightGBM] [Warning] No further splits with positive gain, best gain: -inf\n",
            "[LightGBM] [Warning] No further splits with positive gain, best gain: -inf\n",
            "[LightGBM] [Warning] No further splits with positive gain, best gain: -inf\n",
            "[LightGBM] [Warning] No further splits with positive gain, best gain: -inf\n",
            "[LightGBM] [Warning] No further splits with positive gain, best gain: -inf\n",
            "[LightGBM] [Warning] No further splits with positive gain, best gain: -inf\n",
            "[LightGBM] [Warning] No further splits with positive gain, best gain: -inf\n",
            "[LightGBM] [Warning] No further splits with positive gain, best gain: -inf\n"
          ]
        },
        {
          "output_type": "stream",
          "name": "stderr",
          "text": [
            "[I 2023-10-03 11:31:08,352] Trial 50 finished with value: 0.0 and parameters: {'max_depth': 4, 'scale_pos_weight': 9.478301620530884, 'reg_lambda': 0.0020412311078588322, 'reg_alpha': 2.526153030203372e-05}. Best is trial 41 with value: 0.6154744525547445.\n"
          ]
        },
        {
          "output_type": "stream",
          "name": "stdout",
          "text": [
            "[LightGBM] [Warning] Accuracy may be bad since you didn't explicitly set num_leaves OR 2^max_depth > num_leaves. (num_leaves=31).\n",
            "[LightGBM] [Warning] Found whitespace in feature_names, replace with underlines\n",
            "[LightGBM] [Warning] Accuracy may be bad since you didn't explicitly set num_leaves OR 2^max_depth > num_leaves. (num_leaves=31).\n",
            "[LightGBM] [Info] Number of positive: 7932, number of negative: 63304\n",
            "[LightGBM] [Warning] Auto-choosing row-wise multi-threading, the overhead of testing was 0.006835 seconds.\n",
            "You can set `force_row_wise=true` to remove the overhead.\n",
            "And if memory is not enough, you can set `force_col_wise=true`.\n",
            "[LightGBM] [Info] Total Bins 319\n",
            "[LightGBM] [Info] Number of data points in the train set: 71236, number of used features: 53\n",
            "[LightGBM] [Info] [binary:BoostFromScore]: pavg=0.111348 -> initscore=-2.077043\n",
            "[LightGBM] [Info] Start training from score -2.077043\n",
            "[LightGBM] [Warning] No further splits with positive gain, best gain: -inf\n",
            "[LightGBM] [Warning] Accuracy may be bad since you didn't explicitly set num_leaves OR 2^max_depth > num_leaves. (num_leaves=31).\n"
          ]
        },
        {
          "output_type": "stream",
          "name": "stderr",
          "text": [
            "[I 2023-10-03 11:31:09,084] Trial 51 finished with value: 0.5915328467153285 and parameters: {'max_depth': 10, 'scale_pos_weight': 7.651686369456091, 'reg_lambda': 0.9371874893532784, 'reg_alpha': 0.0010185393010008535}. Best is trial 41 with value: 0.6154744525547445.\n"
          ]
        },
        {
          "output_type": "stream",
          "name": "stdout",
          "text": [
            "[LightGBM] [Warning] Accuracy may be bad since you didn't explicitly set num_leaves OR 2^max_depth > num_leaves. (num_leaves=31).\n",
            "[LightGBM] [Warning] Found whitespace in feature_names, replace with underlines\n",
            "[LightGBM] [Info] Number of positive: 7932, number of negative: 63304\n",
            "[LightGBM] [Warning] Auto-choosing row-wise multi-threading, the overhead of testing was 0.006175 seconds.\n",
            "You can set `force_row_wise=true` to remove the overhead.\n",
            "And if memory is not enough, you can set `force_col_wise=true`.\n",
            "[LightGBM] [Info] Total Bins 319\n",
            "[LightGBM] [Info] Number of data points in the train set: 71236, number of used features: 53\n",
            "[LightGBM] [Info] [binary:BoostFromScore]: pavg=0.111348 -> initscore=-2.077043\n",
            "[LightGBM] [Info] Start training from score -2.077043\n"
          ]
        },
        {
          "output_type": "stream",
          "name": "stderr",
          "text": [
            "[I 2023-10-03 11:31:09,756] Trial 52 finished with value: 0.604087591240876 and parameters: {'max_depth': 11, 'scale_pos_weight': 7.901791321478852, 'reg_lambda': 0.20654298926942996, 'reg_alpha': 0.00030735155089074164}. Best is trial 41 with value: 0.6154744525547445.\n"
          ]
        },
        {
          "output_type": "stream",
          "name": "stdout",
          "text": [
            "[LightGBM] [Warning] Found whitespace in feature_names, replace with underlines\n",
            "[LightGBM] [Info] Number of positive: 7932, number of negative: 63304\n",
            "[LightGBM] [Warning] Auto-choosing row-wise multi-threading, the overhead of testing was 0.005913 seconds.\n",
            "You can set `force_row_wise=true` to remove the overhead.\n",
            "And if memory is not enough, you can set `force_col_wise=true`.\n",
            "[LightGBM] [Info] Total Bins 319\n",
            "[LightGBM] [Info] Number of data points in the train set: 71236, number of used features: 53\n",
            "[LightGBM] [Info] [binary:BoostFromScore]: pavg=0.111348 -> initscore=-2.077043\n",
            "[LightGBM] [Info] Start training from score -2.077043\n"
          ]
        },
        {
          "output_type": "stream",
          "name": "stderr",
          "text": [
            "[I 2023-10-03 11:31:10,389] Trial 53 finished with value: 0.4762043795620438 and parameters: {'max_depth': 11, 'scale_pos_weight': 6.60706884260888, 'reg_lambda': 0.2646127762077629, 'reg_alpha': 0.00018272852694786414}. Best is trial 41 with value: 0.6154744525547445.\n"
          ]
        },
        {
          "output_type": "stream",
          "name": "stdout",
          "text": [
            "[LightGBM] [Warning] Found whitespace in feature_names, replace with underlines\n",
            "[LightGBM] [Info] Number of positive: 7932, number of negative: 63304\n",
            "[LightGBM] [Warning] Auto-choosing row-wise multi-threading, the overhead of testing was 0.006238 seconds.\n",
            "You can set `force_row_wise=true` to remove the overhead.\n",
            "And if memory is not enough, you can set `force_col_wise=true`.\n",
            "[LightGBM] [Info] Total Bins 319\n",
            "[LightGBM] [Info] Number of data points in the train set: 71236, number of used features: 53\n",
            "[LightGBM] [Info] [binary:BoostFromScore]: pavg=0.111348 -> initscore=-2.077043\n",
            "[LightGBM] [Info] Start training from score -2.077043\n"
          ]
        },
        {
          "output_type": "stream",
          "name": "stderr",
          "text": [
            "[I 2023-10-03 11:31:11,059] Trial 54 finished with value: 0.0 and parameters: {'max_depth': 11, 'scale_pos_weight': 8.398355627413132, 'reg_lambda': 0.01219325002861966, 'reg_alpha': 0.00032635745493888365}. Best is trial 41 with value: 0.6154744525547445.\n"
          ]
        },
        {
          "output_type": "stream",
          "name": "stdout",
          "text": [
            "[LightGBM] [Warning] Accuracy may be bad since you didn't explicitly set num_leaves OR 2^max_depth > num_leaves. (num_leaves=31).\n",
            "[LightGBM] [Warning] Found whitespace in feature_names, replace with underlines\n",
            "[LightGBM] [Warning] Accuracy may be bad since you didn't explicitly set num_leaves OR 2^max_depth > num_leaves. (num_leaves=31).\n",
            "[LightGBM] [Info] Number of positive: 7932, number of negative: 63304\n",
            "[LightGBM] [Warning] Auto-choosing row-wise multi-threading, the overhead of testing was 0.006601 seconds.\n",
            "You can set `force_row_wise=true` to remove the overhead.\n",
            "And if memory is not enough, you can set `force_col_wise=true`.\n",
            "[LightGBM] [Info] Total Bins 319\n",
            "[LightGBM] [Info] Number of data points in the train set: 71236, number of used features: 53\n",
            "[LightGBM] [Info] [binary:BoostFromScore]: pavg=0.111348 -> initscore=-2.077043\n",
            "[LightGBM] [Info] Start training from score -2.077043\n"
          ]
        },
        {
          "output_type": "stream",
          "name": "stderr",
          "text": [
            "[I 2023-10-03 11:31:11,723] Trial 55 finished with value: 0.0 and parameters: {'max_depth': 9, 'scale_pos_weight': 8.758007742311822, 'reg_lambda': 0.10060276715426268, 'reg_alpha': 4.120615901714219e-05}. Best is trial 41 with value: 0.6154744525547445.\n"
          ]
        },
        {
          "output_type": "stream",
          "name": "stdout",
          "text": [
            "[LightGBM] [Warning] Accuracy may be bad since you didn't explicitly set num_leaves OR 2^max_depth > num_leaves. (num_leaves=31).\n",
            "[LightGBM] [Warning] Accuracy may be bad since you didn't explicitly set num_leaves OR 2^max_depth > num_leaves. (num_leaves=31).\n",
            "[LightGBM] [Warning] Found whitespace in feature_names, replace with underlines\n",
            "[LightGBM] [Info] Number of positive: 7932, number of negative: 63304\n",
            "[LightGBM] [Warning] Auto-choosing row-wise multi-threading, the overhead of testing was 0.005860 seconds.\n",
            "You can set `force_row_wise=true` to remove the overhead.\n",
            "And if memory is not enough, you can set `force_col_wise=true`.\n",
            "[LightGBM] [Info] Total Bins 319\n",
            "[LightGBM] [Info] Number of data points in the train set: 71236, number of used features: 53\n",
            "[LightGBM] [Info] [binary:BoostFromScore]: pavg=0.111348 -> initscore=-2.077043\n",
            "[LightGBM] [Info] Start training from score -2.077043\n"
          ]
        },
        {
          "output_type": "stream",
          "name": "stderr",
          "text": [
            "[I 2023-10-03 11:31:12,387] Trial 56 finished with value: 0.0 and parameters: {'max_depth': 11, 'scale_pos_weight': 7.980855825115882, 'reg_lambda': 0.2464730676628332, 'reg_alpha': 9.292007726985918e-05}. Best is trial 41 with value: 0.6154744525547445.\n"
          ]
        },
        {
          "output_type": "stream",
          "name": "stdout",
          "text": [
            "[LightGBM] [Warning] Accuracy may be bad since you didn't explicitly set num_leaves OR 2^max_depth > num_leaves. (num_leaves=31).\n",
            "[LightGBM] [Warning] Found whitespace in feature_names, replace with underlines\n",
            "[LightGBM] [Warning] Accuracy may be bad since you didn't explicitly set num_leaves OR 2^max_depth > num_leaves. (num_leaves=31).\n",
            "[LightGBM] [Info] Number of positive: 7932, number of negative: 63304\n",
            "[LightGBM] [Warning] Auto-choosing row-wise multi-threading, the overhead of testing was 0.006641 seconds.\n",
            "You can set `force_row_wise=true` to remove the overhead.\n",
            "And if memory is not enough, you can set `force_col_wise=true`.\n",
            "[LightGBM] [Info] Total Bins 319\n",
            "[LightGBM] [Info] Number of data points in the train set: 71236, number of used features: 53\n",
            "[LightGBM] [Info] [binary:BoostFromScore]: pavg=0.111348 -> initscore=-2.077043\n",
            "[LightGBM] [Info] Start training from score -2.077043\n",
            "[LightGBM] [Warning] Accuracy may be bad since you didn't explicitly set num_leaves OR 2^max_depth > num_leaves. (num_leaves=31).\n",
            "[LightGBM] [Warning] Accuracy may be bad since you didn't explicitly set num_leaves OR 2^max_depth > num_leaves. (num_leaves=31).\n"
          ]
        },
        {
          "output_type": "stream",
          "name": "stderr",
          "text": [
            "[I 2023-10-03 11:31:13,344] Trial 57 finished with value: 0.5687591240875912 and parameters: {'max_depth': 10, 'scale_pos_weight': 7.4494729536595585, 'reg_lambda': 4.06516527740153, 'reg_alpha': 0.002508233307933831}. Best is trial 41 with value: 0.6154744525547445.\n"
          ]
        },
        {
          "output_type": "stream",
          "name": "stdout",
          "text": [
            "[LightGBM] [Warning] Found whitespace in feature_names, replace with underlines\n",
            "[LightGBM] [Info] Number of positive: 7932, number of negative: 63304\n",
            "[LightGBM] [Warning] Auto-choosing row-wise multi-threading, the overhead of testing was 0.006019 seconds.\n",
            "You can set `force_row_wise=true` to remove the overhead.\n",
            "And if memory is not enough, you can set `force_col_wise=true`.\n",
            "[LightGBM] [Info] Total Bins 319\n",
            "[LightGBM] [Info] Number of data points in the train set: 71236, number of used features: 53\n",
            "[LightGBM] [Info] [binary:BoostFromScore]: pavg=0.111348 -> initscore=-2.077043\n",
            "[LightGBM] [Info] Start training from score -2.077043\n",
            "[LightGBM] [Warning] No further splits with positive gain, best gain: -inf\n",
            "[LightGBM] [Warning] No further splits with positive gain, best gain: -inf\n",
            "[LightGBM] [Warning] No further splits with positive gain, best gain: -inf\n",
            "[LightGBM] [Warning] No further splits with positive gain, best gain: -inf\n"
          ]
        },
        {
          "output_type": "stream",
          "name": "stderr",
          "text": [
            "[I 2023-10-03 11:31:14,588] Trial 58 finished with value: 0.5632116788321168 and parameters: {'max_depth': 2, 'scale_pos_weight': 7.144842930336576, 'reg_lambda': 0.5502774295839646, 'reg_alpha': 0.0008236900453238108}. Best is trial 41 with value: 0.6154744525547445.\n"
          ]
        },
        {
          "output_type": "stream",
          "name": "stdout",
          "text": [
            "[LightGBM] [Warning] Accuracy may be bad since you didn't explicitly set num_leaves OR 2^max_depth > num_leaves. (num_leaves=31).\n",
            "[LightGBM] [Warning] Found whitespace in feature_names, replace with underlines\n",
            "[LightGBM] [Warning] Accuracy may be bad since you didn't explicitly set num_leaves OR 2^max_depth > num_leaves. (num_leaves=31).\n",
            "[LightGBM] [Info] Number of positive: 7932, number of negative: 63304\n",
            "[LightGBM] [Warning] Auto-choosing row-wise multi-threading, the overhead of testing was 0.011078 seconds.\n",
            "You can set `force_row_wise=true` to remove the overhead.\n",
            "And if memory is not enough, you can set `force_col_wise=true`.\n",
            "[LightGBM] [Info] Total Bins 319\n",
            "[LightGBM] [Info] Number of data points in the train set: 71236, number of used features: 53\n",
            "[LightGBM] [Info] [binary:BoostFromScore]: pavg=0.111348 -> initscore=-2.077043\n",
            "[LightGBM] [Info] Start training from score -2.077043\n",
            "[LightGBM] [Warning] Accuracy may be bad since you didn't explicitly set num_leaves OR 2^max_depth > num_leaves. (num_leaves=31).\n",
            "[LightGBM] [Warning] Accuracy may be bad since you didn't explicitly set num_leaves OR 2^max_depth > num_leaves. (num_leaves=31).\n"
          ]
        },
        {
          "output_type": "stream",
          "name": "stderr",
          "text": [
            "[I 2023-10-03 11:31:17,266] Trial 59 finished with value: 0.33985401459854014 and parameters: {'max_depth': 10, 'scale_pos_weight': 5.619298531296808, 'reg_lambda': 0.03349037743863412, 'reg_alpha': 0.0002871030361862076}. Best is trial 41 with value: 0.6154744525547445.\n"
          ]
        },
        {
          "output_type": "stream",
          "name": "stdout",
          "text": [
            "[LightGBM] [Warning] Accuracy may be bad since you didn't explicitly set num_leaves OR 2^max_depth > num_leaves. (num_leaves=31).\n",
            "[LightGBM] [Warning] Found whitespace in feature_names, replace with underlines\n",
            "[LightGBM] [Warning] Accuracy may be bad since you didn't explicitly set num_leaves OR 2^max_depth > num_leaves. (num_leaves=31).\n",
            "[LightGBM] [Info] Number of positive: 7932, number of negative: 63304\n",
            "[LightGBM] [Warning] Auto-choosing row-wise multi-threading, the overhead of testing was 0.007647 seconds.\n",
            "You can set `force_row_wise=true` to remove the overhead.\n",
            "And if memory is not enough, you can set `force_col_wise=true`.\n",
            "[LightGBM] [Info] Total Bins 319\n",
            "[LightGBM] [Info] Number of data points in the train set: 71236, number of used features: 53\n",
            "[LightGBM] [Info] [binary:BoostFromScore]: pavg=0.111348 -> initscore=-2.077043\n",
            "[LightGBM] [Info] Start training from score -2.077043\n",
            "[LightGBM] [Warning] No further splits with positive gain, best gain: -inf\n",
            "[LightGBM] [Warning] No further splits with positive gain, best gain: -inf\n",
            "[LightGBM] [Warning] Accuracy may be bad since you didn't explicitly set num_leaves OR 2^max_depth > num_leaves. (num_leaves=31).\n",
            "[LightGBM] [Warning] Accuracy may be bad since you didn't explicitly set num_leaves OR 2^max_depth > num_leaves. (num_leaves=31).\n"
          ]
        },
        {
          "output_type": "stream",
          "name": "stderr",
          "text": [
            "[I 2023-10-03 11:31:18,034] Trial 60 finished with value: 0.4691970802919708 and parameters: {'max_depth': 9, 'scale_pos_weight': 6.531626205316045, 'reg_lambda': 1.6417328355315755, 'reg_alpha': 1.9104334332541163e-05}. Best is trial 41 with value: 0.6154744525547445.\n"
          ]
        },
        {
          "output_type": "stream",
          "name": "stdout",
          "text": [
            "[LightGBM] [Warning] Accuracy may be bad since you didn't explicitly set num_leaves OR 2^max_depth > num_leaves. (num_leaves=31).\n",
            "[LightGBM] [Warning] Found whitespace in feature_names, replace with underlines\n",
            "[LightGBM] [Warning] Accuracy may be bad since you didn't explicitly set num_leaves OR 2^max_depth > num_leaves. (num_leaves=31).\n",
            "[LightGBM] [Info] Number of positive: 7932, number of negative: 63304\n",
            "[LightGBM] [Warning] Auto-choosing row-wise multi-threading, the overhead of testing was 0.006468 seconds.\n",
            "You can set `force_row_wise=true` to remove the overhead.\n",
            "And if memory is not enough, you can set `force_col_wise=true`.\n",
            "[LightGBM] [Info] Total Bins 319\n",
            "[LightGBM] [Info] Number of data points in the train set: 71236, number of used features: 53\n",
            "[LightGBM] [Info] [binary:BoostFromScore]: pavg=0.111348 -> initscore=-2.077043\n",
            "[LightGBM] [Info] Start training from score -2.077043\n",
            "[LightGBM] [Warning] Accuracy may be bad since you didn't explicitly set num_leaves OR 2^max_depth > num_leaves. (num_leaves=31).\n",
            "[LightGBM] [Warning] Accuracy may be bad since you didn't explicitly set num_leaves OR 2^max_depth > num_leaves. (num_leaves=31).\n"
          ]
        },
        {
          "output_type": "stream",
          "name": "stderr",
          "text": [
            "[I 2023-10-03 11:31:18,819] Trial 61 finished with value: 0.5982481751824817 and parameters: {'max_depth': 10, 'scale_pos_weight': 7.824631769566554, 'reg_lambda': 0.8175700858825345, 'reg_alpha': 0.0012170915768700108}. Best is trial 41 with value: 0.6154744525547445.\n"
          ]
        },
        {
          "output_type": "stream",
          "name": "stdout",
          "text": [
            "[LightGBM] [Warning] Accuracy may be bad since you didn't explicitly set num_leaves OR 2^max_depth > num_leaves. (num_leaves=31).\n",
            "[LightGBM] [Warning] Found whitespace in feature_names, replace with underlines\n",
            "[LightGBM] [Warning] Accuracy may be bad since you didn't explicitly set num_leaves OR 2^max_depth > num_leaves. (num_leaves=31).\n",
            "[LightGBM] [Info] Number of positive: 7932, number of negative: 63304\n",
            "[LightGBM] [Warning] Auto-choosing row-wise multi-threading, the overhead of testing was 0.007870 seconds.\n",
            "You can set `force_row_wise=true` to remove the overhead.\n",
            "And if memory is not enough, you can set `force_col_wise=true`.\n",
            "[LightGBM] [Info] Total Bins 319\n",
            "[LightGBM] [Info] Number of data points in the train set: 71236, number of used features: 53\n",
            "[LightGBM] [Info] [binary:BoostFromScore]: pavg=0.111348 -> initscore=-2.077043\n",
            "[LightGBM] [Info] Start training from score -2.077043\n",
            "[LightGBM] [Warning] Accuracy may be bad since you didn't explicitly set num_leaves OR 2^max_depth > num_leaves. (num_leaves=31).\n",
            "[LightGBM] [Warning] Accuracy may be bad since you didn't explicitly set num_leaves OR 2^max_depth > num_leaves. (num_leaves=31).\n"
          ]
        },
        {
          "output_type": "stream",
          "name": "stderr",
          "text": [
            "[I 2023-10-03 11:31:20,084] Trial 62 finished with value: 0.6014598540145986 and parameters: {'max_depth': 10, 'scale_pos_weight': 7.867999273862871, 'reg_lambda': 0.13319073912231114, 'reg_alpha': 0.003997181585792564}. Best is trial 41 with value: 0.6154744525547445.\n"
          ]
        },
        {
          "output_type": "stream",
          "name": "stdout",
          "text": [
            "[LightGBM] [Warning] Found whitespace in feature_names, replace with underlines\n",
            "[LightGBM] [Info] Number of positive: 7932, number of negative: 63304\n",
            "[LightGBM] [Warning] Auto-choosing row-wise multi-threading, the overhead of testing was 0.006372 seconds.\n",
            "You can set `force_row_wise=true` to remove the overhead.\n",
            "And if memory is not enough, you can set `force_col_wise=true`.\n",
            "[LightGBM] [Info] Total Bins 319\n",
            "[LightGBM] [Info] Number of data points in the train set: 71236, number of used features: 53\n",
            "[LightGBM] [Info] [binary:BoostFromScore]: pavg=0.111348 -> initscore=-2.077043\n",
            "[LightGBM] [Info] Start training from score -2.077043\n"
          ]
        },
        {
          "output_type": "stream",
          "name": "stderr",
          "text": [
            "[I 2023-10-03 11:31:20,847] Trial 63 finished with value: 0.0 and parameters: {'max_depth': 11, 'scale_pos_weight': 8.653678383948467, 'reg_lambda': 0.09611726127653285, 'reg_alpha': 0.0046547588058868895}. Best is trial 41 with value: 0.6154744525547445.\n"
          ]
        },
        {
          "output_type": "stream",
          "name": "stdout",
          "text": [
            "[LightGBM] [Warning] Found whitespace in feature_names, replace with underlines\n",
            "[LightGBM] [Info] Number of positive: 7932, number of negative: 63304\n",
            "[LightGBM] [Warning] Auto-choosing row-wise multi-threading, the overhead of testing was 0.006449 seconds.\n",
            "You can set `force_row_wise=true` to remove the overhead.\n",
            "And if memory is not enough, you can set `force_col_wise=true`.\n",
            "[LightGBM] [Info] Total Bins 319\n",
            "[LightGBM] [Info] Number of data points in the train set: 71236, number of used features: 53\n",
            "[LightGBM] [Info] [binary:BoostFromScore]: pavg=0.111348 -> initscore=-2.077043\n",
            "[LightGBM] [Info] Start training from score -2.077043\n"
          ]
        },
        {
          "output_type": "stream",
          "name": "stderr",
          "text": [
            "[I 2023-10-03 11:31:21,566] Trial 64 finished with value: 0.0 and parameters: {'max_depth': 11, 'scale_pos_weight': 8.168391452185482, 'reg_lambda': 0.19701316144727335, 'reg_alpha': 0.00013534314640187053}. Best is trial 41 with value: 0.6154744525547445.\n"
          ]
        },
        {
          "output_type": "stream",
          "name": "stdout",
          "text": [
            "[LightGBM] [Warning] Accuracy may be bad since you didn't explicitly set num_leaves OR 2^max_depth > num_leaves. (num_leaves=31).\n",
            "[LightGBM] [Warning] Found whitespace in feature_names, replace with underlines\n",
            "[LightGBM] [Warning] Accuracy may be bad since you didn't explicitly set num_leaves OR 2^max_depth > num_leaves. (num_leaves=31).\n",
            "[LightGBM] [Info] Number of positive: 7932, number of negative: 63304\n",
            "[LightGBM] [Warning] Auto-choosing row-wise multi-threading, the overhead of testing was 0.031954 seconds.\n",
            "You can set `force_row_wise=true` to remove the overhead.\n",
            "And if memory is not enough, you can set `force_col_wise=true`.\n",
            "[LightGBM] [Info] Total Bins 319\n",
            "[LightGBM] [Info] Number of data points in the train set: 71236, number of used features: 53\n",
            "[LightGBM] [Info] [binary:BoostFromScore]: pavg=0.111348 -> initscore=-2.077043\n",
            "[LightGBM] [Info] Start training from score -2.077043\n"
          ]
        },
        {
          "output_type": "stream",
          "name": "stderr",
          "text": [
            "[I 2023-10-03 11:31:22,395] Trial 65 finished with value: 0.5605839416058395 and parameters: {'max_depth': 10, 'scale_pos_weight': 7.3271151087457875, 'reg_lambda': 0.018786434220302028, 'reg_alpha': 0.0003868890167129254}. Best is trial 41 with value: 0.6154744525547445.\n"
          ]
        },
        {
          "output_type": "stream",
          "name": "stdout",
          "text": [
            "[LightGBM] [Warning] Accuracy may be bad since you didn't explicitly set num_leaves OR 2^max_depth > num_leaves. (num_leaves=31).\n",
            "[LightGBM] [Warning] Accuracy may be bad since you didn't explicitly set num_leaves OR 2^max_depth > num_leaves. (num_leaves=31).\n",
            "[LightGBM] [Warning] Accuracy may be bad since you didn't explicitly set num_leaves OR 2^max_depth > num_leaves. (num_leaves=31).\n",
            "[LightGBM] [Warning] Found whitespace in feature_names, replace with underlines\n",
            "[LightGBM] [Warning] Accuracy may be bad since you didn't explicitly set num_leaves OR 2^max_depth > num_leaves. (num_leaves=31).\n",
            "[LightGBM] [Info] Number of positive: 7932, number of negative: 63304\n",
            "[LightGBM] [Warning] Auto-choosing row-wise multi-threading, the overhead of testing was 0.008045 seconds.\n",
            "You can set `force_row_wise=true` to remove the overhead.\n",
            "And if memory is not enough, you can set `force_col_wise=true`.\n",
            "[LightGBM] [Info] Total Bins 319\n",
            "[LightGBM] [Info] Number of data points in the train set: 71236, number of used features: 53\n",
            "[LightGBM] [Info] [binary:BoostFromScore]: pavg=0.111348 -> initscore=-2.077043\n",
            "[LightGBM] [Info] Start training from score -2.077043\n",
            "[LightGBM] [Warning] No further splits with positive gain, best gain: -inf\n",
            "[LightGBM] [Warning] No further splits with positive gain, best gain: -inf\n",
            "[LightGBM] [Warning] No further splits with positive gain, best gain: -inf\n",
            "[LightGBM] [Warning] Accuracy may be bad since you didn't explicitly set num_leaves OR 2^max_depth > num_leaves. (num_leaves=31).\n"
          ]
        },
        {
          "output_type": "stream",
          "name": "stderr",
          "text": [
            "[I 2023-10-03 11:31:23,506] Trial 66 finished with value: 0.0 and parameters: {'max_depth': 8, 'scale_pos_weight': 9.145156481984149, 'reg_lambda': 0.39069709409748504, 'reg_alpha': 0.023410120649334613}. Best is trial 41 with value: 0.6154744525547445.\n"
          ]
        },
        {
          "output_type": "stream",
          "name": "stdout",
          "text": [
            "[LightGBM] [Warning] Accuracy may be bad since you didn't explicitly set num_leaves OR 2^max_depth > num_leaves. (num_leaves=31).\n",
            "[LightGBM] [Warning] Found whitespace in feature_names, replace with underlines\n",
            "[LightGBM] [Info] Number of positive: 7932, number of negative: 63304\n",
            "[LightGBM] [Warning] Auto-choosing row-wise multi-threading, the overhead of testing was 0.007407 seconds.\n",
            "You can set `force_row_wise=true` to remove the overhead.\n",
            "And if memory is not enough, you can set `force_col_wise=true`.\n",
            "[LightGBM] [Info] Total Bins 319\n",
            "[LightGBM] [Info] Number of data points in the train set: 71236, number of used features: 53\n",
            "[LightGBM] [Info] [binary:BoostFromScore]: pavg=0.111348 -> initscore=-2.077043\n",
            "[LightGBM] [Info] Start training from score -2.077043\n"
          ]
        },
        {
          "output_type": "stream",
          "name": "stderr",
          "text": [
            "[I 2023-10-03 11:31:24,260] Trial 67 finished with value: 0.5086131386861313 and parameters: {'max_depth': 11, 'scale_pos_weight': 6.871516434261479, 'reg_lambda': 0.054559201928517466, 'reg_alpha': 3.443319312793974e-05}. Best is trial 41 with value: 0.6154744525547445.\n"
          ]
        },
        {
          "output_type": "stream",
          "name": "stdout",
          "text": [
            "[LightGBM] [Warning] Accuracy may be bad since you didn't explicitly set num_leaves OR 2^max_depth > num_leaves. (num_leaves=31).\n",
            "[LightGBM] [Warning] Found whitespace in feature_names, replace with underlines\n",
            "[LightGBM] [Warning] Accuracy may be bad since you didn't explicitly set num_leaves OR 2^max_depth > num_leaves. (num_leaves=31).\n",
            "[LightGBM] [Info] Number of positive: 7932, number of negative: 63304\n",
            "[LightGBM] [Warning] Auto-choosing row-wise multi-threading, the overhead of testing was 0.008145 seconds.\n",
            "You can set `force_row_wise=true` to remove the overhead.\n",
            "And if memory is not enough, you can set `force_col_wise=true`.\n",
            "[LightGBM] [Info] Total Bins 319\n",
            "[LightGBM] [Info] Number of data points in the train set: 71236, number of used features: 53\n",
            "[LightGBM] [Info] [binary:BoostFromScore]: pavg=0.111348 -> initscore=-2.077043\n",
            "[LightGBM] [Info] Start training from score -2.077043\n"
          ]
        },
        {
          "output_type": "stream",
          "name": "stderr",
          "text": [
            "[I 2023-10-03 11:31:25,186] Trial 68 finished with value: 0.6008759124087591 and parameters: {'max_depth': 10, 'scale_pos_weight': 7.717638950074808, 'reg_lambda': 1.8736586439700451, 'reg_alpha': 6.837879073468386e-05}. Best is trial 41 with value: 0.6154744525547445.\n"
          ]
        },
        {
          "output_type": "stream",
          "name": "stdout",
          "text": [
            "[LightGBM] [Warning] Accuracy may be bad since you didn't explicitly set num_leaves OR 2^max_depth > num_leaves. (num_leaves=31).\n",
            "[LightGBM] [Warning] Accuracy may be bad since you didn't explicitly set num_leaves OR 2^max_depth > num_leaves. (num_leaves=31).\n",
            "[LightGBM] [Warning] Accuracy may be bad since you didn't explicitly set num_leaves OR 2^max_depth > num_leaves. (num_leaves=31).\n",
            "[LightGBM] [Warning] Found whitespace in feature_names, replace with underlines\n",
            "[LightGBM] [Warning] Accuracy may be bad since you didn't explicitly set num_leaves OR 2^max_depth > num_leaves. (num_leaves=31).\n",
            "[LightGBM] [Info] Number of positive: 7932, number of negative: 63304\n",
            "[LightGBM] [Warning] Auto-choosing row-wise multi-threading, the overhead of testing was 0.006752 seconds.\n",
            "You can set `force_row_wise=true` to remove the overhead.\n",
            "And if memory is not enough, you can set `force_col_wise=true`.\n",
            "[LightGBM] [Info] Total Bins 319\n",
            "[LightGBM] [Info] Number of data points in the train set: 71236, number of used features: 53\n",
            "[LightGBM] [Info] [binary:BoostFromScore]: pavg=0.111348 -> initscore=-2.077043\n",
            "[LightGBM] [Info] Start training from score -2.077043\n",
            "[LightGBM] [Warning] No further splits with positive gain, best gain: -inf\n",
            "[LightGBM] [Warning] Accuracy may be bad since you didn't explicitly set num_leaves OR 2^max_depth > num_leaves. (num_leaves=31).\n",
            "[LightGBM] [Warning] Accuracy may be bad since you didn't explicitly set num_leaves OR 2^max_depth > num_leaves. (num_leaves=31).\n"
          ]
        },
        {
          "output_type": "stream",
          "name": "stderr",
          "text": [
            "[I 2023-10-03 11:31:25,834] Trial 69 finished with value: 0.0 and parameters: {'max_depth': 9, 'scale_pos_weight': 8.54883170674196, 'reg_lambda': 0.11328191615429135, 'reg_alpha': 0.0006385767939315269}. Best is trial 41 with value: 0.6154744525547445.\n"
          ]
        },
        {
          "output_type": "stream",
          "name": "stdout",
          "text": [
            "[LightGBM] [Warning] Accuracy may be bad since you didn't explicitly set num_leaves OR 2^max_depth > num_leaves. (num_leaves=31).\n",
            "[LightGBM] [Warning] Found whitespace in feature_names, replace with underlines\n",
            "[LightGBM] [Warning] Accuracy may be bad since you didn't explicitly set num_leaves OR 2^max_depth > num_leaves. (num_leaves=31).\n",
            "[LightGBM] [Info] Number of positive: 7932, number of negative: 63304\n",
            "[LightGBM] [Warning] Auto-choosing row-wise multi-threading, the overhead of testing was 0.005593 seconds.\n",
            "You can set `force_row_wise=true` to remove the overhead.\n",
            "And if memory is not enough, you can set `force_col_wise=true`.\n",
            "[LightGBM] [Info] Total Bins 319\n",
            "[LightGBM] [Info] Number of data points in the train set: 71236, number of used features: 53\n",
            "[LightGBM] [Info] [binary:BoostFromScore]: pavg=0.111348 -> initscore=-2.077043\n",
            "[LightGBM] [Info] Start training from score -2.077043\n"
          ]
        },
        {
          "output_type": "stream",
          "name": "stderr",
          "text": [
            "[I 2023-10-03 11:31:26,502] Trial 70 finished with value: 0.0 and parameters: {'max_depth': 10, 'scale_pos_weight': 9.616990788324213, 'reg_lambda': 0.5772346323233838, 'reg_alpha': 0.0025463766297841935}. Best is trial 41 with value: 0.6154744525547445.\n"
          ]
        },
        {
          "output_type": "stream",
          "name": "stdout",
          "text": [
            "[LightGBM] [Warning] Accuracy may be bad since you didn't explicitly set num_leaves OR 2^max_depth > num_leaves. (num_leaves=31).\n",
            "[LightGBM] [Warning] Accuracy may be bad since you didn't explicitly set num_leaves OR 2^max_depth > num_leaves. (num_leaves=31).\n",
            "[LightGBM] [Warning] Accuracy may be bad since you didn't explicitly set num_leaves OR 2^max_depth > num_leaves. (num_leaves=31).\n",
            "[LightGBM] [Warning] Found whitespace in feature_names, replace with underlines\n",
            "[LightGBM] [Warning] Accuracy may be bad since you didn't explicitly set num_leaves OR 2^max_depth > num_leaves. (num_leaves=31).\n",
            "[LightGBM] [Info] Number of positive: 7932, number of negative: 63304\n",
            "[LightGBM] [Warning] Auto-choosing row-wise multi-threading, the overhead of testing was 0.006439 seconds.\n",
            "You can set `force_row_wise=true` to remove the overhead.\n",
            "And if memory is not enough, you can set `force_col_wise=true`.\n",
            "[LightGBM] [Info] Total Bins 319\n",
            "[LightGBM] [Info] Number of data points in the train set: 71236, number of used features: 53\n",
            "[LightGBM] [Info] [binary:BoostFromScore]: pavg=0.111348 -> initscore=-2.077043\n",
            "[LightGBM] [Info] Start training from score -2.077043\n",
            "[LightGBM] [Warning] Accuracy may be bad since you didn't explicitly set num_leaves OR 2^max_depth > num_leaves. (num_leaves=31).\n",
            "[LightGBM] [Warning] Accuracy may be bad since you didn't explicitly set num_leaves OR 2^max_depth > num_leaves. (num_leaves=31).\n"
          ]
        },
        {
          "output_type": "stream",
          "name": "stderr",
          "text": [
            "[I 2023-10-03 11:31:27,182] Trial 71 finished with value: 0.6055474452554744 and parameters: {'max_depth': 10, 'scale_pos_weight': 7.795480028078215, 'reg_lambda': 2.62753175513866, 'reg_alpha': 7.351383269272804e-05}. Best is trial 41 with value: 0.6154744525547445.\n"
          ]
        },
        {
          "output_type": "stream",
          "name": "stdout",
          "text": [
            "[LightGBM] [Warning] Accuracy may be bad since you didn't explicitly set num_leaves OR 2^max_depth > num_leaves. (num_leaves=31).\n",
            "[LightGBM] [Warning] Found whitespace in feature_names, replace with underlines\n",
            "[LightGBM] [Warning] Accuracy may be bad since you didn't explicitly set num_leaves OR 2^max_depth > num_leaves. (num_leaves=31).\n",
            "[LightGBM] [Info] Number of positive: 7932, number of negative: 63304\n",
            "[LightGBM] [Warning] Auto-choosing row-wise multi-threading, the overhead of testing was 0.005881 seconds.\n",
            "You can set `force_row_wise=true` to remove the overhead.\n",
            "And if memory is not enough, you can set `force_col_wise=true`.\n",
            "[LightGBM] [Info] Total Bins 319\n",
            "[LightGBM] [Info] Number of data points in the train set: 71236, number of used features: 53\n",
            "[LightGBM] [Info] [binary:BoostFromScore]: pavg=0.111348 -> initscore=-2.077043\n",
            "[LightGBM] [Info] Start training from score -2.077043\n"
          ]
        },
        {
          "output_type": "stream",
          "name": "stderr",
          "text": [
            "[I 2023-10-03 11:31:27,853] Trial 72 finished with value: 0.0 and parameters: {'max_depth': 10, 'scale_pos_weight': 8.066378055337982, 'reg_lambda': 2.6605945997262896, 'reg_alpha': 0.00016717992165914038}. Best is trial 41 with value: 0.6154744525547445.\n"
          ]
        },
        {
          "output_type": "stream",
          "name": "stdout",
          "text": [
            "[LightGBM] [Warning] Accuracy may be bad since you didn't explicitly set num_leaves OR 2^max_depth > num_leaves. (num_leaves=31).\n",
            "[LightGBM] [Warning] Accuracy may be bad since you didn't explicitly set num_leaves OR 2^max_depth > num_leaves. (num_leaves=31).\n",
            "[LightGBM] [Warning] Found whitespace in feature_names, replace with underlines\n",
            "[LightGBM] [Info] Number of positive: 7932, number of negative: 63304\n",
            "[LightGBM] [Warning] Auto-choosing row-wise multi-threading, the overhead of testing was 0.006000 seconds.\n",
            "You can set `force_row_wise=true` to remove the overhead.\n",
            "And if memory is not enough, you can set `force_col_wise=true`.\n",
            "[LightGBM] [Info] Total Bins 319\n",
            "[LightGBM] [Info] Number of data points in the train set: 71236, number of used features: 53\n",
            "[LightGBM] [Info] [binary:BoostFromScore]: pavg=0.111348 -> initscore=-2.077043\n",
            "[LightGBM] [Info] Start training from score -2.077043\n"
          ]
        },
        {
          "output_type": "stream",
          "name": "stderr",
          "text": [
            "[I 2023-10-03 11:31:28,545] Trial 73 finished with value: 0.0 and parameters: {'max_depth': 11, 'scale_pos_weight': 8.964855095343657, 'reg_lambda': 5.617292350499451, 'reg_alpha': 7.105574090774774e-06}. Best is trial 41 with value: 0.6154744525547445.\n"
          ]
        },
        {
          "output_type": "stream",
          "name": "stdout",
          "text": [
            "[LightGBM] [Warning] Accuracy may be bad since you didn't explicitly set num_leaves OR 2^max_depth > num_leaves. (num_leaves=31).\n",
            "[LightGBM] [Warning] Found whitespace in feature_names, replace with underlines\n",
            "[LightGBM] [Warning] Accuracy may be bad since you didn't explicitly set num_leaves OR 2^max_depth > num_leaves. (num_leaves=31).\n",
            "[LightGBM] [Info] Number of positive: 7932, number of negative: 63304\n",
            "[LightGBM] [Warning] Auto-choosing row-wise multi-threading, the overhead of testing was 0.006169 seconds.\n",
            "You can set `force_row_wise=true` to remove the overhead.\n",
            "And if memory is not enough, you can set `force_col_wise=true`.\n",
            "[LightGBM] [Info] Total Bins 319\n",
            "[LightGBM] [Info] Number of data points in the train set: 71236, number of used features: 53\n",
            "[LightGBM] [Info] [binary:BoostFromScore]: pavg=0.111348 -> initscore=-2.077043\n",
            "[LightGBM] [Info] Start training from score -2.077043\n",
            "[LightGBM] [Warning] Accuracy may be bad since you didn't explicitly set num_leaves OR 2^max_depth > num_leaves. (num_leaves=31).\n",
            "[LightGBM] [Warning] Accuracy may be bad since you didn't explicitly set num_leaves OR 2^max_depth > num_leaves. (num_leaves=31).\n"
          ]
        },
        {
          "output_type": "stream",
          "name": "stderr",
          "text": [
            "[I 2023-10-03 11:31:30,435] Trial 74 finished with value: 0.5620437956204379 and parameters: {'max_depth': 9, 'scale_pos_weight': 7.460479651672464, 'reg_lambda': 1.267417027574727, 'reg_alpha': 6.323028580447011e-05}. Best is trial 41 with value: 0.6154744525547445.\n"
          ]
        },
        {
          "output_type": "stream",
          "name": "stdout",
          "text": [
            "[LightGBM] [Warning] Found whitespace in feature_names, replace with underlines\n",
            "[LightGBM] [Info] Number of positive: 7932, number of negative: 63304\n",
            "[LightGBM] [Warning] Auto-choosing row-wise multi-threading, the overhead of testing was 0.006086 seconds.\n",
            "You can set `force_row_wise=true` to remove the overhead.\n",
            "And if memory is not enough, you can set `force_col_wise=true`.\n",
            "[LightGBM] [Info] Total Bins 319\n",
            "[LightGBM] [Info] Number of data points in the train set: 71236, number of used features: 53\n",
            "[LightGBM] [Info] [binary:BoostFromScore]: pavg=0.111348 -> initscore=-2.077043\n",
            "[LightGBM] [Info] Start training from score -2.077043\n"
          ]
        },
        {
          "output_type": "stream",
          "name": "stderr",
          "text": [
            "[I 2023-10-03 11:31:31,310] Trial 75 finished with value: 0.0 and parameters: {'max_depth': 11, 'scale_pos_weight': 8.433310044549069, 'reg_lambda': 0.23380293091417786, 'reg_alpha': 1.9308843762136446e-05}. Best is trial 41 with value: 0.6154744525547445.\n"
          ]
        },
        {
          "output_type": "stream",
          "name": "stdout",
          "text": [
            "[LightGBM] [Warning] Accuracy may be bad since you didn't explicitly set num_leaves OR 2^max_depth > num_leaves. (num_leaves=31).\n",
            "[LightGBM] [Warning] Found whitespace in feature_names, replace with underlines\n",
            "[LightGBM] [Warning] Accuracy may be bad since you didn't explicitly set num_leaves OR 2^max_depth > num_leaves. (num_leaves=31).\n",
            "[LightGBM] [Info] Number of positive: 7932, number of negative: 63304\n",
            "[LightGBM] [Warning] Auto-choosing row-wise multi-threading, the overhead of testing was 0.005569 seconds.\n",
            "You can set `force_row_wise=true` to remove the overhead.\n",
            "And if memory is not enough, you can set `force_col_wise=true`.\n",
            "[LightGBM] [Info] Total Bins 319\n",
            "[LightGBM] [Info] Number of data points in the train set: 71236, number of used features: 53\n",
            "[LightGBM] [Info] [binary:BoostFromScore]: pavg=0.111348 -> initscore=-2.077043\n",
            "[LightGBM] [Info] Start training from score -2.077043\n",
            "[LightGBM] [Warning] No further splits with positive gain, best gain: -inf\n",
            "[LightGBM] [Warning] No further splits with positive gain, best gain: -inf\n",
            "[LightGBM] [Warning] Accuracy may be bad since you didn't explicitly set num_leaves OR 2^max_depth > num_leaves. (num_leaves=31).\n",
            "[LightGBM] [Warning] Accuracy may be bad since you didn't explicitly set num_leaves OR 2^max_depth > num_leaves. (num_leaves=31).\n"
          ]
        },
        {
          "output_type": "stream",
          "name": "stderr",
          "text": [
            "[I 2023-10-03 11:31:31,964] Trial 76 finished with value: 0.6052554744525548 and parameters: {'max_depth': 9, 'scale_pos_weight': 7.839164858229969, 'reg_lambda': 0.7990193520708064, 'reg_alpha': 0.00021655758070583282}. Best is trial 41 with value: 0.6154744525547445.\n"
          ]
        },
        {
          "output_type": "stream",
          "name": "stdout",
          "text": [
            "[LightGBM] [Warning] Accuracy may be bad since you didn't explicitly set num_leaves OR 2^max_depth > num_leaves. (num_leaves=31).\n",
            "[LightGBM] [Warning] Found whitespace in feature_names, replace with underlines\n",
            "[LightGBM] [Warning] Accuracy may be bad since you didn't explicitly set num_leaves OR 2^max_depth > num_leaves. (num_leaves=31).\n",
            "[LightGBM] [Info] Number of positive: 7932, number of negative: 63304\n",
            "[LightGBM] [Warning] Auto-choosing row-wise multi-threading, the overhead of testing was 0.005502 seconds.\n",
            "You can set `force_row_wise=true` to remove the overhead.\n",
            "And if memory is not enough, you can set `force_col_wise=true`.\n",
            "[LightGBM] [Info] Total Bins 319\n",
            "[LightGBM] [Info] Number of data points in the train set: 71236, number of used features: 53\n",
            "[LightGBM] [Info] [binary:BoostFromScore]: pavg=0.111348 -> initscore=-2.077043\n",
            "[LightGBM] [Info] Start training from score -2.077043\n",
            "[LightGBM] [Warning] No further splits with positive gain, best gain: -inf\n",
            "[LightGBM] [Warning] Accuracy may be bad since you didn't explicitly set num_leaves OR 2^max_depth > num_leaves. (num_leaves=31).\n",
            "[LightGBM] [Warning] Accuracy may be bad since you didn't explicitly set num_leaves OR 2^max_depth > num_leaves. (num_leaves=31).\n"
          ]
        },
        {
          "output_type": "stream",
          "name": "stderr",
          "text": [
            "[I 2023-10-03 11:31:32,647] Trial 77 finished with value: 0.5194160583941606 and parameters: {'max_depth': 9, 'scale_pos_weight': 6.9276410860606905, 'reg_lambda': 0.9801414150945221, 'reg_alpha': 0.00023863133334491772}. Best is trial 41 with value: 0.6154744525547445.\n"
          ]
        },
        {
          "output_type": "stream",
          "name": "stdout",
          "text": [
            "[LightGBM] [Warning] Accuracy may be bad since you didn't explicitly set num_leaves OR 2^max_depth > num_leaves. (num_leaves=31).\n",
            "[LightGBM] [Warning] Found whitespace in feature_names, replace with underlines\n",
            "[LightGBM] [Warning] Accuracy may be bad since you didn't explicitly set num_leaves OR 2^max_depth > num_leaves. (num_leaves=31).\n",
            "[LightGBM] [Info] Number of positive: 7932, number of negative: 63304\n",
            "[LightGBM] [Warning] Auto-choosing row-wise multi-threading, the overhead of testing was 0.005645 seconds.\n",
            "You can set `force_row_wise=true` to remove the overhead.\n",
            "And if memory is not enough, you can set `force_col_wise=true`.\n",
            "[LightGBM] [Info] Total Bins 319\n",
            "[LightGBM] [Info] Number of data points in the train set: 71236, number of used features: 53\n",
            "[LightGBM] [Info] [binary:BoostFromScore]: pavg=0.111348 -> initscore=-2.077043\n",
            "[LightGBM] [Info] Start training from score -2.077043\n",
            "[LightGBM] [Warning] Accuracy may be bad since you didn't explicitly set num_leaves OR 2^max_depth > num_leaves. (num_leaves=31).\n",
            "[LightGBM] [Warning] Accuracy may be bad since you didn't explicitly set num_leaves OR 2^max_depth > num_leaves. (num_leaves=31).\n"
          ]
        },
        {
          "output_type": "stream",
          "name": "stderr",
          "text": [
            "[I 2023-10-03 11:31:33,591] Trial 78 finished with value: 0.574014598540146 and parameters: {'max_depth': 10, 'scale_pos_weight': 7.481294008504661, 'reg_lambda': 2.884513370868218, 'reg_alpha': 0.00012496953714717958}. Best is trial 41 with value: 0.6154744525547445.\n"
          ]
        },
        {
          "output_type": "stream",
          "name": "stdout",
          "text": [
            "[LightGBM] [Warning] Found whitespace in feature_names, replace with underlines\n",
            "[LightGBM] [Info] Number of positive: 7932, number of negative: 63304\n",
            "[LightGBM] [Warning] Auto-choosing row-wise multi-threading, the overhead of testing was 0.073955 seconds.\n",
            "You can set `force_row_wise=true` to remove the overhead.\n",
            "And if memory is not enough, you can set `force_col_wise=true`.\n",
            "[LightGBM] [Info] Total Bins 319\n",
            "[LightGBM] [Info] Number of data points in the train set: 71236, number of used features: 53\n",
            "[LightGBM] [Info] [binary:BoostFromScore]: pavg=0.111348 -> initscore=-2.077043\n",
            "[LightGBM] [Info] Start training from score -2.077043\n"
          ]
        },
        {
          "output_type": "stream",
          "name": "stderr",
          "text": [
            "[I 2023-10-03 11:31:34,921] Trial 79 finished with value: 0.0 and parameters: {'max_depth': 11, 'scale_pos_weight': 8.230362925966384, 'reg_lambda': 5.631942116278893, 'reg_alpha': 3.9645876413158894e-05}. Best is trial 41 with value: 0.6154744525547445.\n"
          ]
        },
        {
          "output_type": "stream",
          "name": "stdout",
          "text": [
            "[LightGBM] [Warning] Accuracy may be bad since you didn't explicitly set num_leaves OR 2^max_depth > num_leaves. (num_leaves=31).\n",
            "[LightGBM] [Warning] Found whitespace in feature_names, replace with underlines\n",
            "[LightGBM] [Warning] Accuracy may be bad since you didn't explicitly set num_leaves OR 2^max_depth > num_leaves. (num_leaves=31).\n",
            "[LightGBM] [Info] Number of positive: 7932, number of negative: 63304\n",
            "[LightGBM] [Warning] Auto-choosing row-wise multi-threading, the overhead of testing was 0.005757 seconds.\n",
            "You can set `force_row_wise=true` to remove the overhead.\n",
            "And if memory is not enough, you can set `force_col_wise=true`.\n",
            "[LightGBM] [Info] Total Bins 319\n",
            "[LightGBM] [Info] Number of data points in the train set: 71236, number of used features: 53\n",
            "[LightGBM] [Info] [binary:BoostFromScore]: pavg=0.111348 -> initscore=-2.077043\n",
            "[LightGBM] [Info] Start training from score -2.077043\n",
            "[LightGBM] [Warning] Accuracy may be bad since you didn't explicitly set num_leaves OR 2^max_depth > num_leaves. (num_leaves=31).\n",
            "[LightGBM] [Warning] Accuracy may be bad since you didn't explicitly set num_leaves OR 2^max_depth > num_leaves. (num_leaves=31).\n"
          ]
        },
        {
          "output_type": "stream",
          "name": "stderr",
          "text": [
            "[I 2023-10-03 11:31:35,704] Trial 80 finished with value: 0.0 and parameters: {'max_depth': 10, 'scale_pos_weight': 8.89648472340216, 'reg_lambda': 0.36759650314535486, 'reg_alpha': 0.0004616503578698285}. Best is trial 41 with value: 0.6154744525547445.\n"
          ]
        },
        {
          "output_type": "stream",
          "name": "stdout",
          "text": [
            "[LightGBM] [Warning] Accuracy may be bad since you didn't explicitly set num_leaves OR 2^max_depth > num_leaves. (num_leaves=31).\n",
            "[LightGBM] [Warning] Found whitespace in feature_names, replace with underlines\n",
            "[LightGBM] [Warning] Accuracy may be bad since you didn't explicitly set num_leaves OR 2^max_depth > num_leaves. (num_leaves=31).\n",
            "[LightGBM] [Info] Number of positive: 7932, number of negative: 63304\n",
            "[LightGBM] [Warning] Auto-choosing row-wise multi-threading, the overhead of testing was 0.011991 seconds.\n",
            "You can set `force_row_wise=true` to remove the overhead.\n",
            "And if memory is not enough, you can set `force_col_wise=true`.\n",
            "[LightGBM] [Info] Total Bins 319\n",
            "[LightGBM] [Info] Number of data points in the train set: 71236, number of used features: 53\n",
            "[LightGBM] [Info] [binary:BoostFromScore]: pavg=0.111348 -> initscore=-2.077043\n",
            "[LightGBM] [Info] Start training from score -2.077043\n",
            "[LightGBM] [Warning] Accuracy may be bad since you didn't explicitly set num_leaves OR 2^max_depth > num_leaves. (num_leaves=31).\n",
            "[LightGBM] [Warning] Accuracy may be bad since you didn't explicitly set num_leaves OR 2^max_depth > num_leaves. (num_leaves=31).\n"
          ]
        },
        {
          "output_type": "stream",
          "name": "stderr",
          "text": [
            "[I 2023-10-03 11:31:37,881] Trial 81 finished with value: 0.602919708029197 and parameters: {'max_depth': 10, 'scale_pos_weight': 7.805153419156508, 'reg_lambda': 0.16755501667855388, 'reg_alpha': 8.222466164727654e-05}. Best is trial 41 with value: 0.6154744525547445.\n"
          ]
        },
        {
          "output_type": "stream",
          "name": "stdout",
          "text": [
            "[LightGBM] [Warning] Accuracy may be bad since you didn't explicitly set num_leaves OR 2^max_depth > num_leaves. (num_leaves=31).\n",
            "[LightGBM] [Warning] Found whitespace in feature_names, replace with underlines\n",
            "[LightGBM] [Warning] Accuracy may be bad since you didn't explicitly set num_leaves OR 2^max_depth > num_leaves. (num_leaves=31).\n",
            "[LightGBM] [Info] Number of positive: 7932, number of negative: 63304\n",
            "[LightGBM] [Warning] Auto-choosing row-wise multi-threading, the overhead of testing was 0.015949 seconds.\n",
            "You can set `force_row_wise=true` to remove the overhead.\n",
            "And if memory is not enough, you can set `force_col_wise=true`.\n",
            "[LightGBM] [Info] Total Bins 319\n",
            "[LightGBM] [Info] Number of data points in the train set: 71236, number of used features: 53\n",
            "[LightGBM] [Info] [binary:BoostFromScore]: pavg=0.111348 -> initscore=-2.077043\n",
            "[LightGBM] [Info] Start training from score -2.077043\n"
          ]
        },
        {
          "output_type": "stream",
          "name": "stderr",
          "text": [
            "[I 2023-10-03 11:31:38,993] Trial 82 finished with value: 0.5424817518248175 and parameters: {'max_depth': 9, 'scale_pos_weight': 7.1584826835780655, 'reg_lambda': 0.4924666696220804, 'reg_alpha': 6.924975115702649e-05}. Best is trial 41 with value: 0.6154744525547445.\n"
          ]
        },
        {
          "output_type": "stream",
          "name": "stdout",
          "text": [
            "[LightGBM] [Warning] Accuracy may be bad since you didn't explicitly set num_leaves OR 2^max_depth > num_leaves. (num_leaves=31).\n",
            "[LightGBM] [Warning] Accuracy may be bad since you didn't explicitly set num_leaves OR 2^max_depth > num_leaves. (num_leaves=31).\n",
            "[LightGBM] [Warning] Found whitespace in feature_names, replace with underlines\n",
            "[LightGBM] [Info] Number of positive: 7932, number of negative: 63304\n",
            "[LightGBM] [Warning] Auto-choosing row-wise multi-threading, the overhead of testing was 0.007500 seconds.\n",
            "You can set `force_row_wise=true` to remove the overhead.\n",
            "And if memory is not enough, you can set `force_col_wise=true`.\n",
            "[LightGBM] [Info] Total Bins 319\n",
            "[LightGBM] [Info] Number of data points in the train set: 71236, number of used features: 53\n",
            "[LightGBM] [Info] [binary:BoostFromScore]: pavg=0.111348 -> initscore=-2.077043\n",
            "[LightGBM] [Info] Start training from score -2.077043\n"
          ]
        },
        {
          "output_type": "stream",
          "name": "stderr",
          "text": [
            "[I 2023-10-03 11:31:39,772] Trial 83 finished with value: 0.6032116788321168 and parameters: {'max_depth': 11, 'scale_pos_weight': 7.889010958174492, 'reg_lambda': 1.4028857883967776, 'reg_alpha': 0.00025197685179391036}. Best is trial 41 with value: 0.6154744525547445.\n"
          ]
        },
        {
          "output_type": "stream",
          "name": "stdout",
          "text": [
            "[LightGBM] [Warning] Found whitespace in feature_names, replace with underlines\n",
            "[LightGBM] [Info] Number of positive: 7932, number of negative: 63304\n",
            "[LightGBM] [Warning] Auto-choosing row-wise multi-threading, the overhead of testing was 0.007157 seconds.\n",
            "You can set `force_row_wise=true` to remove the overhead.\n",
            "And if memory is not enough, you can set `force_col_wise=true`.\n",
            "[LightGBM] [Info] Total Bins 319\n",
            "[LightGBM] [Info] Number of data points in the train set: 71236, number of used features: 53\n",
            "[LightGBM] [Info] [binary:BoostFromScore]: pavg=0.111348 -> initscore=-2.077043\n",
            "[LightGBM] [Info] Start training from score -2.077043\n"
          ]
        },
        {
          "output_type": "stream",
          "name": "stderr",
          "text": [
            "[I 2023-10-03 11:31:40,532] Trial 84 finished with value: 0.5886131386861314 and parameters: {'max_depth': 11, 'scale_pos_weight': 7.602651961788849, 'reg_lambda': 2.3359688512610326, 'reg_alpha': 0.00020951742793310716}. Best is trial 41 with value: 0.6154744525547445.\n"
          ]
        },
        {
          "output_type": "stream",
          "name": "stdout",
          "text": [
            "[LightGBM] [Warning] Found whitespace in feature_names, replace with underlines\n",
            "[LightGBM] [Info] Number of positive: 7932, number of negative: 63304\n",
            "[LightGBM] [Warning] Auto-choosing row-wise multi-threading, the overhead of testing was 0.006113 seconds.\n",
            "You can set `force_row_wise=true` to remove the overhead.\n",
            "And if memory is not enough, you can set `force_col_wise=true`.\n",
            "[LightGBM] [Info] Total Bins 319\n",
            "[LightGBM] [Info] Number of data points in the train set: 71236, number of used features: 53\n",
            "[LightGBM] [Info] [binary:BoostFromScore]: pavg=0.111348 -> initscore=-2.077043\n",
            "[LightGBM] [Info] Start training from score -2.077043\n"
          ]
        },
        {
          "output_type": "stream",
          "name": "stderr",
          "text": [
            "[I 2023-10-03 11:31:41,254] Trial 85 finished with value: 0.0 and parameters: {'max_depth': 11, 'scale_pos_weight': 8.565920572764668, 'reg_lambda': 1.2366721692314002, 'reg_alpha': 0.0003761453918835419}. Best is trial 41 with value: 0.6154744525547445.\n"
          ]
        },
        {
          "output_type": "stream",
          "name": "stdout",
          "text": [
            "[LightGBM] [Warning] Found whitespace in feature_names, replace with underlines\n",
            "[LightGBM] [Info] Number of positive: 7932, number of negative: 63304\n",
            "[LightGBM] [Warning] Auto-choosing row-wise multi-threading, the overhead of testing was 0.006756 seconds.\n",
            "You can set `force_row_wise=true` to remove the overhead.\n",
            "And if memory is not enough, you can set `force_col_wise=true`.\n",
            "[LightGBM] [Info] Total Bins 319\n",
            "[LightGBM] [Info] Number of data points in the train set: 71236, number of used features: 53\n",
            "[LightGBM] [Info] [binary:BoostFromScore]: pavg=0.111348 -> initscore=-2.077043\n",
            "[LightGBM] [Info] Start training from score -2.077043\n"
          ]
        },
        {
          "output_type": "stream",
          "name": "stderr",
          "text": [
            "[I 2023-10-03 11:31:42,022] Trial 86 finished with value: 0.494014598540146 and parameters: {'max_depth': 11, 'scale_pos_weight': 6.737612085468752, 'reg_lambda': 0.06366006932916675, 'reg_alpha': 0.0001090087994260334}. Best is trial 41 with value: 0.6154744525547445.\n"
          ]
        },
        {
          "output_type": "stream",
          "name": "stdout",
          "text": [
            "[LightGBM] [Warning] Found whitespace in feature_names, replace with underlines\n",
            "[LightGBM] [Info] Number of positive: 7932, number of negative: 63304\n",
            "[LightGBM] [Warning] Auto-choosing row-wise multi-threading, the overhead of testing was 0.326379 seconds.\n",
            "You can set `force_row_wise=true` to remove the overhead.\n",
            "And if memory is not enough, you can set `force_col_wise=true`.\n",
            "[LightGBM] [Info] Total Bins 319\n",
            "[LightGBM] [Info] Number of data points in the train set: 71236, number of used features: 53\n",
            "[LightGBM] [Info] [binary:BoostFromScore]: pavg=0.111348 -> initscore=-2.077043\n",
            "[LightGBM] [Info] Start training from score -2.077043\n",
            "[LightGBM] [Warning] No further splits with positive gain, best gain: -inf\n",
            "[LightGBM] [Warning] No further splits with positive gain, best gain: -inf\n",
            "[LightGBM] [Warning] No further splits with positive gain, best gain: -inf\n",
            "[LightGBM] [Warning] No further splits with positive gain, best gain: -inf\n",
            "[LightGBM] [Warning] No further splits with positive gain, best gain: -inf\n",
            "[LightGBM] [Warning] No further splits with positive gain, best gain: -inf\n",
            "[LightGBM] [Warning] No further splits with positive gain, best gain: -inf\n",
            "[LightGBM] [Warning] No further splits with positive gain, best gain: -inf\n",
            "[LightGBM] [Warning] No further splits with positive gain, best gain: -inf\n",
            "[LightGBM] [Warning] No further splits with positive gain, best gain: -inf\n",
            "[LightGBM] [Warning] No further splits with positive gain, best gain: -inf\n",
            "[LightGBM] [Warning] No further splits with positive gain, best gain: -inf\n",
            "[LightGBM] [Warning] No further splits with positive gain, best gain: -inf\n",
            "[LightGBM] [Warning] No further splits with positive gain, best gain: -inf\n"
          ]
        },
        {
          "output_type": "stream",
          "name": "stderr",
          "text": [
            "[I 2023-10-03 11:31:43,085] Trial 87 finished with value: 0.0 and parameters: {'max_depth': 3, 'scale_pos_weight': 8.144670758866617, 'reg_lambda': 0.18819024195881853, 'reg_alpha': 0.000813293897743886}. Best is trial 41 with value: 0.6154744525547445.\n"
          ]
        },
        {
          "output_type": "stream",
          "name": "stdout",
          "text": [
            "[LightGBM] [Warning] Accuracy may be bad since you didn't explicitly set num_leaves OR 2^max_depth > num_leaves. (num_leaves=31).\n",
            "[LightGBM] [Warning] Found whitespace in feature_names, replace with underlines\n",
            "[LightGBM] [Warning] Accuracy may be bad since you didn't explicitly set num_leaves OR 2^max_depth > num_leaves. (num_leaves=31).\n",
            "[LightGBM] [Info] Number of positive: 7932, number of negative: 63304\n",
            "[LightGBM] [Warning] Auto-choosing row-wise multi-threading, the overhead of testing was 0.008177 seconds.\n",
            "You can set `force_row_wise=true` to remove the overhead.\n",
            "And if memory is not enough, you can set `force_col_wise=true`.\n",
            "[LightGBM] [Info] Total Bins 319\n",
            "[LightGBM] [Info] Number of data points in the train set: 71236, number of used features: 53\n",
            "[LightGBM] [Info] [binary:BoostFromScore]: pavg=0.111348 -> initscore=-2.077043\n",
            "[LightGBM] [Info] Start training from score -2.077043\n",
            "[LightGBM] [Warning] No further splits with positive gain, best gain: -inf\n",
            "[LightGBM] [Warning] Accuracy may be bad since you didn't explicitly set num_leaves OR 2^max_depth > num_leaves. (num_leaves=31).\n",
            "[LightGBM] [Warning] Accuracy may be bad since you didn't explicitly set num_leaves OR 2^max_depth > num_leaves. (num_leaves=31).\n"
          ]
        },
        {
          "output_type": "stream",
          "name": "stderr",
          "text": [
            "[I 2023-10-03 11:31:43,877] Trial 88 finished with value: 0.42656934306569344 and parameters: {'max_depth': 10, 'scale_pos_weight': 6.325309673865998, 'reg_lambda': 0.998989802218437, 'reg_alpha': 4.905196733339637e-05}. Best is trial 41 with value: 0.6154744525547445.\n"
          ]
        },
        {
          "output_type": "stream",
          "name": "stdout",
          "text": [
            "[LightGBM] [Warning] Found whitespace in feature_names, replace with underlines\n",
            "[LightGBM] [Info] Number of positive: 7932, number of negative: 63304\n",
            "[LightGBM] [Warning] Auto-choosing row-wise multi-threading, the overhead of testing was 0.016497 seconds.\n",
            "You can set `force_row_wise=true` to remove the overhead.\n",
            "And if memory is not enough, you can set `force_col_wise=true`.\n",
            "[LightGBM] [Info] Total Bins 319\n",
            "[LightGBM] [Info] Number of data points in the train set: 71236, number of used features: 53\n",
            "[LightGBM] [Info] [binary:BoostFromScore]: pavg=0.111348 -> initscore=-2.077043\n",
            "[LightGBM] [Info] Start training from score -2.077043\n"
          ]
        },
        {
          "output_type": "stream",
          "name": "stderr",
          "text": [
            "[I 2023-10-03 11:31:44,635] Trial 89 finished with value: 0.6002919708029197 and parameters: {'max_depth': 11, 'scale_pos_weight': 7.7993910055973545, 'reg_lambda': 6.171060302870469, 'reg_alpha': 0.00021873424548637526}. Best is trial 41 with value: 0.6154744525547445.\n"
          ]
        },
        {
          "output_type": "stream",
          "name": "stdout",
          "text": [
            "[LightGBM] [Warning] Accuracy may be bad since you didn't explicitly set num_leaves OR 2^max_depth > num_leaves. (num_leaves=31).\n",
            "[LightGBM] [Warning] Found whitespace in feature_names, replace with underlines\n",
            "[LightGBM] [Warning] Accuracy may be bad since you didn't explicitly set num_leaves OR 2^max_depth > num_leaves. (num_leaves=31).\n",
            "[LightGBM] [Info] Number of positive: 7932, number of negative: 63304\n",
            "[LightGBM] [Warning] Auto-choosing row-wise multi-threading, the overhead of testing was 0.006036 seconds.\n",
            "You can set `force_row_wise=true` to remove the overhead.\n",
            "And if memory is not enough, you can set `force_col_wise=true`.\n",
            "[LightGBM] [Info] Total Bins 319\n",
            "[LightGBM] [Info] Number of data points in the train set: 71236, number of used features: 53\n",
            "[LightGBM] [Info] [binary:BoostFromScore]: pavg=0.111348 -> initscore=-2.077043\n",
            "[LightGBM] [Info] Start training from score -2.077043\n"
          ]
        },
        {
          "output_type": "stream",
          "name": "stderr",
          "text": [
            "[I 2023-10-03 11:31:45,413] Trial 90 finished with value: 0.5392700729927007 and parameters: {'max_depth': 10, 'scale_pos_weight': 7.139463120755624, 'reg_lambda': 3.3170683178430673, 'reg_alpha': 2.9164757404188786e-05}. Best is trial 41 with value: 0.6154744525547445.\n"
          ]
        },
        {
          "output_type": "stream",
          "name": "stdout",
          "text": [
            "[LightGBM] [Warning] Accuracy may be bad since you didn't explicitly set num_leaves OR 2^max_depth > num_leaves. (num_leaves=31).\n",
            "[LightGBM] [Warning] Accuracy may be bad since you didn't explicitly set num_leaves OR 2^max_depth > num_leaves. (num_leaves=31).\n",
            "[LightGBM] [Warning] Accuracy may be bad since you didn't explicitly set num_leaves OR 2^max_depth > num_leaves. (num_leaves=31).\n",
            "[LightGBM] [Warning] Found whitespace in feature_names, replace with underlines\n",
            "[LightGBM] [Warning] Accuracy may be bad since you didn't explicitly set num_leaves OR 2^max_depth > num_leaves. (num_leaves=31).\n",
            "[LightGBM] [Info] Number of positive: 7932, number of negative: 63304\n",
            "[LightGBM] [Warning] Auto-choosing row-wise multi-threading, the overhead of testing was 0.008203 seconds.\n",
            "You can set `force_row_wise=true` to remove the overhead.\n",
            "And if memory is not enough, you can set `force_col_wise=true`.\n",
            "[LightGBM] [Info] Total Bins 319\n",
            "[LightGBM] [Info] Number of data points in the train set: 71236, number of used features: 53\n",
            "[LightGBM] [Info] [binary:BoostFromScore]: pavg=0.111348 -> initscore=-2.077043\n",
            "[LightGBM] [Info] Start training from score -2.077043\n",
            "[LightGBM] [Warning] Accuracy may be bad since you didn't explicitly set num_leaves OR 2^max_depth > num_leaves. (num_leaves=31).\n",
            "[LightGBM] [Warning] Accuracy may be bad since you didn't explicitly set num_leaves OR 2^max_depth > num_leaves. (num_leaves=31).\n"
          ]
        },
        {
          "output_type": "stream",
          "name": "stderr",
          "text": [
            "[I 2023-10-03 11:31:46,212] Trial 91 finished with value: 0.6014598540145986 and parameters: {'max_depth': 10, 'scale_pos_weight': 7.854320181505575, 'reg_lambda': 1.768374355673571, 'reg_alpha': 1.2802510124049133e-05}. Best is trial 41 with value: 0.6154744525547445.\n"
          ]
        },
        {
          "output_type": "stream",
          "name": "stdout",
          "text": [
            "[LightGBM] [Warning] Accuracy may be bad since you didn't explicitly set num_leaves OR 2^max_depth > num_leaves. (num_leaves=31).\n",
            "[LightGBM] [Warning] Found whitespace in feature_names, replace with underlines\n",
            "[LightGBM] [Warning] Accuracy may be bad since you didn't explicitly set num_leaves OR 2^max_depth > num_leaves. (num_leaves=31).\n",
            "[LightGBM] [Info] Number of positive: 7932, number of negative: 63304\n",
            "[LightGBM] [Warning] Auto-choosing row-wise multi-threading, the overhead of testing was 0.021330 seconds.\n",
            "You can set `force_row_wise=true` to remove the overhead.\n",
            "And if memory is not enough, you can set `force_col_wise=true`.\n",
            "[LightGBM] [Info] Total Bins 319\n",
            "[LightGBM] [Info] Number of data points in the train set: 71236, number of used features: 53\n",
            "[LightGBM] [Info] [binary:BoostFromScore]: pavg=0.111348 -> initscore=-2.077043\n",
            "[LightGBM] [Info] Start training from score -2.077043\n",
            "[LightGBM] [Warning] No further splits with positive gain, best gain: -inf\n",
            "[LightGBM] [Warning] No further splits with positive gain, best gain: -inf\n",
            "[LightGBM] [Warning] Accuracy may be bad since you didn't explicitly set num_leaves OR 2^max_depth > num_leaves. (num_leaves=31).\n",
            "[LightGBM] [Warning] Accuracy may be bad since you didn't explicitly set num_leaves OR 2^max_depth > num_leaves. (num_leaves=31).\n"
          ]
        },
        {
          "output_type": "stream",
          "name": "stderr",
          "text": [
            "[I 2023-10-03 11:31:47,191] Trial 92 finished with value: 0.0 and parameters: {'max_depth': 9, 'scale_pos_weight': 8.286593990771946, 'reg_lambda': 0.5701419317666285, 'reg_alpha': 7.845510313417208e-05}. Best is trial 41 with value: 0.6154744525547445.\n"
          ]
        },
        {
          "output_type": "stream",
          "name": "stdout",
          "text": [
            "[LightGBM] [Warning] Accuracy may be bad since you didn't explicitly set num_leaves OR 2^max_depth > num_leaves. (num_leaves=31).\n",
            "[LightGBM] [Warning] Found whitespace in feature_names, replace with underlines\n",
            "[LightGBM] [Warning] Accuracy may be bad since you didn't explicitly set num_leaves OR 2^max_depth > num_leaves. (num_leaves=31).\n",
            "[LightGBM] [Info] Number of positive: 7932, number of negative: 63304\n",
            "[LightGBM] [Warning] Auto-choosing row-wise multi-threading, the overhead of testing was 0.005296 seconds.\n",
            "You can set `force_row_wise=true` to remove the overhead.\n",
            "And if memory is not enough, you can set `force_col_wise=true`.\n",
            "[LightGBM] [Info] Total Bins 319\n",
            "[LightGBM] [Info] Number of data points in the train set: 71236, number of used features: 53\n",
            "[LightGBM] [Info] [binary:BoostFromScore]: pavg=0.111348 -> initscore=-2.077043\n",
            "[LightGBM] [Info] Start training from score -2.077043\n"
          ]
        },
        {
          "output_type": "stream",
          "name": "stderr",
          "text": [
            "[I 2023-10-03 11:31:47,853] Trial 93 finished with value: 0.5783941605839416 and parameters: {'max_depth': 10, 'scale_pos_weight': 7.4378140638152805, 'reg_lambda': 0.8102043717334427, 'reg_alpha': 0.00010299535571464251}. Best is trial 41 with value: 0.6154744525547445.\n"
          ]
        },
        {
          "output_type": "stream",
          "name": "stdout",
          "text": [
            "[LightGBM] [Warning] Accuracy may be bad since you didn't explicitly set num_leaves OR 2^max_depth > num_leaves. (num_leaves=31).\n",
            "[LightGBM] [Warning] Accuracy may be bad since you didn't explicitly set num_leaves OR 2^max_depth > num_leaves. (num_leaves=31).\n",
            "[LightGBM] [Warning] Found whitespace in feature_names, replace with underlines\n",
            "[LightGBM] [Info] Number of positive: 7932, number of negative: 63304\n",
            "[LightGBM] [Warning] Auto-choosing row-wise multi-threading, the overhead of testing was 0.008169 seconds.\n",
            "You can set `force_row_wise=true` to remove the overhead.\n",
            "And if memory is not enough, you can set `force_col_wise=true`.\n",
            "[LightGBM] [Info] Total Bins 319\n",
            "[LightGBM] [Info] Number of data points in the train set: 71236, number of used features: 53\n",
            "[LightGBM] [Info] [binary:BoostFromScore]: pavg=0.111348 -> initscore=-2.077043\n",
            "[LightGBM] [Info] Start training from score -2.077043\n"
          ]
        },
        {
          "output_type": "stream",
          "name": "stderr",
          "text": [
            "[I 2023-10-03 11:31:48,473] Trial 94 finished with value: 0.0 and parameters: {'max_depth': 11, 'scale_pos_weight': 8.759308154042156, 'reg_lambda': 0.3479682764541228, 'reg_alpha': 0.00034636923351772373}. Best is trial 41 with value: 0.6154744525547445.\n"
          ]
        },
        {
          "output_type": "stream",
          "name": "stdout",
          "text": [
            "[LightGBM] [Warning] Accuracy may be bad since you didn't explicitly set num_leaves OR 2^max_depth > num_leaves. (num_leaves=31).\n",
            "[LightGBM] [Warning] Found whitespace in feature_names, replace with underlines\n",
            "[LightGBM] [Warning] Accuracy may be bad since you didn't explicitly set num_leaves OR 2^max_depth > num_leaves. (num_leaves=31).\n",
            "[LightGBM] [Info] Number of positive: 7932, number of negative: 63304\n",
            "[LightGBM] [Warning] Auto-choosing row-wise multi-threading, the overhead of testing was 0.006145 seconds.\n",
            "You can set `force_row_wise=true` to remove the overhead.\n",
            "And if memory is not enough, you can set `force_col_wise=true`.\n",
            "[LightGBM] [Info] Total Bins 319\n",
            "[LightGBM] [Info] Number of data points in the train set: 71236, number of used features: 53\n",
            "[LightGBM] [Info] [binary:BoostFromScore]: pavg=0.111348 -> initscore=-2.077043\n",
            "[LightGBM] [Info] Start training from score -2.077043\n"
          ]
        },
        {
          "output_type": "stream",
          "name": "stderr",
          "text": [
            "[I 2023-10-03 11:31:49,139] Trial 95 finished with value: 0.0 and parameters: {'max_depth': 10, 'scale_pos_weight': 7.956820332151581, 'reg_lambda': 0.18778937302358178, 'reg_alpha': 0.0005358925044599509}. Best is trial 41 with value: 0.6154744525547445.\n"
          ]
        },
        {
          "output_type": "stream",
          "name": "stdout",
          "text": [
            "[LightGBM] [Warning] Accuracy may be bad since you didn't explicitly set num_leaves OR 2^max_depth > num_leaves. (num_leaves=31).\n",
            "[LightGBM] [Warning] Accuracy may be bad since you didn't explicitly set num_leaves OR 2^max_depth > num_leaves. (num_leaves=31).\n",
            "[LightGBM] [Warning] Found whitespace in feature_names, replace with underlines\n",
            "[LightGBM] [Info] Number of positive: 7932, number of negative: 63304\n",
            "[LightGBM] [Warning] Auto-choosing row-wise multi-threading, the overhead of testing was 0.005980 seconds.\n",
            "You can set `force_row_wise=true` to remove the overhead.\n",
            "And if memory is not enough, you can set `force_col_wise=true`.\n",
            "[LightGBM] [Info] Total Bins 319\n",
            "[LightGBM] [Info] Number of data points in the train set: 71236, number of used features: 53\n",
            "[LightGBM] [Info] [binary:BoostFromScore]: pavg=0.111348 -> initscore=-2.077043\n",
            "[LightGBM] [Info] Start training from score -2.077043\n"
          ]
        },
        {
          "output_type": "stream",
          "name": "stderr",
          "text": [
            "[I 2023-10-03 11:31:49,761] Trial 96 finished with value: 0.0 and parameters: {'max_depth': 11, 'scale_pos_weight': 9.284191397977573, 'reg_lambda': 1.5825777615844385, 'reg_alpha': 0.00016834777761329364}. Best is trial 41 with value: 0.6154744525547445.\n"
          ]
        },
        {
          "output_type": "stream",
          "name": "stdout",
          "text": [
            "[LightGBM] [Warning] Accuracy may be bad since you didn't explicitly set num_leaves OR 2^max_depth > num_leaves. (num_leaves=31).\n",
            "[LightGBM] [Warning] Found whitespace in feature_names, replace with underlines\n",
            "[LightGBM] [Warning] Accuracy may be bad since you didn't explicitly set num_leaves OR 2^max_depth > num_leaves. (num_leaves=31).\n",
            "[LightGBM] [Info] Number of positive: 7932, number of negative: 63304\n",
            "[LightGBM] [Warning] Auto-choosing row-wise multi-threading, the overhead of testing was 0.006481 seconds.\n",
            "You can set `force_row_wise=true` to remove the overhead.\n",
            "And if memory is not enough, you can set `force_col_wise=true`.\n",
            "[LightGBM] [Info] Total Bins 319\n",
            "[LightGBM] [Info] Number of data points in the train set: 71236, number of used features: 53\n",
            "[LightGBM] [Info] [binary:BoostFromScore]: pavg=0.111348 -> initscore=-2.077043\n",
            "[LightGBM] [Info] Start training from score -2.077043\n",
            "[LightGBM] [Warning] No further splits with positive gain, best gain: -inf\n",
            "[LightGBM] [Warning] Accuracy may be bad since you didn't explicitly set num_leaves OR 2^max_depth > num_leaves. (num_leaves=31).\n",
            "[LightGBM] [Warning] Accuracy may be bad since you didn't explicitly set num_leaves OR 2^max_depth > num_leaves. (num_leaves=31).\n"
          ]
        },
        {
          "output_type": "stream",
          "name": "stderr",
          "text": [
            "[I 2023-10-03 11:31:50,430] Trial 97 finished with value: 0.0 and parameters: {'max_depth': 9, 'scale_pos_weight': 8.393648848275925, 'reg_lambda': 0.7759674301651267, 'reg_alpha': 2.654376931541534e-05}. Best is trial 41 with value: 0.6154744525547445.\n"
          ]
        },
        {
          "output_type": "stream",
          "name": "stdout",
          "text": [
            "[LightGBM] [Warning] Accuracy may be bad since you didn't explicitly set num_leaves OR 2^max_depth > num_leaves. (num_leaves=31).\n",
            "[LightGBM] [Warning] Found whitespace in feature_names, replace with underlines\n",
            "[LightGBM] [Warning] Accuracy may be bad since you didn't explicitly set num_leaves OR 2^max_depth > num_leaves. (num_leaves=31).\n",
            "[LightGBM] [Info] Number of positive: 7932, number of negative: 63304\n",
            "[LightGBM] [Warning] Auto-choosing row-wise multi-threading, the overhead of testing was 0.007238 seconds.\n",
            "You can set `force_row_wise=true` to remove the overhead.\n",
            "And if memory is not enough, you can set `force_col_wise=true`.\n",
            "[LightGBM] [Info] Total Bins 319\n",
            "[LightGBM] [Info] Number of data points in the train set: 71236, number of used features: 53\n",
            "[LightGBM] [Info] [binary:BoostFromScore]: pavg=0.111348 -> initscore=-2.077043\n",
            "[LightGBM] [Info] Start training from score -2.077043\n",
            "[LightGBM] [Warning] No further splits with positive gain, best gain: -inf\n",
            "[LightGBM] [Warning] No further splits with positive gain, best gain: -inf\n",
            "[LightGBM] [Warning] No further splits with positive gain, best gain: -inf\n",
            "[LightGBM] [Warning] No further splits with positive gain, best gain: -inf\n",
            "[LightGBM] [Warning] No further splits with positive gain, best gain: -inf\n",
            "[LightGBM] [Warning] No further splits with positive gain, best gain: -inf\n",
            "[LightGBM] [Warning] No further splits with positive gain, best gain: -inf\n",
            "[LightGBM] [Warning] No further splits with positive gain, best gain: -inf\n",
            "[LightGBM] [Warning] No further splits with positive gain, best gain: -inf\n",
            "[LightGBM] [Warning] No further splits with positive gain, best gain: -inf\n",
            "[LightGBM] [Warning] No further splits with positive gain, best gain: -inf\n",
            "[LightGBM] [Warning] No further splits with positive gain, best gain: -inf\n",
            "[LightGBM] [Warning] No further splits with positive gain, best gain: -inf\n",
            "[LightGBM] [Warning] No further splits with positive gain, best gain: -inf\n",
            "[LightGBM] [Warning] No further splits with positive gain, best gain: -inf\n",
            "[LightGBM] [Warning] No further splits with positive gain, best gain: -inf\n",
            "[LightGBM] [Warning] No further splits with positive gain, best gain: -inf\n",
            "[LightGBM] [Warning] No further splits with positive gain, best gain: -inf\n",
            "[LightGBM] [Warning] No further splits with positive gain, best gain: -inf\n",
            "[LightGBM] [Warning] No further splits with positive gain, best gain: -inf\n",
            "[LightGBM] [Warning] No further splits with positive gain, best gain: -inf\n",
            "[LightGBM] [Warning] No further splits with positive gain, best gain: -inf\n",
            "[LightGBM] [Warning] No further splits with positive gain, best gain: -inf\n",
            "[LightGBM] [Warning] No further splits with positive gain, best gain: -inf\n",
            "[LightGBM] [Warning] No further splits with positive gain, best gain: -inf\n",
            "[LightGBM] [Warning] No further splits with positive gain, best gain: -inf\n",
            "[LightGBM] [Warning] No further splits with positive gain, best gain: -inf\n",
            "[LightGBM] [Warning] No further splits with positive gain, best gain: -inf\n",
            "[LightGBM] [Warning] No further splits with positive gain, best gain: -inf\n",
            "[LightGBM] [Warning] No further splits with positive gain, best gain: -inf\n",
            "[LightGBM] [Warning] No further splits with positive gain, best gain: -inf\n",
            "[LightGBM] [Warning] No further splits with positive gain, best gain: -inf\n",
            "[LightGBM] [Warning] No further splits with positive gain, best gain: -inf\n",
            "[LightGBM] [Warning] No further splits with positive gain, best gain: -inf\n",
            "[LightGBM] [Warning] No further splits with positive gain, best gain: -inf\n",
            "[LightGBM] [Warning] No further splits with positive gain, best gain: -inf\n",
            "[LightGBM] [Warning] No further splits with positive gain, best gain: -inf\n",
            "[LightGBM] [Warning] No further splits with positive gain, best gain: -inf\n",
            "[LightGBM] [Warning] No further splits with positive gain, best gain: -inf\n",
            "[LightGBM] [Warning] No further splits with positive gain, best gain: -inf\n",
            "[LightGBM] [Warning] No further splits with positive gain, best gain: -inf\n",
            "[LightGBM] [Warning] No further splits with positive gain, best gain: -inf\n",
            "[LightGBM] [Warning] No further splits with positive gain, best gain: -inf\n",
            "[LightGBM] [Warning] No further splits with positive gain, best gain: -inf\n",
            "[LightGBM] [Warning] No further splits with positive gain, best gain: -inf\n",
            "[LightGBM] [Warning] No further splits with positive gain, best gain: -inf\n",
            "[LightGBM] [Warning] No further splits with positive gain, best gain: -inf\n",
            "[LightGBM] [Warning] No further splits with positive gain, best gain: -inf\n",
            "[LightGBM] [Warning] No further splits with positive gain, best gain: -inf\n",
            "[LightGBM] [Warning] No further splits with positive gain, best gain: -inf\n",
            "[LightGBM] [Warning] No further splits with positive gain, best gain: -inf\n",
            "[LightGBM] [Warning] No further splits with positive gain, best gain: -inf\n",
            "[LightGBM] [Warning] No further splits with positive gain, best gain: -inf\n",
            "[LightGBM] [Warning] No further splits with positive gain, best gain: -inf\n",
            "[LightGBM] [Warning] No further splits with positive gain, best gain: -inf\n",
            "[LightGBM] [Warning] No further splits with positive gain, best gain: -inf\n",
            "[LightGBM] [Warning] No further splits with positive gain, best gain: -inf\n",
            "[LightGBM] [Warning] No further splits with positive gain, best gain: -inf\n",
            "[LightGBM] [Warning] No further splits with positive gain, best gain: -inf\n",
            "[LightGBM] [Warning] No further splits with positive gain, best gain: -inf\n",
            "[LightGBM] [Warning] No further splits with positive gain, best gain: -inf\n",
            "[LightGBM] [Warning] No further splits with positive gain, best gain: -inf\n",
            "[LightGBM] [Warning] No further splits with positive gain, best gain: -inf\n",
            "[LightGBM] [Warning] No further splits with positive gain, best gain: -inf\n",
            "[LightGBM] [Warning] No further splits with positive gain, best gain: -inf\n",
            "[LightGBM] [Warning] No further splits with positive gain, best gain: -inf\n",
            "[LightGBM] [Warning] Accuracy may be bad since you didn't explicitly set num_leaves OR 2^max_depth > num_leaves. (num_leaves=31).\n"
          ]
        },
        {
          "output_type": "stream",
          "name": "stderr",
          "text": [
            "[I 2023-10-03 11:31:53,307] Trial 98 finished with value: 0.5813138686131387 and parameters: {'max_depth': 5, 'scale_pos_weight': 7.563833580644345, 'reg_lambda': 0.2594434653133516, 'reg_alpha': 0.0013742018436481433}. Best is trial 41 with value: 0.6154744525547445.\n"
          ]
        },
        {
          "output_type": "stream",
          "name": "stdout",
          "text": [
            "[LightGBM] [Warning] Accuracy may be bad since you didn't explicitly set num_leaves OR 2^max_depth > num_leaves. (num_leaves=31).\n",
            "[LightGBM] [Warning] Accuracy may be bad since you didn't explicitly set num_leaves OR 2^max_depth > num_leaves. (num_leaves=31).\n",
            "[LightGBM] [Warning] Found whitespace in feature_names, replace with underlines\n",
            "[LightGBM] [Warning] Accuracy may be bad since you didn't explicitly set num_leaves OR 2^max_depth > num_leaves. (num_leaves=31).\n",
            "[LightGBM] [Info] Number of positive: 7932, number of negative: 63304\n",
            "[LightGBM] [Warning] Auto-choosing row-wise multi-threading, the overhead of testing was 0.005726 seconds.\n",
            "You can set `force_row_wise=true` to remove the overhead.\n",
            "And if memory is not enough, you can set `force_col_wise=true`.\n",
            "[LightGBM] [Info] Total Bins 319\n",
            "[LightGBM] [Info] Number of data points in the train set: 71236, number of used features: 53\n",
            "[LightGBM] [Info] [binary:BoostFromScore]: pavg=0.111348 -> initscore=-2.077043\n",
            "[LightGBM] [Info] Start training from score -2.077043\n"
          ]
        },
        {
          "output_type": "stream",
          "name": "stderr",
          "text": [
            "[I 2023-10-03 11:31:54,025] Trial 99 finished with value: 0.548029197080292 and parameters: {'max_depth': 10, 'scale_pos_weight': 7.2179807314460405, 'reg_lambda': 0.1147236492477531, 'reg_alpha': 5.395714032260445e-05}. Best is trial 41 with value: 0.6154744525547445.\n"
          ]
        },
        {
          "output_type": "stream",
          "name": "stdout",
          "text": [
            "[LightGBM] [Warning] Accuracy may be bad since you didn't explicitly set num_leaves OR 2^max_depth > num_leaves. (num_leaves=31).\n",
            "[LightGBM] [Warning] Accuracy may be bad since you didn't explicitly set num_leaves OR 2^max_depth > num_leaves. (num_leaves=31).\n",
            "CPU times: user 11min 25s, sys: 1.19 s, total: 11min 26s\n",
            "Wall time: 1min 48s\n"
          ]
        }
      ]
    },
    {
      "cell_type": "markdown",
      "source": [
        "\n",
        "해당 코드는 `optuna` 라이브러리를 사용하여 `optimize_lgb` 함수의 결과를 최적화하는 과정을 수행합니다. `optuna`는 하이퍼파라미터 최적화를 위한 Python 라이브러리입니다.\n",
        "\n",
        "### 코드 분석:\n",
        "\n",
        "1. **시간 측정**:\n",
        "```python\n",
        "%%time\n",
        "```\n",
        "- `%%time`은 Jupyter 노트북의 매직 명령어로, 해당 셀의 실행 시간을 측정합니다.\n",
        "\n",
        "2. **Optuna 스터디 생성**:\n",
        "```python\n",
        "opt_study = optuna.create_study(direction='maximize')\n",
        "```\n",
        "- `optuna.create_study` 함수를 사용하여 새로운 최적화 스터디를 생성합니다.\n",
        "- `direction='maximize'`는 최적화의 목표가 최대화임을 나타냅니다. 즉, `optimize_lgb` 함수의 반환값을 최대로 만드는 하이퍼파라미터 조합을 찾는 것이 목표입니다.\n",
        "\n",
        "3. **최적화 시작**:\n",
        "```python\n",
        "opt_study.optimize(optimize_lgb, n_trials=100)\n",
        "```\n",
        "- `opt_study.optimize` 함수를 사용하여 `optimize_lgb` 함수를 대상으로 최적화를 시작합니다.\n",
        "- `n_trials=100`은 총 100번의 시도(trial)를 통해 최적의 하이퍼파라미터를 찾는다는 의미입니다. 각 시도마다 `optimize_lgb` 함수는 다른 하이퍼파라미터 조합으로 호출되며, 그 결과를 바탕으로 최적의 조합을 탐색합니다.\n",
        "\n",
        "### 결론:\n",
        "\n",
        "이 코드는 `optuna`를 사용하여 `optimize_lgb` 함수가 반환하는 값을 최대로 하는 하이퍼파라미터 조합을 찾는 과정을 수행합니다. 최적화 과정은 총 100번의 시도를 통해 이루어지며, 각 시도의 실행 시간을 `%%time`을 통해 측정합니다."
      ],
      "metadata": {
        "id": "9zxmUc7qWhMa"
      }
    },
    {
      "cell_type": "markdown",
      "source": [
        "`study`가 끝나면 다음과 같이 최상의 결과를 얻을 수 있는 `model hyperparameter`를 출력할 수 있다."
      ],
      "metadata": {
        "id": "_qUyODylTYt3"
      }
    },
    {
      "cell_type": "code",
      "source": [
        "best_params = opt_study.best_params\n",
        "print(best_params)"
      ],
      "metadata": {
        "colab": {
          "base_uri": "https://localhost:8080/"
        },
        "id": "WvNwR7FePjF_",
        "outputId": "ff7aaa86-fc2b-4166-cb6f-309e55940b8c"
      },
      "execution_count": 62,
      "outputs": [
        {
          "output_type": "stream",
          "name": "stdout",
          "text": [
            "{'max_depth': 10, 'scale_pos_weight': 7.926867998628939, 'reg_lambda': 0.8284413271486493, 'reg_alpha': 0.00010748920048463551}\n"
          ]
        }
      ]
    },
    {
      "cell_type": "markdown",
      "source": [
        "#### 1-7-3 Train Tuned Model"
      ],
      "metadata": {
        "id": "cHkAoDT1TkVO"
      }
    },
    {
      "cell_type": "code",
      "source": [
        "%matplotlib inline\n",
        "clf = lgb.LGBMClassifier(random_state=rand, n_jobs=-1,\\\n",
        "                         **best_params)\n",
        "clf.fit(X_train, y_train)\n",
        "\n",
        "_, y_prob, y_pred = evaluate_class_mdl(clf, X_train, X_test, y_train, y_test)"
      ],
      "metadata": {
        "colab": {
          "base_uri": "https://localhost:8080/",
          "height": 764
        },
        "id": "qgMVyYQzPjDX",
        "outputId": "249f1062-baca-496d-e9da-397d0883f02e"
      },
      "execution_count": 63,
      "outputs": [
        {
          "output_type": "stream",
          "name": "stdout",
          "text": [
            "[LightGBM] [Warning] Accuracy may be bad since you didn't explicitly set num_leaves OR 2^max_depth > num_leaves. (num_leaves=31).\n",
            "[LightGBM] [Warning] Found whitespace in feature_names, replace with underlines\n",
            "[LightGBM] [Warning] Accuracy may be bad since you didn't explicitly set num_leaves OR 2^max_depth > num_leaves. (num_leaves=31).\n",
            "[LightGBM] [Info] Number of positive: 7932, number of negative: 63304\n",
            "[LightGBM] [Warning] Auto-choosing row-wise multi-threading, the overhead of testing was 0.005038 seconds.\n",
            "You can set `force_row_wise=true` to remove the overhead.\n",
            "And if memory is not enough, you can set `force_col_wise=true`.\n",
            "[LightGBM] [Info] Total Bins 319\n",
            "[LightGBM] [Info] Number of data points in the train set: 71236, number of used features: 53\n",
            "[LightGBM] [Info] [binary:BoostFromScore]: pavg=0.111348 -> initscore=-2.077043\n",
            "[LightGBM] [Info] Start training from score -2.077043\n",
            "[LightGBM] [Warning] Accuracy may be bad since you didn't explicitly set num_leaves OR 2^max_depth > num_leaves. (num_leaves=31).\n",
            "[LightGBM] [Warning] Accuracy may be bad since you didn't explicitly set num_leaves OR 2^max_depth > num_leaves. (num_leaves=31).\n",
            "Accuracy_train:  0.6379\t\tAccuracy_test:   0.6103\n",
            "Precision_test:  0.1661\t\tRecall_test:     0.6155\n",
            "ROC-AUC_test:    0.6480\t\tF1_test:         0.2616\t\tMCC_test: 0.1441\n"
          ]
        },
        {
          "output_type": "display_data",
          "data": {
            "text/plain": [
              "<Figure size 600x500 with 2 Axes>"
            ],
            "image/png": "[encoded data removed]"
          },
          "metadata": {}
        }
      ]
    },
    {
      "cell_type": "markdown",
      "source": [
        "# **🥈Session 2**  \n",
        "**┗ Error analysis**  \n",
        "---"
      ],
      "metadata": {
        "id": "K_TL7jjpUKAY"
      }
    },
    {
      "cell_type": "markdown",
      "source": [
        "## 2) Error Analysis 소개"
      ],
      "metadata": {
        "id": "4rUtWJ9QULY3"
      }
    },
    {
      "cell_type": "markdown",
      "source": [
        "### 2-1. 현재까지의 결과가 최선일까?"
      ],
      "metadata": {
        "id": "GpEu7Oo0UMxH"
      }
    },
    {
      "cell_type": "markdown",
      "source": [
        "`Confusion Matrix`를 자세히 살펴보면 `False Positive`보다 `True Positive`가 60% 더 많지만 `False Positive`가 결과적으로 더 심각한 비용을 발생시킨다.\n",
        "그러나 우리가 설정한 제약으로 인해 `True Positive`의 절반 이상이 결국 재입원으로 분류될 것다. (30일 이상 지난 환자도 재분류하는 제약)"
      ],
      "metadata": {
        "id": "ieYxPv_XUNxV"
      }
    },
    {
      "cell_type": "code",
      "source": [
        "X_orig_test['readmitted'].value_counts()"
      ],
      "metadata": {
        "colab": {
          "base_uri": "https://localhost:8080/"
        },
        "id": "XXLFwIvXPjAu",
        "outputId": "fdadff73-c550-48f8-b270-666b08a16700"
      },
      "execution_count": 64,
      "outputs": [
        {
          "output_type": "execute_result",
          "data": {
            "text/plain": [
              "NO     16461\n",
              ">30    10644\n",
              "<30     3425\n",
              "Name: readmitted, dtype: int64"
            ]
          },
          "metadata": {},
          "execution_count": 64
        }
      ]
    },
    {
      "cell_type": "markdown",
      "source": [
        "대부분의 모델 목표가 30일 이상 재입원을 예상하므로 긍정적인 클래스가 이 그룹을 독점적으로 나타낸다.\n",
        "30일 이상 재입원 하지 않은 것에 대한 `False Positive` 오분류는 `NO` 에 대한 오분류만큼 나쁘지 않다.\n",
        "그렇다면 30일 이후 재입원에 대한 오탐지 비율은 얼마일까요?"
      ],
      "metadata": {
        "id": "LN6GExJ8U-Tg"
      }
    },
    {
      "cell_type": "code",
      "source": [
        "preds_df = pd.DataFrame({'readmitted':X_orig_test['readmitted'],\\\n",
        "                         'y_true':y_test.astype(int),\\\n",
        "                         'y_pred':y_pred})\n",
        "preds_df[(preds_df.y_true==0) & (preds_df.y_pred==1)].value_counts(normalize=True)"
      ],
      "metadata": {
        "colab": {
          "base_uri": "https://localhost:8080/"
        },
        "id": "ZhQmctydPi97",
        "outputId": "1fa73263-fc23-4674-f29e-fed2a56bd141"
      },
      "execution_count": 66,
      "outputs": [
        {
          "output_type": "execute_result",
          "data": {
            "text/plain": [
              "readmitted  y_true  y_pred\n",
              "NO          0       1         0.503639\n",
              ">30         0       1         0.496361\n",
              "dtype: float64"
            ]
          },
          "metadata": {},
          "execution_count": 66
        }
      ]
    },
    {
      "cell_type": "markdown",
      "source": [
        "\n",
        "### 코드 분석:\n",
        "\n",
        "1. **데이터프레임 생성**:\n",
        "```python\n",
        "preds_df = pd.DataFrame({'readmitted':X_orig_test['readmitted'],\n",
        "                         'y_true':y_test.astype(int),\n",
        "                         'y_pred':y_pred})\n",
        "```\n",
        "- 새로운 `preds_df` 데이터프레임을 생성합니다.\n",
        "- 이 데이터프레임에는 3개의 열이 포함됩니다:\n",
        "    - `readmitted`: `X_orig_test` 데이터프레임에서 `readmitted` 열의 값을 가져옵니다.\n",
        "    - `y_true`: 실제 테스트 데이터의 라벨 값을 정수로 변환하여 저장합니다.\n",
        "    - `y_pred`: 모델로부터 얻은 예측값을 저장합니다.\n",
        "\n",
        "2. **조건에 맞는 데이터 필터링**:\n",
        "```python\n",
        "preds_df[(preds_df.y_true==0) & (preds_df.y_pred==1)]\n",
        "```\n",
        "- `preds_df`에서 실제 값(`y_true`)이 0이고 예측값(`y_pred`)이 1인 행만 선택합니다. 이는 모델이 Negative(0)로 분류해야 하는 샘플을 Positive(1)로 잘못 예측한 경우를 나타냅니다.\n",
        "\n",
        "3. **값의 빈도 계산**:\n",
        "```python\n",
        ".value_counts(normalize=True)\n",
        "```\n",
        "- 선택된 행의 각 값의 빈도를 계산합니다.\n",
        "- `normalize=True` 옵션은 결과를 전체 행의 수로 나눠 백분율로 반환하도록 합니다.\n",
        "\n",
        "### 결론:\n",
        "\n",
        "이 코드는 주어진 예측 결과와 실제 라벨을 바탕으로 모델이 Negative 클래스를 Positive로 잘못 분류한 경우의 빈도를 백분율로 계산하고 출력합니다. 이는 모델의 False Positive 비율을 파악하는 데 도움이 됩니다."
      ],
      "metadata": {
        "id": "0aog_mSTW2f7"
      }
    },
    {
      "cell_type": "markdown",
      "source": [
        "실제로 오탐지의 거의 절반(전체 테스트 샘플의 34.72%)이 결국 재입원하였으므로 사전 예방 조치를 취하는 것이 나쁜 것이 아니라고 판단된다.\n",
        "우리가 고려해야 할 잘못된 결과는 나머지 절반에 대한 부분이다."
      ],
      "metadata": {
        "id": "PLKvcIJ-V3iJ"
      }
    },
    {
      "cell_type": "markdown",
      "source": [
        "### 2-2. Error를 주제 그룹으로 나눠보자"
      ],
      "metadata": {
        "id": "xm_LT52DWFHm"
      }
    },
    {
      "cell_type": "markdown",
      "source": [
        "#### 2-2-1. Error를 그룹별로 비교해보기 위해 함수를 하나 만들어보자"
      ],
      "metadata": {
        "id": "z_e2oj1vWGed"
      }
    },
    {
      "cell_type": "code",
      "source": [
        "def set_header_font():\n",
        "    return [dict(selector=\"th\", props=[(\"font-size\", \"14pt\")])]\n",
        "\n",
        "def metrics_by_group(s):\n",
        "    accuracy = metrics.accuracy_score(s.y_true, s.y_pred) * 100\n",
        "    precision = metrics.precision_score(s.y_true, s.y_pred) * 100\n",
        "    recall = metrics.recall_score(s.y_true, s.y_pred) * 100\n",
        "    f1 = metrics.f1_score(s.y_true, s.y_pred) * 100\n",
        "    roc_auc, fnr, fpr = np.nan, np.nan, np.nan\n",
        "    if len(np.unique(s.y_true)) == 2:\n",
        "        roc_auc = metrics.roc_auc_score(s.y_true, s.y_prob) * 100\n",
        "        tn, fp, fn, tp = metrics.confusion_matrix(s.y_true, s.y_pred).ravel()\n",
        "        fnr = (fn/(tp+fn)) * 100\n",
        "        fpr = (fp/(tn+fp)) * 100\n",
        "    support = len(s.y_true)\n",
        "\n",
        "    return pd.Series((support, accuracy, precision, recall, f1, roc_auc, fnr, fpr),\\\n",
        "                 index=['support', 'accuracy', 'precision', 'recall', 'f1', 'roc-auc', 'fnr', 'fpr'])\n",
        "\n",
        "def error_breakdown_by_group(mdl, y_true, y_prob, y_pred, orig_df, group_col, exclude_groups=None):\n",
        "\n",
        "    print(f\"Error breakdown for group '{group_col}'\")\n",
        "\n",
        "    predict_df = pd.DataFrame({group_col: orig_df[group_col].tolist(),\\\n",
        "                              'y_true': y_true,\n",
        "                              'y_pred': y_pred,\n",
        "                              'y_prob': y_prob}, index=y_true.index)\n",
        "    if exclude_groups is not None:\n",
        "        predict_df = predict_df[~predict_df[group_col].isin(exclude_groups)]\n",
        "\n",
        "    group_metrics_df = predict_df.groupby([group_col]).apply(metrics_by_group)\n",
        "\n",
        "    html = group_metrics_df.sort_values(by='support', ascending=False).style.\\\n",
        "            format({'support':'{:,.0f}', 'accuracy':'{:.1f}%', 'precision':'{:.1f}%', 'recall':'{:.1f}%',\\\n",
        "                    'f1':'{:.1f}%', 'roc-auc':'{:.1f}%', 'fnr':'{:.1f}%', 'fpr':'{:.1f}%'}).\\\n",
        "            set_properties(**{'font-size': '13pt'}).set_table_styles(set_header_font()).\\\n",
        "            highlight_max(subset=['accuracy','precision','recall','f1','roc-auc']).\\\n",
        "            highlight_min(subset=['fnr','fpr'])\n",
        "\n",
        "    return html\n",
        "\n",
        "def compare_confusion_matrices(y_true_1, y_pred_1, y_true_2, y_pred_2, group_1, group_2,\\\n",
        "                               plot=True, compare_fpr=False):\n",
        "\n",
        "    conf_matrix_1 = metrics.confusion_matrix(y_true_1, y_pred_1)\n",
        "    conf_matrix_2 = metrics.confusion_matrix(y_true_2, y_pred_2)\n",
        "\n",
        "    if plot:\n",
        "        fig, ax = plt.subplots(1,2,figsize=(12,5))\n",
        "        sns.heatmap(conf_matrix_1/np.sum(conf_matrix_1), annot=True,\\\n",
        "                    fmt='.2%', cmap='Blues', annot_kws={'size':16}, ax=ax[0])\n",
        "        ax[0].set_title(group_1 + ' Confusion Matrix', fontsize=14)\n",
        "        ax[0].set_xlabel('Predicted', fontsize=12)\n",
        "        ax[0].set_ylabel('Observed', fontsize=12)\n",
        "        sns.heatmap(conf_matrix_2/np.sum(conf_matrix_2), annot=True,\\\n",
        "                    fmt='.2%', cmap='Blues', annot_kws={'size':16}, ax=ax[1])\n",
        "        ax[1].set_title(group_2 + ' Confusion Matrix', fontsize=14)\n",
        "        ax[1].set_xlabel('Predicted', fontsize=12)\n",
        "        ax[1].set_ylabel('Observed', fontsize=12)\n",
        "        plt.show()"
      ],
      "metadata": {
        "id": "QV5lK-oAPfa5"
      },
      "execution_count": 67,
      "outputs": []
    },
    {
      "cell_type": "markdown",
      "source": [
        "\n",
        "\n",
        "### 1. `set_header_font` 함수\n",
        "```python\n",
        "def set_header_font():\n",
        "    return [dict(selector=\"th\", props=[(\"font-size\", \"14pt\")])]\n",
        "```\n",
        "- 테이블의 헤더에 대한 폰트 사이즈를 설정하는 함수입니다.\n",
        "- \"14pt\" 크기의 폰트를 사용하도록 설정값을 반환합니다.\n",
        "\n",
        "### 2. `metrics_by_group` 함수\n",
        "```python\n",
        "def metrics_by_group(s):\n",
        "```\n",
        "- 주어진 그룹의 데이터를 기반으로 다양한 평가 지표를 계산하는 함수입니다.\n",
        "\n",
        "```python\n",
        "accuracy = metrics.accuracy_score(s.y_true, s.y_pred) * 100\n",
        "precision = metrics.precision_score(s.y_true, s.y_pred) * 100\n",
        "recall = metrics.recall_score(s.y_true, s.y_pred) * 100\n",
        "f1 = metrics.f1_score(s.y_true, s.y_pred) * 100\n",
        "```\n",
        "- 정확도, 정밀도, 재현율, F1 스코어를 계산합니다.\n",
        "\n",
        "```python\n",
        "if len(np.unique(s.y_true)) == 2:\n",
        "    ...\n",
        "```\n",
        "- 라벨 값이 2개인 경우 (이진 분류)에만 ROC-AUC, FNR, FPR을 계산합니다.\n",
        "\n",
        "### 3. `error_breakdown_by_group` 함수\n",
        "```python\n",
        "def error_breakdown_by_group(mdl, y_true, y_prob, y_pred, orig_df, group_col, exclude_groups=None):\n",
        "```\n",
        "- 주어진 그룹별로 예측 오류를 분석하는 함수입니다.\n",
        "\n",
        "```python\n",
        "predict_df = pd.DataFrame({...})\n",
        "```\n",
        "- 예측 결과와 실제 라벨, 그룹 정보를 포함하는 새로운 데이터프레임을 생성합니다.\n",
        "\n",
        "```python\n",
        "if exclude_groups is not None:\n",
        "    ...\n",
        "```\n",
        "- 제외할 그룹이 지정된 경우 해당 그룹을 데이터프레임에서 제외합니다.\n",
        "\n",
        "```python\n",
        "group_metrics_df = predict_df.groupby([group_col]).apply(metrics_by_group)\n",
        "```\n",
        "- 그룹별로 `metrics_by_group` 함수를 적용하여 각 그룹의 평가 지표를 계산합니다.\n",
        "\n",
        "### 4. `compare_confusion_matrices` 함수\n",
        "```python\n",
        "def compare_confusion_matrices(y_true_1, y_pred_1, y_true_2, y_pred_2, group_1, group_2, plot=True, compare_fpr=False):\n",
        "```\n",
        "- 두 개의 그룹의 혼동 행렬을 비교하는 함수입니다.\n",
        "\n",
        "```python\n",
        "conf_matrix_1 = metrics.confusion_matrix(y_true_1, y_pred_1)\n",
        "conf_matrix_2 = metrics.confusion_matrix(y_true_2, y_pred_2)\n",
        "```\n",
        "- 두 그룹에 대한 혼동 행렬을 계산합니다.\n",
        "\n",
        "```python\n",
        "if plot:\n",
        "    ...\n",
        "```\n",
        "- `plot=True`인 경우, 두 그룹의 혼동 행렬을 히트맵으로 시각화하여 표시합니다.\n",
        "\n",
        "### 결론:\n",
        "이 코드는 주어진 데이터의 그룹별 예측 오류와 성능 지표를 분석하고 시각화하는 여러 유틸리티 함수들을 정의합니다. 각 함수는 특정 평가 지표를 계산하거나, 그룹별 예측 오류를 분석하거나, 혼동 행렬을 비교 및 시각화하는 역할을 수행합니다."
      ],
      "metadata": {
        "id": "0m0-ZJ7kXgjs"
      }
    },
    {
      "cell_type": "markdown",
      "source": [
        "#### 2-2-2. 그룹 별 에러 분석"
      ],
      "metadata": {
        "id": "us-X0rJGXNfI"
      }
    },
    {
      "cell_type": "code",
      "source": [],
      "metadata": {
        "id": "FgW-D15mSin_"
      },
      "execution_count": null,
      "outputs": []
    },
    {
      "cell_type": "code",
      "source": [],
      "metadata": {
        "id": "LtJ6ZcFxSilj"
      },
      "execution_count": null,
      "outputs": []
    },
    {
      "cell_type": "code",
      "source": [],
      "metadata": {
        "id": "VJAIivQiSijI"
      },
      "execution_count": null,
      "outputs": []
    },
    {
      "cell_type": "code",
      "source": [],
      "metadata": {
        "id": "JmjFwdoNSigb"
      },
      "execution_count": null,
      "outputs": []
    }
  ]
}